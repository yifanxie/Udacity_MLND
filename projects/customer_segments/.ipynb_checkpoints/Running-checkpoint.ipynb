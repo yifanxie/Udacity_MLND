{
 "cells": [
  {
   "cell_type": "code",
   "execution_count": 2,
   "metadata": {
    "collapsed": true
   },
   "outputs": [],
   "source": [
    "import numpy as np\n",
    "import pandas as pd\n",
    "from IPython.display import display\n",
    "import visuals as vs"
   ]
  },
  {
   "cell_type": "code",
   "execution_count": 3,
   "metadata": {
    "collapsed": false
   },
   "outputs": [
    {
     "name": "stdout",
     "output_type": "stream",
     "text": [
      "Chosen samples of wholesale customers dataset:\n"
     ]
    },
    {
     "data": {
      "text/html": [
       "<div>\n",
       "<table border=\"1\" class=\"dataframe\">\n",
       "  <thead>\n",
       "    <tr style=\"text-align: right;\">\n",
       "      <th></th>\n",
       "      <th>Fresh</th>\n",
       "      <th>Milk</th>\n",
       "      <th>Grocery</th>\n",
       "      <th>Frozen</th>\n",
       "      <th>Detergents_Paper</th>\n",
       "      <th>Delicatessen</th>\n",
       "    </tr>\n",
       "  </thead>\n",
       "  <tbody>\n",
       "    <tr>\n",
       "      <th>0</th>\n",
       "      <td>13265</td>\n",
       "      <td>1196</td>\n",
       "      <td>4221</td>\n",
       "      <td>6404</td>\n",
       "      <td>507</td>\n",
       "      <td>1788</td>\n",
       "    </tr>\n",
       "    <tr>\n",
       "      <th>1</th>\n",
       "      <td>11594</td>\n",
       "      <td>7779</td>\n",
       "      <td>12144</td>\n",
       "      <td>3252</td>\n",
       "      <td>8035</td>\n",
       "      <td>3029</td>\n",
       "    </tr>\n",
       "    <tr>\n",
       "      <th>2</th>\n",
       "      <td>3521</td>\n",
       "      <td>1099</td>\n",
       "      <td>1997</td>\n",
       "      <td>1796</td>\n",
       "      <td>173</td>\n",
       "      <td>995</td>\n",
       "    </tr>\n",
       "  </tbody>\n",
       "</table>\n",
       "</div>"
      ],
      "text/plain": [
       "   Fresh  Milk  Grocery  Frozen  Detergents_Paper  Delicatessen\n",
       "0  13265  1196     4221    6404               507          1788\n",
       "1  11594  7779    12144    3252              8035          3029\n",
       "2   3521  1099     1997    1796               173           995"
      ]
     },
     "metadata": {},
     "output_type": "display_data"
    }
   ],
   "source": [
    "data=pd.read_csv('customers.csv')\n",
    "data.drop(['Region', 'Channel'], axis = 1, inplace = True)\n",
    "\n",
    "# TODO: Select three indices of your choice you wish to sample from the dataset\n",
    "indices = [3,100, 350]\n",
    "\n",
    "# Create a DataFrame of the chosen samples\n",
    "samples = pd.DataFrame(data.loc[indices], columns = data.keys()).reset_index(drop = True)\n",
    "print \"Chosen samples of wholesale customers dataset:\"\n",
    "display(samples)"
   ]
  },
  {
   "cell_type": "markdown",
   "metadata": {},
   "source": [
    "# 26/02/2017"
   ]
  },
  {
   "cell_type": "code",
   "execution_count": 8,
   "metadata": {
    "collapsed": false
   },
   "outputs": [
    {
     "data": {
      "image/png": "[encoded data removed]",
      "text/plain": [
       "<matplotlib.figure.Figure at 0x7f5e4147c350>"
      ]
     },
     "metadata": {},
     "output_type": "display_data"
    }
   ],
   "source": [
    "log_data=np.log(data)\n",
    "log_samples=np.log(samples)\n",
    "good_data = log_data.drop(log_data.index[154]).reset_index(drop = True)\n",
    "good_data.shape\n",
    "\n",
    "from sklearn.decomposition import PCA\n",
    "\n",
    "focus_PCs=['PC1', 'PC2', 'PC3', 'PC4']\n",
    "PCs=['PC1', 'PC2', 'PC3', 'PC4','PC5','PC6']\n",
    "\n",
    "\n",
    "pca=PCA()\n",
    "pca.fit(good_data)\n",
    "\n",
    "pca_results=vs.pca_results(good_data, pca)\n",
    "\n",
    "pca_good_data=pd.DataFrame(pca.fit_transform(good_data), columns=['PC1','PC2','PC3','PC4','PC5','PC6'])\n",
    "pca_samples=pca.transform(log_samples)"
   ]
  },
  {
   "cell_type": "code",
   "execution_count": 9,
   "metadata": {
    "collapsed": false
   },
   "outputs": [
    {
     "data": {
      "text/html": [
       "<div>\n",
       "<table border=\"1\" class=\"dataframe\">\n",
       "  <thead>\n",
       "    <tr style=\"text-align: right;\">\n",
       "      <th></th>\n",
       "      <th>Dimension 1</th>\n",
       "      <th>Dimension 2</th>\n",
       "      <th>Dimension 3</th>\n",
       "      <th>Dimension 4</th>\n",
       "      <th>Dimension 5</th>\n",
       "      <th>Dimension 6</th>\n",
       "    </tr>\n",
       "  </thead>\n",
       "  <tbody>\n",
       "    <tr>\n",
       "      <th>0</th>\n",
       "      <td>-1.2209</td>\n",
       "      <td>1.3733</td>\n",
       "      <td>-0.5280</td>\n",
       "      <td>0.4726</td>\n",
       "      <td>0.6767</td>\n",
       "      <td>0.6650</td>\n",
       "    </tr>\n",
       "    <tr>\n",
       "      <th>1</th>\n",
       "      <td>2.2551</td>\n",
       "      <td>1.9035</td>\n",
       "      <td>-0.2151</td>\n",
       "      <td>0.3226</td>\n",
       "      <td>0.5865</td>\n",
       "      <td>-0.0564</td>\n",
       "    </tr>\n",
       "    <tr>\n",
       "      <th>2</th>\n",
       "      <td>-1.9297</td>\n",
       "      <td>-0.6074</td>\n",
       "      <td>-0.9178</td>\n",
       "      <td>-0.2328</td>\n",
       "      <td>0.2381</td>\n",
       "      <td>0.2466</td>\n",
       "    </tr>\n",
       "  </tbody>\n",
       "</table>\n",
       "</div>"
      ],
      "text/plain": [
       "   Dimension 1  Dimension 2  Dimension 3  Dimension 4  Dimension 5  \\\n",
       "0      -1.2209       1.3733      -0.5280       0.4726       0.6767   \n",
       "1       2.2551       1.9035      -0.2151       0.3226       0.5865   \n",
       "2      -1.9297      -0.6074      -0.9178      -0.2328       0.2381   \n",
       "\n",
       "   Dimension 6  \n",
       "0       0.6650  \n",
       "1      -0.0564  \n",
       "2       0.2466  "
      ]
     },
     "metadata": {},
     "output_type": "display_data"
    }
   ],
   "source": [
    "display(pd.DataFrame(np.round(pca_samples, 4), columns = pca_results.index.values))"
   ]
  },
  {
   "cell_type": "code",
   "execution_count": 10,
   "metadata": {
    "collapsed": true
   },
   "outputs": [],
   "source": [
    "pca=PCA(n_components=2)\n",
    "pca.fit(good_data)\n",
    "reduced_data=pca.transform(good_data)\n",
    "pca_samples=pca.transform(log_samples)\n",
    "\n"
   ]
  },
  {
   "cell_type": "code",
   "execution_count": 37,
   "metadata": {
    "collapsed": false
   },
   "outputs": [
    {
     "name": "stdout",
     "output_type": "stream",
     "text": [
      "0.396936632285\n"
     ]
    }
   ],
   "source": [
    "from sklearn.cluster import KMeans\n",
    "from sklearn.mixture import GMM\n",
    "from sklearn.metrics import silhouette_score\n",
    "\n",
    "k=3\n",
    "\n",
    "clusterer=KMeans(n_clusters=k, random_state=0)\n",
    "preds=clusterer.fit_predict(reduced_data)\n",
    "\n",
    "score=silhouette_score(reduced_data,preds)\n",
    "\n",
    "print(score)"
   ]
  },
  {
   "cell_type": "code",
   "execution_count": 19,
   "metadata": {
    "collapsed": false
   },
   "outputs": [
    {
     "data": {
      "text/plain": [
       "array([0, 0, 0, 2, 0, 0, 0, 0, 0, 0, 0, 2, 0, 0, 0, 2, 1, 2, 0, 0, 0, 2, 0,\n",
       "       0, 0, 1, 2, 2, 0, 2, 0, 2, 2, 2, 2, 1, 0, 0, 1, 2, 0, 0, 1, 1, 1, 0,\n",
       "       0, 0, 0, 0, 2, 1, 0, 1, 2, 0, 0, 1, 2, 1, 1, 0, 0, 0, 2, 1, 1, 0, 0,\n",
       "       2, 2, 0, 2, 0, 0, 2, 2, 0, 2, 1, 2, 1, 0, 2, 0, 0, 0, 0, 2, 0, 2, 2,\n",
       "       0, 2, 1, 1, 1, 2, 2, 2, 0, 0, 0, 0, 2, 2, 1, 0, 1, 1, 2, 0, 2, 2, 2,\n",
       "       2, 2, 2, 2, 2, 2, 2, 2, 0, 2, 0, 2, 0, 1, 2, 2, 2, 2, 2, 2, 2, 0, 1,\n",
       "       2, 2, 0, 2, 2, 2, 2, 0, 2, 2, 2, 2, 2, 2, 2, 2, 1, 0, 2, 0, 1, 1, 2,\n",
       "       2, 0, 0, 0, 0, 1, 2, 2, 1, 1, 1, 1, 2, 1, 0, 2, 2, 2, 0, 0, 1, 0, 1,\n",
       "       2, 2, 1, 0, 1, 2, 2, 2, 1, 2, 2, 0, 0, 2, 2, 0, 0, 0, 1, 2, 1, 2, 1,\n",
       "       1, 0, 2, 0, 2, 0, 1, 0, 1, 2, 1, 2, 2, 1, 2, 2, 2, 2, 0, 2, 1, 2, 0,\n",
       "       1, 2, 1, 2, 1, 2, 2, 2, 0, 2, 2, 2, 0, 0, 1, 2, 2, 2, 2, 2, 0, 2, 0,\n",
       "       0, 2, 2, 0, 0, 0, 2, 2, 2, 0, 1, 0, 1, 2, 0, 2, 2, 2, 2, 2, 2, 2, 0,\n",
       "       2, 2, 0, 2, 0, 0, 2, 0, 2, 2, 2, 2, 2, 2, 2, 2, 0, 0, 1, 2, 0, 0, 1,\n",
       "       0, 0, 1, 1, 1, 1, 0, 2, 2, 1, 2, 2, 1, 2, 2, 0, 2, 1, 2, 0, 2, 2, 2,\n",
       "       0, 2, 0, 2, 2, 2, 2, 2, 0, 2, 1, 2, 0, 2, 2, 2, 2, 1, 0, 1, 1, 2, 1,\n",
       "       0, 0, 2, 0, 2, 0, 2, 1, 0, 1, 2, 1, 0, 2, 2, 2, 2, 1, 2, 0, 2, 2, 2,\n",
       "       2, 0, 2, 2, 0, 2, 2, 0, 2, 2, 1, 2, 2, 0, 2, 0, 2, 2, 2, 2, 2, 2, 2,\n",
       "       2, 2, 2, 2, 0, 2, 2, 2, 2, 2, 2, 2, 2, 2, 0, 0, 0, 0, 0, 2, 1, 0, 2,\n",
       "       0, 0, 0, 1, 0, 1, 0, 2, 0, 0, 2, 0, 0, 2, 2, 2, 0, 2, 2, 0, 0, 2, 0,\n",
       "       2, 1], dtype=int32)"
      ]
     },
     "execution_count": 19,
     "metadata": {},
     "output_type": "execute_result"
    }
   ],
   "source": [
    "preds"
   ]
  },
  {
   "cell_type": "code",
   "execution_count": null,
   "metadata": {
    "collapsed": true
   },
   "outputs": [],
   "source": []
  },
  {
   "cell_type": "markdown",
   "metadata": {},
   "source": [
    "# 25/02/2017"
   ]
  },
  {
   "cell_type": "code",
   "execution_count": 61,
   "metadata": {
    "collapsed": false,
    "scrolled": false
   },
   "outputs": [
    {
     "data": {
      "text/html": [
       "<div>\n",
       "<table border=\"1\" class=\"dataframe\">\n",
       "  <thead>\n",
       "    <tr style=\"text-align: right;\">\n",
       "      <th></th>\n",
       "      <th>PC1</th>\n",
       "      <th>PC2</th>\n",
       "      <th>PC3</th>\n",
       "      <th>PC4</th>\n",
       "      <th>PC5</th>\n",
       "      <th>PC6</th>\n",
       "    </tr>\n",
       "  </thead>\n",
       "  <tbody>\n",
       "    <tr>\n",
       "      <th>Fresh</th>\n",
       "      <td>-0.304280</td>\n",
       "      <td>0.792324</td>\n",
       "      <td>0.506621</td>\n",
       "      <td>-0.151240</td>\n",
       "      <td>0.000320</td>\n",
       "      <td>0.009902</td>\n",
       "    </tr>\n",
       "    <tr>\n",
       "      <th>Milk</th>\n",
       "      <td>0.785729</td>\n",
       "      <td>0.289863</td>\n",
       "      <td>-0.037424</td>\n",
       "      <td>0.019230</td>\n",
       "      <td>-0.480865</td>\n",
       "      <td>-0.256142</td>\n",
       "    </tr>\n",
       "    <tr>\n",
       "      <th>Grocery</th>\n",
       "      <td>0.887688</td>\n",
       "      <td>0.144322</td>\n",
       "      <td>0.030507</td>\n",
       "      <td>0.061115</td>\n",
       "      <td>-0.223930</td>\n",
       "      <td>0.369283</td>\n",
       "    </tr>\n",
       "    <tr>\n",
       "      <th>Frozen</th>\n",
       "      <td>-0.344498</td>\n",
       "      <td>0.628622</td>\n",
       "      <td>-0.247266</td>\n",
       "      <td>0.651637</td>\n",
       "      <td>0.018446</td>\n",
       "      <td>0.006615</td>\n",
       "    </tr>\n",
       "    <tr>\n",
       "      <th>Detergents_Paper</th>\n",
       "      <td>0.949523</td>\n",
       "      <td>0.084835</td>\n",
       "      <td>0.141703</td>\n",
       "      <td>0.114980</td>\n",
       "      <td>0.233179</td>\n",
       "      <td>-0.059466</td>\n",
       "    </tr>\n",
       "    <tr>\n",
       "      <th>Delicatessen</th>\n",
       "      <td>0.203032</td>\n",
       "      <td>0.679313</td>\n",
       "      <td>-0.572194</td>\n",
       "      <td>-0.398311</td>\n",
       "      <td>0.105733</td>\n",
       "      <td>0.008695</td>\n",
       "    </tr>\n",
       "  </tbody>\n",
       "</table>\n",
       "</div>"
      ],
      "text/plain": [
       "                       PC1       PC2       PC3       PC4       PC5       PC6\n",
       "Fresh            -0.304280  0.792324  0.506621 -0.151240  0.000320  0.009902\n",
       "Milk              0.785729  0.289863 -0.037424  0.019230 -0.480865 -0.256142\n",
       "Grocery           0.887688  0.144322  0.030507  0.061115 -0.223930  0.369283\n",
       "Frozen           -0.344498  0.628622 -0.247266  0.651637  0.018446  0.006615\n",
       "Detergents_Paper  0.949523  0.084835  0.141703  0.114980  0.233179 -0.059466\n",
       "Delicatessen      0.203032  0.679313 -0.572194 -0.398311  0.105733  0.008695"
      ]
     },
     "execution_count": 61,
     "metadata": {},
     "output_type": "execute_result"
    },
    {
     "data": {
      "image/png": "[encoded data removed]",
      "text/plain": [
       "<matplotlib.figure.Figure at 0xc2c3518>"
      ]
     },
     "metadata": {},
     "output_type": "display_data"
    }
   ],
   "source": [
    "from sklearn.decomposition import PCA\n",
    "\n",
    "focus_PCs=['PC1', 'PC2', 'PC3', 'PC4']\n",
    "PCs=['PC1', 'PC2', 'PC3', 'PC4','PC5','PC6']\n",
    "\n",
    "\n",
    "pca=PCA()\n",
    "# pca.fit(good_data)\n",
    "pca_good_data=pd.DataFrame(pca.fit_transform(good_data), columns=['PC1','PC2','PC3','PC4','PC5','PC6'])\n",
    "pca_samples=pca.transform(log_samples)\n",
    "\n",
    "pca_results=vs.pca_results(good_data, pca)\n",
    "\n",
    "# display(pca_good_data.head(5))\n",
    "\n",
    "\n",
    "t=pd.concat([good_data, pca_good_data], axis=1)\n",
    "# t.corr().filter(focus_PCs).drop(PCs)\n",
    "t.corr().filter(PCs).drop(PCs)"
   ]
  },
  {
   "cell_type": "code",
   "execution_count": 29,
   "metadata": {
    "collapsed": false
   },
   "outputs": [
    {
     "data": {
      "text/plain": [
       "0.71422754891789531"
      ]
     },
     "execution_count": 29,
     "metadata": {},
     "output_type": "execute_result"
    }
   ],
   "source": [
    "pca.explained_variance_ratio_[0:2].sum()"
   ]
  },
  {
   "cell_type": "code",
   "execution_count": 30,
   "metadata": {
    "collapsed": false
   },
   "outputs": [
    {
     "data": {
      "text/plain": [
       "0.83222920421386326"
      ]
     },
     "execution_count": 30,
     "metadata": {},
     "output_type": "execute_result"
    }
   ],
   "source": [
    "pca.explained_variance_ratio_[0:3].sum()"
   ]
  },
  {
   "cell_type": "code",
   "execution_count": 31,
   "metadata": {
    "collapsed": false
   },
   "outputs": [
    {
     "data": {
      "text/plain": [
       "0.93006291770747829"
      ]
     },
     "execution_count": 31,
     "metadata": {},
     "output_type": "execute_result"
    }
   ],
   "source": [
    "pca.explained_variance_ratio_[0:4].sum()"
   ]
  },
  {
   "cell_type": "code",
   "execution_count": 56,
   "metadata": {
    "collapsed": false,
    "scrolled": true
   },
   "outputs": [
    {
     "data": {
      "text/plain": [
       "(6L, 6L)"
      ]
     },
     "execution_count": 56,
     "metadata": {},
     "output_type": "execute_result"
    }
   ],
   "source": [
    "pca.components_.shape"
   ]
  },
  {
   "cell_type": "code",
   "execution_count": 52,
   "metadata": {
    "collapsed": false
   },
   "outputs": [],
   "source": [
    "\n"
   ]
  },
  {
   "cell_type": "code",
   "execution_count": 55,
   "metadata": {
    "collapsed": false
   },
   "outputs": [
    {
     "data": {
      "text/html": [
       "<div>\n",
       "<table border=\"1\" class=\"dataframe\">\n",
       "  <thead>\n",
       "    <tr style=\"text-align: right;\">\n",
       "      <th></th>\n",
       "      <th>Fresh</th>\n",
       "      <th>Milk</th>\n",
       "      <th>Grocery</th>\n",
       "      <th>Frozen</th>\n",
       "      <th>Detergents_Paper</th>\n",
       "      <th>Delicatessen</th>\n",
       "      <th>PC1</th>\n",
       "      <th>PC2</th>\n",
       "      <th>PC3</th>\n",
       "      <th>PC4</th>\n",
       "      <th>PC5</th>\n",
       "      <th>PC6</th>\n",
       "    </tr>\n",
       "  </thead>\n",
       "  <tbody>\n",
       "    <tr>\n",
       "      <th>Fresh</th>\n",
       "      <td>1.000000</td>\n",
       "      <td>-0.033975</td>\n",
       "      <td>-0.145959</td>\n",
       "      <td>0.379144</td>\n",
       "      <td>-0.167818</td>\n",
       "      <td>0.246932</td>\n",
       "      <td>-3.042800e-01</td>\n",
       "      <td>7.923239e-01</td>\n",
       "      <td>5.066209e-01</td>\n",
       "      <td>-1.512402e-01</td>\n",
       "      <td>3.201409e-04</td>\n",
       "      <td>9.901719e-03</td>\n",
       "    </tr>\n",
       "    <tr>\n",
       "      <th>Milk</th>\n",
       "      <td>-0.033975</td>\n",
       "      <td>1.000000</td>\n",
       "      <td>0.752441</td>\n",
       "      <td>-0.077248</td>\n",
       "      <td>0.670671</td>\n",
       "      <td>0.317119</td>\n",
       "      <td>7.857288e-01</td>\n",
       "      <td>2.898628e-01</td>\n",
       "      <td>-3.742397e-02</td>\n",
       "      <td>1.923031e-02</td>\n",
       "      <td>-4.808647e-01</td>\n",
       "      <td>-2.561417e-01</td>\n",
       "    </tr>\n",
       "    <tr>\n",
       "      <th>Grocery</th>\n",
       "      <td>-0.145959</td>\n",
       "      <td>0.752441</td>\n",
       "      <td>1.000000</td>\n",
       "      <td>-0.184490</td>\n",
       "      <td>0.792299</td>\n",
       "      <td>0.216004</td>\n",
       "      <td>8.876885e-01</td>\n",
       "      <td>1.443217e-01</td>\n",
       "      <td>3.050725e-02</td>\n",
       "      <td>6.111519e-02</td>\n",
       "      <td>-2.239297e-01</td>\n",
       "      <td>3.692833e-01</td>\n",
       "    </tr>\n",
       "    <tr>\n",
       "      <th>Frozen</th>\n",
       "      <td>0.379144</td>\n",
       "      <td>-0.077248</td>\n",
       "      <td>-0.184490</td>\n",
       "      <td>1.000000</td>\n",
       "      <td>-0.229985</td>\n",
       "      <td>0.241024</td>\n",
       "      <td>-3.444983e-01</td>\n",
       "      <td>6.286222e-01</td>\n",
       "      <td>-2.472661e-01</td>\n",
       "      <td>6.516367e-01</td>\n",
       "      <td>1.844592e-02</td>\n",
       "      <td>6.614909e-03</td>\n",
       "    </tr>\n",
       "    <tr>\n",
       "      <th>Detergents_Paper</th>\n",
       "      <td>-0.167818</td>\n",
       "      <td>0.670671</td>\n",
       "      <td>0.792299</td>\n",
       "      <td>-0.229985</td>\n",
       "      <td>1.000000</td>\n",
       "      <td>0.147671</td>\n",
       "      <td>9.495232e-01</td>\n",
       "      <td>8.483518e-02</td>\n",
       "      <td>1.417029e-01</td>\n",
       "      <td>1.149805e-01</td>\n",
       "      <td>2.331786e-01</td>\n",
       "      <td>-5.946627e-02</td>\n",
       "    </tr>\n",
       "    <tr>\n",
       "      <th>Delicatessen</th>\n",
       "      <td>0.246932</td>\n",
       "      <td>0.317119</td>\n",
       "      <td>0.216004</td>\n",
       "      <td>0.241024</td>\n",
       "      <td>0.147671</td>\n",
       "      <td>1.000000</td>\n",
       "      <td>2.030319e-01</td>\n",
       "      <td>6.793125e-01</td>\n",
       "      <td>-5.721936e-01</td>\n",
       "      <td>-3.983113e-01</td>\n",
       "      <td>1.057334e-01</td>\n",
       "      <td>8.695346e-03</td>\n",
       "    </tr>\n",
       "    <tr>\n",
       "      <th>PC1</th>\n",
       "      <td>-0.304280</td>\n",
       "      <td>0.785729</td>\n",
       "      <td>0.887688</td>\n",
       "      <td>-0.344498</td>\n",
       "      <td>0.949523</td>\n",
       "      <td>0.203032</td>\n",
       "      <td>1.000000e+00</td>\n",
       "      <td>-1.445081e-16</td>\n",
       "      <td>1.429890e-16</td>\n",
       "      <td>-1.399285e-16</td>\n",
       "      <td>-5.612638e-17</td>\n",
       "      <td>2.581741e-17</td>\n",
       "    </tr>\n",
       "    <tr>\n",
       "      <th>PC2</th>\n",
       "      <td>0.792324</td>\n",
       "      <td>0.289863</td>\n",
       "      <td>0.144322</td>\n",
       "      <td>0.628622</td>\n",
       "      <td>0.084835</td>\n",
       "      <td>0.679313</td>\n",
       "      <td>-1.445081e-16</td>\n",
       "      <td>1.000000e+00</td>\n",
       "      <td>3.479734e-16</td>\n",
       "      <td>-3.579147e-17</td>\n",
       "      <td>-8.597835e-17</td>\n",
       "      <td>-1.467473e-16</td>\n",
       "    </tr>\n",
       "    <tr>\n",
       "      <th>PC3</th>\n",
       "      <td>0.506621</td>\n",
       "      <td>-0.037424</td>\n",
       "      <td>0.030507</td>\n",
       "      <td>-0.247266</td>\n",
       "      <td>0.141703</td>\n",
       "      <td>-0.572194</td>\n",
       "      <td>1.429890e-16</td>\n",
       "      <td>3.479734e-16</td>\n",
       "      <td>1.000000e+00</td>\n",
       "      <td>-3.087090e-16</td>\n",
       "      <td>1.080550e-17</td>\n",
       "      <td>1.489260e-16</td>\n",
       "    </tr>\n",
       "    <tr>\n",
       "      <th>PC4</th>\n",
       "      <td>-0.151240</td>\n",
       "      <td>0.019230</td>\n",
       "      <td>0.061115</td>\n",
       "      <td>0.651637</td>\n",
       "      <td>0.114980</td>\n",
       "      <td>-0.398311</td>\n",
       "      <td>-1.399285e-16</td>\n",
       "      <td>-3.579147e-17</td>\n",
       "      <td>-3.087090e-16</td>\n",
       "      <td>1.000000e+00</td>\n",
       "      <td>5.322745e-17</td>\n",
       "      <td>-2.389318e-16</td>\n",
       "    </tr>\n",
       "    <tr>\n",
       "      <th>PC5</th>\n",
       "      <td>0.000320</td>\n",
       "      <td>-0.480865</td>\n",
       "      <td>-0.223930</td>\n",
       "      <td>0.018446</td>\n",
       "      <td>0.233179</td>\n",
       "      <td>0.105733</td>\n",
       "      <td>-5.612638e-17</td>\n",
       "      <td>-8.597835e-17</td>\n",
       "      <td>1.080550e-17</td>\n",
       "      <td>5.322745e-17</td>\n",
       "      <td>1.000000e+00</td>\n",
       "      <td>5.485086e-17</td>\n",
       "    </tr>\n",
       "    <tr>\n",
       "      <th>PC6</th>\n",
       "      <td>0.009902</td>\n",
       "      <td>-0.256142</td>\n",
       "      <td>0.369283</td>\n",
       "      <td>0.006615</td>\n",
       "      <td>-0.059466</td>\n",
       "      <td>0.008695</td>\n",
       "      <td>2.581741e-17</td>\n",
       "      <td>-1.467473e-16</td>\n",
       "      <td>1.489260e-16</td>\n",
       "      <td>-2.389318e-16</td>\n",
       "      <td>5.485086e-17</td>\n",
       "      <td>1.000000e+00</td>\n",
       "    </tr>\n",
       "  </tbody>\n",
       "</table>\n",
       "</div>"
      ],
      "text/plain": [
       "                     Fresh      Milk   Grocery    Frozen  Detergents_Paper  \\\n",
       "Fresh             1.000000 -0.033975 -0.145959  0.379144         -0.167818   \n",
       "Milk             -0.033975  1.000000  0.752441 -0.077248          0.670671   \n",
       "Grocery          -0.145959  0.752441  1.000000 -0.184490          0.792299   \n",
       "Frozen            0.379144 -0.077248 -0.184490  1.000000         -0.229985   \n",
       "Detergents_Paper -0.167818  0.670671  0.792299 -0.229985          1.000000   \n",
       "Delicatessen      0.246932  0.317119  0.216004  0.241024          0.147671   \n",
       "PC1              -0.304280  0.785729  0.887688 -0.344498          0.949523   \n",
       "PC2               0.792324  0.289863  0.144322  0.628622          0.084835   \n",
       "PC3               0.506621 -0.037424  0.030507 -0.247266          0.141703   \n",
       "PC4              -0.151240  0.019230  0.061115  0.651637          0.114980   \n",
       "PC5               0.000320 -0.480865 -0.223930  0.018446          0.233179   \n",
       "PC6               0.009902 -0.256142  0.369283  0.006615         -0.059466   \n",
       "\n",
       "                  Delicatessen           PC1           PC2           PC3  \\\n",
       "Fresh                 0.246932 -3.042800e-01  7.923239e-01  5.066209e-01   \n",
       "Milk                  0.317119  7.857288e-01  2.898628e-01 -3.742397e-02   \n",
       "Grocery               0.216004  8.876885e-01  1.443217e-01  3.050725e-02   \n",
       "Frozen                0.241024 -3.444983e-01  6.286222e-01 -2.472661e-01   \n",
       "Detergents_Paper      0.147671  9.495232e-01  8.483518e-02  1.417029e-01   \n",
       "Delicatessen          1.000000  2.030319e-01  6.793125e-01 -5.721936e-01   \n",
       "PC1                   0.203032  1.000000e+00 -1.445081e-16  1.429890e-16   \n",
       "PC2                   0.679313 -1.445081e-16  1.000000e+00  3.479734e-16   \n",
       "PC3                  -0.572194  1.429890e-16  3.479734e-16  1.000000e+00   \n",
       "PC4                  -0.398311 -1.399285e-16 -3.579147e-17 -3.087090e-16   \n",
       "PC5                   0.105733 -5.612638e-17 -8.597835e-17  1.080550e-17   \n",
       "PC6                   0.008695  2.581741e-17 -1.467473e-16  1.489260e-16   \n",
       "\n",
       "                           PC4           PC5           PC6  \n",
       "Fresh            -1.512402e-01  3.201409e-04  9.901719e-03  \n",
       "Milk              1.923031e-02 -4.808647e-01 -2.561417e-01  \n",
       "Grocery           6.111519e-02 -2.239297e-01  3.692833e-01  \n",
       "Frozen            6.516367e-01  1.844592e-02  6.614909e-03  \n",
       "Detergents_Paper  1.149805e-01  2.331786e-01 -5.946627e-02  \n",
       "Delicatessen     -3.983113e-01  1.057334e-01  8.695346e-03  \n",
       "PC1              -1.399285e-16 -5.612638e-17  2.581741e-17  \n",
       "PC2              -3.579147e-17 -8.597835e-17 -1.467473e-16  \n",
       "PC3              -3.087090e-16  1.080550e-17  1.489260e-16  \n",
       "PC4               1.000000e+00  5.322745e-17 -2.389318e-16  \n",
       "PC5               5.322745e-17  1.000000e+00  5.485086e-17  \n",
       "PC6              -2.389318e-16  5.485086e-17  1.000000e+00  "
      ]
     },
     "execution_count": 55,
     "metadata": {},
     "output_type": "execute_result"
    }
   ],
   "source": [
    "t.corr()"
   ]
  },
  {
   "cell_type": "code",
   "execution_count": 27,
   "metadata": {
    "collapsed": false
   },
   "outputs": [
    {
     "data": {
      "text/plain": [
       "(439L, 6L)"
      ]
     },
     "execution_count": 27,
     "metadata": {},
     "output_type": "execute_result"
    }
   ],
   "source": [
    "pca_good_data.shape"
   ]
  },
  {
   "cell_type": "code",
   "execution_count": 5,
   "metadata": {
    "collapsed": false
   },
   "outputs": [
    {
     "data": {
      "text/html": [
       "<div>\n",
       "<table border=\"1\" class=\"dataframe\">\n",
       "  <thead>\n",
       "    <tr style=\"text-align: right;\">\n",
       "      <th></th>\n",
       "      <th>Fresh</th>\n",
       "      <th>Milk</th>\n",
       "      <th>Grocery</th>\n",
       "      <th>Frozen</th>\n",
       "      <th>Detergents_Paper</th>\n",
       "      <th>Delicatessen</th>\n",
       "    </tr>\n",
       "  </thead>\n",
       "  <tbody>\n",
       "    <tr>\n",
       "      <th>0</th>\n",
       "      <td>9.492884</td>\n",
       "      <td>7.086738</td>\n",
       "      <td>8.347827</td>\n",
       "      <td>8.764678</td>\n",
       "      <td>6.228511</td>\n",
       "      <td>7.488853</td>\n",
       "    </tr>\n",
       "    <tr>\n",
       "      <th>1</th>\n",
       "      <td>9.358243</td>\n",
       "      <td>8.959183</td>\n",
       "      <td>9.404590</td>\n",
       "      <td>8.087025</td>\n",
       "      <td>8.991562</td>\n",
       "      <td>8.015988</td>\n",
       "    </tr>\n",
       "    <tr>\n",
       "      <th>2</th>\n",
       "      <td>8.166500</td>\n",
       "      <td>7.002156</td>\n",
       "      <td>7.599401</td>\n",
       "      <td>7.493317</td>\n",
       "      <td>5.153292</td>\n",
       "      <td>6.902743</td>\n",
       "    </tr>\n",
       "  </tbody>\n",
       "</table>\n",
       "</div>"
      ],
      "text/plain": [
       "      Fresh      Milk   Grocery    Frozen  Detergents_Paper  Delicatessen\n",
       "0  9.492884  7.086738  8.347827  8.764678          6.228511      7.488853\n",
       "1  9.358243  8.959183  9.404590  8.087025          8.991562      8.015988\n",
       "2  8.166500  7.002156  7.599401  7.493317          5.153292      6.902743"
      ]
     },
     "execution_count": 5,
     "metadata": {},
     "output_type": "execute_result"
    }
   ],
   "source": [
    "log_samples"
   ]
  },
  {
   "cell_type": "code",
   "execution_count": 14,
   "metadata": {
    "collapsed": false
   },
   "outputs": [
    {
     "data": {
      "text/plain": [
       "array([[ -2.06205947e-01,   3.83612149e-01,   4.49721663e-01,\n",
       "         -2.01923111e-01,   7.43494339e-01,   1.20476041e-01],\n",
       "       [  6.83941936e-01,   1.80260633e-01,   9.31329931e-02,\n",
       "          4.69329017e-01,   8.46129458e-02,   5.13445909e-01],\n",
       "       [  6.64382647e-01,  -3.53571334e-02,   2.99084408e-02,\n",
       "         -2.80460021e-01,   2.14713008e-01,  -6.57032387e-01],\n",
       "       [ -2.17822236e-01,   1.99532320e-02,   6.58020888e-02,\n",
       "          8.11730248e-01,   1.91339006e-01,  -5.02303510e-01],\n",
       "       [  6.68337019e-04,  -7.23217906e-01,  -3.49479400e-01,\n",
       "          3.33062578e-02,   5.62454544e-01,   1.93274784e-01],\n",
       "       [  2.91763762e-02,  -5.43742058e-01,   8.13459520e-01,\n",
       "          1.68583783e-02,  -2.02458420e-01,   2.24344909e-02]])"
      ]
     },
     "execution_count": 14,
     "metadata": {},
     "output_type": "execute_result"
    }
   ],
   "source": [
    "pca.components_"
   ]
  },
  {
   "cell_type": "markdown",
   "metadata": {},
   "source": [
    "#  23/02/2017"
   ]
  },
  {
   "cell_type": "code",
   "execution_count": 338,
   "metadata": {
    "collapsed": false
   },
   "outputs": [],
   "source": [
    "log_data=np.log(data)\n",
    "log_samples=np.log(samples)"
   ]
  },
  {
   "cell_type": "code",
   "execution_count": 387,
   "metadata": {
    "collapsed": true
   },
   "outputs": [
    {
     "name": "stdout",
     "output_type": "stream",
     "text": [
      "Data points considered outliers for the feature 'Fresh':\n",
      "Data points considered outliers for the feature 'Milk':\n",
      "Data points considered outliers for the feature 'Grocery':\n",
      "Data points considered outliers for the feature 'Frozen':\n",
      "Data points considered outliers for the feature 'Detergents_Paper':\n",
      "Data points considered outliers for the feature 'Delicatessen':\n"
     ]
    },
    {
     "data": {
      "text/html": [
       "<div>\n",
       "<table border=\"1\" class=\"dataframe\">\n",
       "  <thead>\n",
       "    <tr style=\"text-align: right;\">\n",
       "      <th></th>\n",
       "      <th>Fresh</th>\n",
       "      <th>Milk</th>\n",
       "      <th>Grocery</th>\n",
       "      <th>Frozen</th>\n",
       "      <th>Detergents_Paper</th>\n",
       "      <th>Delicatessen</th>\n",
       "      <th>outliner_feature_count</th>\n",
       "    </tr>\n",
       "  </thead>\n",
       "  <tbody>\n",
       "    <tr>\n",
       "      <th>65</th>\n",
       "      <td>1</td>\n",
       "      <td>0</td>\n",
       "      <td>0</td>\n",
       "      <td>1</td>\n",
       "      <td>0</td>\n",
       "      <td>0</td>\n",
       "      <td>2</td>\n",
       "    </tr>\n",
       "    <tr>\n",
       "      <th>66</th>\n",
       "      <td>1</td>\n",
       "      <td>0</td>\n",
       "      <td>0</td>\n",
       "      <td>0</td>\n",
       "      <td>0</td>\n",
       "      <td>1</td>\n",
       "      <td>2</td>\n",
       "    </tr>\n",
       "    <tr>\n",
       "      <th>75</th>\n",
       "      <td>0</td>\n",
       "      <td>0</td>\n",
       "      <td>1</td>\n",
       "      <td>0</td>\n",
       "      <td>1</td>\n",
       "      <td>0</td>\n",
       "      <td>2</td>\n",
       "    </tr>\n",
       "    <tr>\n",
       "      <th>128</th>\n",
       "      <td>1</td>\n",
       "      <td>0</td>\n",
       "      <td>0</td>\n",
       "      <td>0</td>\n",
       "      <td>0</td>\n",
       "      <td>1</td>\n",
       "      <td>2</td>\n",
       "    </tr>\n",
       "    <tr>\n",
       "      <th>154</th>\n",
       "      <td>0</td>\n",
       "      <td>1</td>\n",
       "      <td>1</td>\n",
       "      <td>0</td>\n",
       "      <td>0</td>\n",
       "      <td>1</td>\n",
       "      <td>3</td>\n",
       "    </tr>\n",
       "  </tbody>\n",
       "</table>\n",
       "</div>"
      ],
      "text/plain": [
       "     Fresh  Milk  Grocery  Frozen  Detergents_Paper  Delicatessen  \\\n",
       "65       1     0        0       1                 0             0   \n",
       "66       1     0        0       0                 0             1   \n",
       "75       0     0        1       0                 1             0   \n",
       "128      1     0        0       0                 0             1   \n",
       "154      0     1        1       0                 0             1   \n",
       "\n",
       "     outliner_feature_count  \n",
       "65                        2  \n",
       "66                        2  \n",
       "75                        2  \n",
       "128                       2  \n",
       "154                       3  "
      ]
     },
     "metadata": {},
     "output_type": "display_data"
    },
    {
     "data": {
      "text/html": [
       "<div>\n",
       "<table border=\"1\" class=\"dataframe\">\n",
       "  <thead>\n",
       "    <tr style=\"text-align: right;\">\n",
       "      <th></th>\n",
       "      <th>Fresh</th>\n",
       "      <th>Milk</th>\n",
       "      <th>Grocery</th>\n",
       "      <th>Frozen</th>\n",
       "      <th>Detergents_Paper</th>\n",
       "      <th>Delicatessen</th>\n",
       "    </tr>\n",
       "  </thead>\n",
       "  <tbody>\n",
       "    <tr>\n",
       "      <th>65</th>\n",
       "      <td>85</td>\n",
       "      <td>20959</td>\n",
       "      <td>45828</td>\n",
       "      <td>36</td>\n",
       "      <td>24231</td>\n",
       "      <td>1423</td>\n",
       "    </tr>\n",
       "    <tr>\n",
       "      <th>66</th>\n",
       "      <td>9</td>\n",
       "      <td>1534</td>\n",
       "      <td>7417</td>\n",
       "      <td>175</td>\n",
       "      <td>3468</td>\n",
       "      <td>27</td>\n",
       "    </tr>\n",
       "    <tr>\n",
       "      <th>75</th>\n",
       "      <td>20398</td>\n",
       "      <td>1137</td>\n",
       "      <td>3</td>\n",
       "      <td>4407</td>\n",
       "      <td>3</td>\n",
       "      <td>975</td>\n",
       "    </tr>\n",
       "    <tr>\n",
       "      <th>128</th>\n",
       "      <td>140</td>\n",
       "      <td>8847</td>\n",
       "      <td>3823</td>\n",
       "      <td>142</td>\n",
       "      <td>1062</td>\n",
       "      <td>3</td>\n",
       "    </tr>\n",
       "    <tr>\n",
       "      <th>154</th>\n",
       "      <td>622</td>\n",
       "      <td>55</td>\n",
       "      <td>137</td>\n",
       "      <td>75</td>\n",
       "      <td>7</td>\n",
       "      <td>8</td>\n",
       "    </tr>\n",
       "  </tbody>\n",
       "</table>\n",
       "</div>"
      ],
      "text/plain": [
       "     Fresh   Milk  Grocery  Frozen  Detergents_Paper  Delicatessen\n",
       "65      85  20959    45828      36             24231          1423\n",
       "66       9   1534     7417     175              3468            27\n",
       "75   20398   1137        3    4407                 3           975\n",
       "128    140   8847     3823     142              1062             3\n",
       "154    622     55      137      75                 7             8"
      ]
     },
     "metadata": {},
     "output_type": "display_data"
    },
    {
     "data": {
      "text/html": [
       "<div>\n",
       "<table border=\"1\" class=\"dataframe\">\n",
       "  <thead>\n",
       "    <tr style=\"text-align: right;\">\n",
       "      <th></th>\n",
       "      <th>Fresh</th>\n",
       "      <th>Milk</th>\n",
       "      <th>Grocery</th>\n",
       "      <th>Frozen</th>\n",
       "      <th>Detergents_Paper</th>\n",
       "      <th>Delicatessen</th>\n",
       "    </tr>\n",
       "  </thead>\n",
       "  <tbody>\n",
       "    <tr>\n",
       "      <th>65</th>\n",
       "      <td>4.442651</td>\n",
       "      <td>9.950323</td>\n",
       "      <td>10.732651</td>\n",
       "      <td>3.583519</td>\n",
       "      <td>10.095388</td>\n",
       "      <td>7.260523</td>\n",
       "    </tr>\n",
       "    <tr>\n",
       "      <th>66</th>\n",
       "      <td>2.197225</td>\n",
       "      <td>7.335634</td>\n",
       "      <td>8.911530</td>\n",
       "      <td>5.164786</td>\n",
       "      <td>8.151333</td>\n",
       "      <td>3.295837</td>\n",
       "    </tr>\n",
       "    <tr>\n",
       "      <th>75</th>\n",
       "      <td>9.923192</td>\n",
       "      <td>7.036148</td>\n",
       "      <td>1.098612</td>\n",
       "      <td>8.390949</td>\n",
       "      <td>1.098612</td>\n",
       "      <td>6.882437</td>\n",
       "    </tr>\n",
       "    <tr>\n",
       "      <th>128</th>\n",
       "      <td>4.941642</td>\n",
       "      <td>9.087834</td>\n",
       "      <td>8.248791</td>\n",
       "      <td>4.955827</td>\n",
       "      <td>6.967909</td>\n",
       "      <td>1.098612</td>\n",
       "    </tr>\n",
       "    <tr>\n",
       "      <th>154</th>\n",
       "      <td>6.432940</td>\n",
       "      <td>4.007333</td>\n",
       "      <td>4.919981</td>\n",
       "      <td>4.317488</td>\n",
       "      <td>1.945910</td>\n",
       "      <td>2.079442</td>\n",
       "    </tr>\n",
       "  </tbody>\n",
       "</table>\n",
       "</div>"
      ],
      "text/plain": [
       "        Fresh      Milk    Grocery    Frozen  Detergents_Paper  Delicatessen\n",
       "65   4.442651  9.950323  10.732651  3.583519         10.095388      7.260523\n",
       "66   2.197225  7.335634   8.911530  5.164786          8.151333      3.295837\n",
       "75   9.923192  7.036148   1.098612  8.390949          1.098612      6.882437\n",
       "128  4.941642  9.087834   8.248791  4.955827          6.967909      1.098612\n",
       "154  6.432940  4.007333   4.919981  4.317488          1.945910      2.079442"
      ]
     },
     "metadata": {},
     "output_type": "display_data"
    }
   ],
   "source": [
    "log_data=np.log(data)\n",
    "log_samples=np.log(samples)\n",
    "\n",
    "outliers_master_list  = np.array([])\n",
    "\n",
    "data_outliner=pd.DataFrame(data=np.zeros(log_data.shape), columns=log_data.keys()).astype(np.int8)\n",
    "\n",
    "\n",
    "# For each feature find the data points with extreme high or low values\n",
    "for feature in log_data.keys():\n",
    "    \n",
    "    # Calculate Q1 (25th percentile of the data) for the given feature\n",
    "    Q1 = np.percentile(log_data[feature], 25)\n",
    "    \n",
    "    # Calculate Q3 (75th percentile of the data) for the given feature\n",
    "    Q3 = np.percentile(log_data[feature], 75)\n",
    "    \n",
    "    # Use the interquartile range to calculate an outlier step (1.5 times the interquartile range)\n",
    "    step = 1.5*(Q3-Q1)\n",
    "    \n",
    "    # Display the outliers\n",
    "    print \"Data points considered outliers for the feature '{}':\".format(feature)\n",
    "#     display(log_data[~((log_data[feature] >= Q1 - step) & (log_data[feature] <= Q3 + step))].index)\n",
    "\n",
    "    feature_outliner_index=log_data[~((log_data[feature] >= Q1 - step) & (log_data[feature] <= Q3 + step))].index\n",
    "    data_outliner.loc[feature_outliner_index, feature]=1\n",
    "    \n",
    "    # at the loop for each feature, consolidate the identified indices for the outliners \n",
    "    outliers_master_list=np.int16(np.union1d(outliers_master_list, feature_outliner_index.values))\n",
    "\n",
    "data_outliner['outliner_feature_count']=data_outliner.sum(axis=1)\n",
    "\n",
    "display(data_outliner[data_outliner.outliner_feature_count>1])\n",
    "display(data[data_outliner.outliner_feature_count>1])\n",
    "display(log_data[data_outliner.outliner_feature_count>1])\n",
    "    \n",
    "# data_zeros.outliner_feature_count.sort_values(ascending=False)\n",
    "\n",
    "# print(len(outliers))\n",
    "# print(log_data.shape)\n",
    "\n",
    "# good_data = log_data.drop(log_data.index[outliers]).reset_index(drop = True)\n",
    "# print(good_data.shape)"
   ]
  },
  {
   "cell_type": "code",
   "execution_count": 392,
   "metadata": {
    "collapsed": false
   },
   "outputs": [],
   "source": [
    "q1g=np.percentile(log_data['Grocery'], 25)\n",
    "q3g=np.percentile(log_data['Grocery'], 75)\n",
    "gs=1.5*(q3g-q1g)"
   ]
  },
  {
   "cell_type": "code",
   "execution_count": 401,
   "metadata": {
    "collapsed": false
   },
   "outputs": [
    {
     "data": {
      "text/html": [
       "<div>\n",
       "<table border=\"1\" class=\"dataframe\">\n",
       "  <thead>\n",
       "    <tr style=\"text-align: right;\">\n",
       "      <th></th>\n",
       "      <th>Fresh</th>\n",
       "      <th>Milk</th>\n",
       "      <th>Grocery</th>\n",
       "      <th>Frozen</th>\n",
       "      <th>Detergents_Paper</th>\n",
       "      <th>Delicatessen</th>\n",
       "      <th>outliner_feature_count</th>\n",
       "    </tr>\n",
       "  </thead>\n",
       "  <tbody>\n",
       "    <tr>\n",
       "      <th>47</th>\n",
       "      <td>1</td>\n",
       "      <td>1</td>\n",
       "      <td>1</td>\n",
       "      <td>1</td>\n",
       "      <td>1</td>\n",
       "      <td>1</td>\n",
       "      <td>6</td>\n",
       "    </tr>\n",
       "    <tr>\n",
       "      <th>92</th>\n",
       "      <td>0</td>\n",
       "      <td>1</td>\n",
       "      <td>1</td>\n",
       "      <td>0</td>\n",
       "      <td>1</td>\n",
       "      <td>1</td>\n",
       "      <td>4</td>\n",
       "    </tr>\n",
       "    <tr>\n",
       "      <th>181</th>\n",
       "      <td>1</td>\n",
       "      <td>1</td>\n",
       "      <td>0</td>\n",
       "      <td>1</td>\n",
       "      <td>0</td>\n",
       "      <td>1</td>\n",
       "      <td>4</td>\n",
       "    </tr>\n",
       "    <tr>\n",
       "      <th>251</th>\n",
       "      <td>0</td>\n",
       "      <td>1</td>\n",
       "      <td>1</td>\n",
       "      <td>0</td>\n",
       "      <td>1</td>\n",
       "      <td>1</td>\n",
       "      <td>4</td>\n",
       "    </tr>\n",
       "  </tbody>\n",
       "</table>\n",
       "</div>"
      ],
      "text/plain": [
       "     Fresh  Milk  Grocery  Frozen  Detergents_Paper  Delicatessen  \\\n",
       "47       1     1        1       1                 1             1   \n",
       "92       0     1        1       0                 1             1   \n",
       "181      1     1        0       1                 0             1   \n",
       "251      0     1        1       0                 1             1   \n",
       "\n",
       "     outliner_feature_count  \n",
       "47                        6  \n",
       "92                        4  \n",
       "181                       4  \n",
       "251                       4  "
      ]
     },
     "metadata": {},
     "output_type": "display_data"
    },
    {
     "data": {
      "text/html": [
       "<div>\n",
       "<table border=\"1\" class=\"dataframe\">\n",
       "  <thead>\n",
       "    <tr style=\"text-align: right;\">\n",
       "      <th></th>\n",
       "      <th>Fresh</th>\n",
       "      <th>Milk</th>\n",
       "      <th>Grocery</th>\n",
       "      <th>Frozen</th>\n",
       "      <th>Detergents_Paper</th>\n",
       "      <th>Delicatessen</th>\n",
       "    </tr>\n",
       "  </thead>\n",
       "  <tbody>\n",
       "    <tr>\n",
       "      <th>47</th>\n",
       "      <td>44466</td>\n",
       "      <td>54259</td>\n",
       "      <td>55571</td>\n",
       "      <td>7782</td>\n",
       "      <td>24171</td>\n",
       "      <td>6465</td>\n",
       "    </tr>\n",
       "    <tr>\n",
       "      <th>92</th>\n",
       "      <td>9198</td>\n",
       "      <td>27472</td>\n",
       "      <td>32034</td>\n",
       "      <td>3232</td>\n",
       "      <td>18906</td>\n",
       "      <td>5130</td>\n",
       "    </tr>\n",
       "    <tr>\n",
       "      <th>181</th>\n",
       "      <td>112151</td>\n",
       "      <td>29627</td>\n",
       "      <td>18148</td>\n",
       "      <td>16745</td>\n",
       "      <td>4948</td>\n",
       "      <td>8550</td>\n",
       "    </tr>\n",
       "    <tr>\n",
       "      <th>251</th>\n",
       "      <td>6134</td>\n",
       "      <td>23133</td>\n",
       "      <td>33586</td>\n",
       "      <td>6746</td>\n",
       "      <td>18594</td>\n",
       "      <td>5121</td>\n",
       "    </tr>\n",
       "  </tbody>\n",
       "</table>\n",
       "</div>"
      ],
      "text/plain": [
       "      Fresh   Milk  Grocery  Frozen  Detergents_Paper  Delicatessen\n",
       "47    44466  54259    55571    7782             24171          6465\n",
       "92     9198  27472    32034    3232             18906          5130\n",
       "181  112151  29627    18148   16745              4948          8550\n",
       "251    6134  23133    33586    6746             18594          5121"
      ]
     },
     "metadata": {},
     "output_type": "display_data"
    },
    {
     "data": {
      "text/html": [
       "<div>\n",
       "<table border=\"1\" class=\"dataframe\">\n",
       "  <thead>\n",
       "    <tr style=\"text-align: right;\">\n",
       "      <th></th>\n",
       "      <th>Fresh</th>\n",
       "      <th>Milk</th>\n",
       "      <th>Grocery</th>\n",
       "      <th>Frozen</th>\n",
       "      <th>Detergents_Paper</th>\n",
       "      <th>Delicatessen</th>\n",
       "    </tr>\n",
       "  </thead>\n",
       "  <tbody>\n",
       "    <tr>\n",
       "      <th>47</th>\n",
       "      <td>10.702480</td>\n",
       "      <td>10.901524</td>\n",
       "      <td>10.925417</td>\n",
       "      <td>8.959569</td>\n",
       "      <td>10.092909</td>\n",
       "      <td>8.774158</td>\n",
       "    </tr>\n",
       "    <tr>\n",
       "      <th>92</th>\n",
       "      <td>9.126741</td>\n",
       "      <td>10.220923</td>\n",
       "      <td>10.374553</td>\n",
       "      <td>8.080856</td>\n",
       "      <td>9.847235</td>\n",
       "      <td>8.542861</td>\n",
       "    </tr>\n",
       "    <tr>\n",
       "      <th>181</th>\n",
       "      <td>11.627601</td>\n",
       "      <td>10.296441</td>\n",
       "      <td>9.806316</td>\n",
       "      <td>9.725855</td>\n",
       "      <td>8.506739</td>\n",
       "      <td>9.053687</td>\n",
       "    </tr>\n",
       "    <tr>\n",
       "      <th>251</th>\n",
       "      <td>8.721602</td>\n",
       "      <td>10.049015</td>\n",
       "      <td>10.421865</td>\n",
       "      <td>8.816705</td>\n",
       "      <td>9.830594</td>\n",
       "      <td>8.541105</td>\n",
       "    </tr>\n",
       "  </tbody>\n",
       "</table>\n",
       "</div>"
      ],
      "text/plain": [
       "         Fresh       Milk    Grocery    Frozen  Detergents_Paper  Delicatessen\n",
       "47   10.702480  10.901524  10.925417  8.959569         10.092909      8.774158\n",
       "92    9.126741  10.220923  10.374553  8.080856          9.847235      8.542861\n",
       "181  11.627601  10.296441   9.806316  9.725855          8.506739      9.053687\n",
       "251   8.721602  10.049015  10.421865  8.816705          9.830594      8.541105"
      ]
     },
     "metadata": {},
     "output_type": "display_data"
    }
   ],
   "source": [
    "log_data=np.log(data)\n",
    "log_samples=np.log(samples)\n",
    "\n",
    "outliers_master_list  = np.array([])\n",
    "\n",
    "data_outliner=pd.DataFrame(data=np.zeros(log_data.shape), columns=log_data.keys()).astype(np.int8)\n",
    "\n",
    "\n",
    "# For each feature find the data points with extreme high or low values\n",
    "for feature in log_data.keys():\n",
    "    \n",
    "    # Calculate Q1 (25th percentile of the data) for the given feature\n",
    "    Q1 = np.percentile(data[feature], 25)\n",
    "    \n",
    "    # Calculate Q3 (75th percentile of the data) for the given feature\n",
    "    Q3 = np.percentile(data[feature], 75)\n",
    "    \n",
    "    # Use the interquartile range to calculate an outlier step (1.5 times the interquartile range)\n",
    "    step = 1.5*(Q3-Q1)\n",
    "    \n",
    "    # Display the outliers\n",
    "#     print \"Data points considered outliers for the feature '{}':\".format(feature)\n",
    "#     display(log_data[~((log_data[feature] >= Q1 - step) & (log_data[feature] <= Q3 + step))].index)\n",
    "\n",
    "    feature_outliner_index=data[~((data[feature] >= Q1 - step) & (data[feature] <= Q3 + step))].index\n",
    "    data_outliner.loc[feature_outliner_index, feature]=1\n",
    "    \n",
    "    # at the loop for each feature, consolidate the identified indices for the outliners \n",
    "    outliers_master_list=np.int16(np.union1d(outliers_master_list, feature_outliner_index.values))\n",
    "\n",
    "data_outliner['outliner_feature_count']=data_outliner.sum(axis=1)\n",
    "\n",
    "display(data_outliner[data_outliner.outliner_feature_count>3])\n",
    "display(data[data_outliner.outliner_feature_count>3])\n",
    "display(log_data[data_outliner.outliner_feature_count>3])\n",
    "    "
   ]
  },
  {
   "cell_type": "code",
   "execution_count": 405,
   "metadata": {
    "collapsed": true
   },
   "outputs": [],
   "source": [
    "def outliner_identification(data, log_transform=True):\n",
    "    data_outliner=pd.DataFrame(data=np.zeros(data.shape), columns=log_data.keys()).astype(np.int8)\n",
    "    data_values=data.copy(deep=True)\n",
    "    if log_transform: data_values=np.log(data)\n",
    "    \n",
    "    # For each feature find the data points with extreme high or low values\n",
    "    for feature in data.keys():\n",
    "\n",
    "        # Calculate Q1 (25th percentile of the data) for the given feature\n",
    "        Q1 = np.percentile(data_values[feature], 25)\n",
    "\n",
    "        # Calculate Q3 (75th percentile of the data) for the given feature\n",
    "        Q3 = np.percentile(data_values[feature], 75)\n",
    "\n",
    "        # Use the interquartile range to calculate an outlier step (1.5 times the interquartile range)\n",
    "        step = 1.5*(Q3-Q1)\n",
    "\n",
    "        # identify outliner index for a given feature\n",
    "        feature_outliner_index=data[~((data_values[feature] >= Q1 - step) & (data_values[feature] <= Q3 + step))].index\n",
    "\n",
    "        # change the value from zero to 1 for the corresponding cell in the dataframe to indicate outliner status\n",
    "        data_outliner.loc[feature_outliner_index, feature]=1\n",
    "\n",
    "    data_outliner['outliner_feature_count']=data_outliner.sum(axis=1)\n",
    "    \n",
    "    return data_outliner\n",
    "    \n",
    "    "
   ]
  },
  {
   "cell_type": "code",
   "execution_count": 409,
   "metadata": {
    "collapsed": false
   },
   "outputs": [
    {
     "data": {
      "text/html": [
       "<div>\n",
       "<table border=\"1\" class=\"dataframe\">\n",
       "  <thead>\n",
       "    <tr style=\"text-align: right;\">\n",
       "      <th></th>\n",
       "      <th>Fresh</th>\n",
       "      <th>Milk</th>\n",
       "      <th>Grocery</th>\n",
       "      <th>Frozen</th>\n",
       "      <th>Detergents_Paper</th>\n",
       "      <th>Delicatessen</th>\n",
       "      <th>outliner_feature_count</th>\n",
       "    </tr>\n",
       "  </thead>\n",
       "  <tbody>\n",
       "    <tr>\n",
       "      <th>28</th>\n",
       "      <td>0</td>\n",
       "      <td>1</td>\n",
       "      <td>1</td>\n",
       "      <td>0</td>\n",
       "      <td>0</td>\n",
       "      <td>1</td>\n",
       "      <td>3</td>\n",
       "    </tr>\n",
       "    <tr>\n",
       "      <th>47</th>\n",
       "      <td>1</td>\n",
       "      <td>1</td>\n",
       "      <td>1</td>\n",
       "      <td>1</td>\n",
       "      <td>1</td>\n",
       "      <td>1</td>\n",
       "      <td>6</td>\n",
       "    </tr>\n",
       "    <tr>\n",
       "      <th>49</th>\n",
       "      <td>0</td>\n",
       "      <td>1</td>\n",
       "      <td>1</td>\n",
       "      <td>0</td>\n",
       "      <td>1</td>\n",
       "      <td>0</td>\n",
       "      <td>3</td>\n",
       "    </tr>\n",
       "    <tr>\n",
       "      <th>56</th>\n",
       "      <td>0</td>\n",
       "      <td>1</td>\n",
       "      <td>1</td>\n",
       "      <td>0</td>\n",
       "      <td>1</td>\n",
       "      <td>0</td>\n",
       "      <td>3</td>\n",
       "    </tr>\n",
       "    <tr>\n",
       "      <th>61</th>\n",
       "      <td>0</td>\n",
       "      <td>1</td>\n",
       "      <td>1</td>\n",
       "      <td>0</td>\n",
       "      <td>1</td>\n",
       "      <td>0</td>\n",
       "      <td>3</td>\n",
       "    </tr>\n",
       "    <tr>\n",
       "      <th>65</th>\n",
       "      <td>0</td>\n",
       "      <td>1</td>\n",
       "      <td>1</td>\n",
       "      <td>0</td>\n",
       "      <td>1</td>\n",
       "      <td>0</td>\n",
       "      <td>3</td>\n",
       "    </tr>\n",
       "    <tr>\n",
       "      <th>85</th>\n",
       "      <td>0</td>\n",
       "      <td>1</td>\n",
       "      <td>1</td>\n",
       "      <td>0</td>\n",
       "      <td>1</td>\n",
       "      <td>0</td>\n",
       "      <td>3</td>\n",
       "    </tr>\n",
       "    <tr>\n",
       "      <th>86</th>\n",
       "      <td>0</td>\n",
       "      <td>1</td>\n",
       "      <td>1</td>\n",
       "      <td>0</td>\n",
       "      <td>1</td>\n",
       "      <td>0</td>\n",
       "      <td>3</td>\n",
       "    </tr>\n",
       "    <tr>\n",
       "      <th>92</th>\n",
       "      <td>0</td>\n",
       "      <td>1</td>\n",
       "      <td>1</td>\n",
       "      <td>0</td>\n",
       "      <td>1</td>\n",
       "      <td>1</td>\n",
       "      <td>4</td>\n",
       "    </tr>\n",
       "    <tr>\n",
       "      <th>145</th>\n",
       "      <td>0</td>\n",
       "      <td>0</td>\n",
       "      <td>1</td>\n",
       "      <td>0</td>\n",
       "      <td>1</td>\n",
       "      <td>1</td>\n",
       "      <td>3</td>\n",
       "    </tr>\n",
       "    <tr>\n",
       "      <th>163</th>\n",
       "      <td>0</td>\n",
       "      <td>1</td>\n",
       "      <td>1</td>\n",
       "      <td>0</td>\n",
       "      <td>1</td>\n",
       "      <td>0</td>\n",
       "      <td>3</td>\n",
       "    </tr>\n",
       "    <tr>\n",
       "      <th>181</th>\n",
       "      <td>1</td>\n",
       "      <td>1</td>\n",
       "      <td>0</td>\n",
       "      <td>1</td>\n",
       "      <td>0</td>\n",
       "      <td>1</td>\n",
       "      <td>4</td>\n",
       "    </tr>\n",
       "    <tr>\n",
       "      <th>183</th>\n",
       "      <td>0</td>\n",
       "      <td>1</td>\n",
       "      <td>0</td>\n",
       "      <td>1</td>\n",
       "      <td>0</td>\n",
       "      <td>1</td>\n",
       "      <td>3</td>\n",
       "    </tr>\n",
       "    <tr>\n",
       "      <th>211</th>\n",
       "      <td>0</td>\n",
       "      <td>1</td>\n",
       "      <td>1</td>\n",
       "      <td>0</td>\n",
       "      <td>1</td>\n",
       "      <td>0</td>\n",
       "      <td>3</td>\n",
       "    </tr>\n",
       "    <tr>\n",
       "      <th>216</th>\n",
       "      <td>0</td>\n",
       "      <td>1</td>\n",
       "      <td>1</td>\n",
       "      <td>0</td>\n",
       "      <td>1</td>\n",
       "      <td>0</td>\n",
       "      <td>3</td>\n",
       "    </tr>\n",
       "    <tr>\n",
       "      <th>251</th>\n",
       "      <td>0</td>\n",
       "      <td>1</td>\n",
       "      <td>1</td>\n",
       "      <td>0</td>\n",
       "      <td>1</td>\n",
       "      <td>1</td>\n",
       "      <td>4</td>\n",
       "    </tr>\n",
       "    <tr>\n",
       "      <th>325</th>\n",
       "      <td>0</td>\n",
       "      <td>1</td>\n",
       "      <td>0</td>\n",
       "      <td>1</td>\n",
       "      <td>0</td>\n",
       "      <td>1</td>\n",
       "      <td>3</td>\n",
       "    </tr>\n",
       "  </tbody>\n",
       "</table>\n",
       "</div>"
      ],
      "text/plain": [
       "     Fresh  Milk  Grocery  Frozen  Detergents_Paper  Delicatessen  \\\n",
       "28       0     1        1       0                 0             1   \n",
       "47       1     1        1       1                 1             1   \n",
       "49       0     1        1       0                 1             0   \n",
       "56       0     1        1       0                 1             0   \n",
       "61       0     1        1       0                 1             0   \n",
       "65       0     1        1       0                 1             0   \n",
       "85       0     1        1       0                 1             0   \n",
       "86       0     1        1       0                 1             0   \n",
       "92       0     1        1       0                 1             1   \n",
       "145      0     0        1       0                 1             1   \n",
       "163      0     1        1       0                 1             0   \n",
       "181      1     1        0       1                 0             1   \n",
       "183      0     1        0       1                 0             1   \n",
       "211      0     1        1       0                 1             0   \n",
       "216      0     1        1       0                 1             0   \n",
       "251      0     1        1       0                 1             1   \n",
       "325      0     1        0       1                 0             1   \n",
       "\n",
       "     outliner_feature_count  \n",
       "28                        3  \n",
       "47                        6  \n",
       "49                        3  \n",
       "56                        3  \n",
       "61                        3  \n",
       "65                        3  \n",
       "85                        3  \n",
       "86                        3  \n",
       "92                        4  \n",
       "145                       3  \n",
       "163                       3  \n",
       "181                       4  \n",
       "183                       3  \n",
       "211                       3  \n",
       "216                       3  \n",
       "251                       4  \n",
       "325                       3  "
      ]
     },
     "metadata": {},
     "output_type": "display_data"
    },
    {
     "data": {
      "text/html": [
       "<div>\n",
       "<table border=\"1\" class=\"dataframe\">\n",
       "  <thead>\n",
       "    <tr style=\"text-align: right;\">\n",
       "      <th></th>\n",
       "      <th>Fresh</th>\n",
       "      <th>Milk</th>\n",
       "      <th>Grocery</th>\n",
       "      <th>Frozen</th>\n",
       "      <th>Detergents_Paper</th>\n",
       "      <th>Delicatessen</th>\n",
       "    </tr>\n",
       "  </thead>\n",
       "  <tbody>\n",
       "    <tr>\n",
       "      <th>28</th>\n",
       "      <td>4113</td>\n",
       "      <td>20484</td>\n",
       "      <td>25957</td>\n",
       "      <td>1158</td>\n",
       "      <td>8604</td>\n",
       "      <td>5206</td>\n",
       "    </tr>\n",
       "    <tr>\n",
       "      <th>47</th>\n",
       "      <td>44466</td>\n",
       "      <td>54259</td>\n",
       "      <td>55571</td>\n",
       "      <td>7782</td>\n",
       "      <td>24171</td>\n",
       "      <td>6465</td>\n",
       "    </tr>\n",
       "    <tr>\n",
       "      <th>49</th>\n",
       "      <td>4967</td>\n",
       "      <td>21412</td>\n",
       "      <td>28921</td>\n",
       "      <td>1798</td>\n",
       "      <td>13583</td>\n",
       "      <td>1163</td>\n",
       "    </tr>\n",
       "    <tr>\n",
       "      <th>56</th>\n",
       "      <td>4098</td>\n",
       "      <td>29892</td>\n",
       "      <td>26866</td>\n",
       "      <td>2616</td>\n",
       "      <td>17740</td>\n",
       "      <td>1340</td>\n",
       "    </tr>\n",
       "    <tr>\n",
       "      <th>61</th>\n",
       "      <td>35942</td>\n",
       "      <td>38369</td>\n",
       "      <td>59598</td>\n",
       "      <td>3254</td>\n",
       "      <td>26701</td>\n",
       "      <td>2017</td>\n",
       "    </tr>\n",
       "    <tr>\n",
       "      <th>65</th>\n",
       "      <td>85</td>\n",
       "      <td>20959</td>\n",
       "      <td>45828</td>\n",
       "      <td>36</td>\n",
       "      <td>24231</td>\n",
       "      <td>1423</td>\n",
       "    </tr>\n",
       "    <tr>\n",
       "      <th>85</th>\n",
       "      <td>16117</td>\n",
       "      <td>46197</td>\n",
       "      <td>92780</td>\n",
       "      <td>1026</td>\n",
       "      <td>40827</td>\n",
       "      <td>2944</td>\n",
       "    </tr>\n",
       "    <tr>\n",
       "      <th>86</th>\n",
       "      <td>22925</td>\n",
       "      <td>73498</td>\n",
       "      <td>32114</td>\n",
       "      <td>987</td>\n",
       "      <td>20070</td>\n",
       "      <td>903</td>\n",
       "    </tr>\n",
       "    <tr>\n",
       "      <th>92</th>\n",
       "      <td>9198</td>\n",
       "      <td>27472</td>\n",
       "      <td>32034</td>\n",
       "      <td>3232</td>\n",
       "      <td>18906</td>\n",
       "      <td>5130</td>\n",
       "    </tr>\n",
       "    <tr>\n",
       "      <th>145</th>\n",
       "      <td>22039</td>\n",
       "      <td>8384</td>\n",
       "      <td>34792</td>\n",
       "      <td>42</td>\n",
       "      <td>12591</td>\n",
       "      <td>4430</td>\n",
       "    </tr>\n",
       "    <tr>\n",
       "      <th>163</th>\n",
       "      <td>5531</td>\n",
       "      <td>15726</td>\n",
       "      <td>26870</td>\n",
       "      <td>2367</td>\n",
       "      <td>13726</td>\n",
       "      <td>446</td>\n",
       "    </tr>\n",
       "    <tr>\n",
       "      <th>181</th>\n",
       "      <td>112151</td>\n",
       "      <td>29627</td>\n",
       "      <td>18148</td>\n",
       "      <td>16745</td>\n",
       "      <td>4948</td>\n",
       "      <td>8550</td>\n",
       "    </tr>\n",
       "    <tr>\n",
       "      <th>183</th>\n",
       "      <td>36847</td>\n",
       "      <td>43950</td>\n",
       "      <td>20170</td>\n",
       "      <td>36534</td>\n",
       "      <td>239</td>\n",
       "      <td>47943</td>\n",
       "    </tr>\n",
       "    <tr>\n",
       "      <th>211</th>\n",
       "      <td>12119</td>\n",
       "      <td>28326</td>\n",
       "      <td>39694</td>\n",
       "      <td>4736</td>\n",
       "      <td>19410</td>\n",
       "      <td>2870</td>\n",
       "    </tr>\n",
       "    <tr>\n",
       "      <th>216</th>\n",
       "      <td>2532</td>\n",
       "      <td>16599</td>\n",
       "      <td>36486</td>\n",
       "      <td>179</td>\n",
       "      <td>13308</td>\n",
       "      <td>674</td>\n",
       "    </tr>\n",
       "    <tr>\n",
       "      <th>251</th>\n",
       "      <td>6134</td>\n",
       "      <td>23133</td>\n",
       "      <td>33586</td>\n",
       "      <td>6746</td>\n",
       "      <td>18594</td>\n",
       "      <td>5121</td>\n",
       "    </tr>\n",
       "    <tr>\n",
       "      <th>325</th>\n",
       "      <td>32717</td>\n",
       "      <td>16784</td>\n",
       "      <td>13626</td>\n",
       "      <td>60869</td>\n",
       "      <td>1272</td>\n",
       "      <td>5609</td>\n",
       "    </tr>\n",
       "  </tbody>\n",
       "</table>\n",
       "</div>"
      ],
      "text/plain": [
       "      Fresh   Milk  Grocery  Frozen  Detergents_Paper  Delicatessen\n",
       "28     4113  20484    25957    1158              8604          5206\n",
       "47    44466  54259    55571    7782             24171          6465\n",
       "49     4967  21412    28921    1798             13583          1163\n",
       "56     4098  29892    26866    2616             17740          1340\n",
       "61    35942  38369    59598    3254             26701          2017\n",
       "65       85  20959    45828      36             24231          1423\n",
       "85    16117  46197    92780    1026             40827          2944\n",
       "86    22925  73498    32114     987             20070           903\n",
       "92     9198  27472    32034    3232             18906          5130\n",
       "145   22039   8384    34792      42             12591          4430\n",
       "163    5531  15726    26870    2367             13726           446\n",
       "181  112151  29627    18148   16745              4948          8550\n",
       "183   36847  43950    20170   36534               239         47943\n",
       "211   12119  28326    39694    4736             19410          2870\n",
       "216    2532  16599    36486     179             13308           674\n",
       "251    6134  23133    33586    6746             18594          5121\n",
       "325   32717  16784    13626   60869              1272          5609"
      ]
     },
     "metadata": {},
     "output_type": "display_data"
    }
   ],
   "source": [
    "data_outliner=outliner_identification(data, log_transform=False)\n",
    "display(data_outliner[data_outliner.outliner_feature_count>=3])\n",
    "display(data[data_outliner.outliner_feature_count>=3])\n"
   ]
  },
  {
   "cell_type": "code",
   "execution_count": 411,
   "metadata": {
    "collapsed": false
   },
   "outputs": [
    {
     "data": {
      "text/html": [
       "<div>\n",
       "<table border=\"1\" class=\"dataframe\">\n",
       "  <thead>\n",
       "    <tr style=\"text-align: right;\">\n",
       "      <th></th>\n",
       "      <th>Fresh</th>\n",
       "      <th>Milk</th>\n",
       "      <th>Grocery</th>\n",
       "      <th>Frozen</th>\n",
       "      <th>Detergents_Paper</th>\n",
       "      <th>Delicatessen</th>\n",
       "      <th>outliner_feature_count</th>\n",
       "    </tr>\n",
       "  </thead>\n",
       "  <tbody>\n",
       "    <tr>\n",
       "      <th>65</th>\n",
       "      <td>1</td>\n",
       "      <td>0</td>\n",
       "      <td>0</td>\n",
       "      <td>1</td>\n",
       "      <td>0</td>\n",
       "      <td>0</td>\n",
       "      <td>2</td>\n",
       "    </tr>\n",
       "    <tr>\n",
       "      <th>66</th>\n",
       "      <td>1</td>\n",
       "      <td>0</td>\n",
       "      <td>0</td>\n",
       "      <td>0</td>\n",
       "      <td>0</td>\n",
       "      <td>1</td>\n",
       "      <td>2</td>\n",
       "    </tr>\n",
       "    <tr>\n",
       "      <th>75</th>\n",
       "      <td>0</td>\n",
       "      <td>0</td>\n",
       "      <td>1</td>\n",
       "      <td>0</td>\n",
       "      <td>1</td>\n",
       "      <td>0</td>\n",
       "      <td>2</td>\n",
       "    </tr>\n",
       "    <tr>\n",
       "      <th>128</th>\n",
       "      <td>1</td>\n",
       "      <td>0</td>\n",
       "      <td>0</td>\n",
       "      <td>0</td>\n",
       "      <td>0</td>\n",
       "      <td>1</td>\n",
       "      <td>2</td>\n",
       "    </tr>\n",
       "    <tr>\n",
       "      <th>154</th>\n",
       "      <td>0</td>\n",
       "      <td>1</td>\n",
       "      <td>1</td>\n",
       "      <td>0</td>\n",
       "      <td>0</td>\n",
       "      <td>1</td>\n",
       "      <td>3</td>\n",
       "    </tr>\n",
       "  </tbody>\n",
       "</table>\n",
       "</div>"
      ],
      "text/plain": [
       "     Fresh  Milk  Grocery  Frozen  Detergents_Paper  Delicatessen  \\\n",
       "65       1     0        0       1                 0             0   \n",
       "66       1     0        0       0                 0             1   \n",
       "75       0     0        1       0                 1             0   \n",
       "128      1     0        0       0                 0             1   \n",
       "154      0     1        1       0                 0             1   \n",
       "\n",
       "     outliner_feature_count  \n",
       "65                        2  \n",
       "66                        2  \n",
       "75                        2  \n",
       "128                       2  \n",
       "154                       3  "
      ]
     },
     "metadata": {},
     "output_type": "display_data"
    },
    {
     "data": {
      "text/html": [
       "<div>\n",
       "<table border=\"1\" class=\"dataframe\">\n",
       "  <thead>\n",
       "    <tr style=\"text-align: right;\">\n",
       "      <th></th>\n",
       "      <th>Fresh</th>\n",
       "      <th>Milk</th>\n",
       "      <th>Grocery</th>\n",
       "      <th>Frozen</th>\n",
       "      <th>Detergents_Paper</th>\n",
       "      <th>Delicatessen</th>\n",
       "    </tr>\n",
       "  </thead>\n",
       "  <tbody>\n",
       "    <tr>\n",
       "      <th>65</th>\n",
       "      <td>85</td>\n",
       "      <td>20959</td>\n",
       "      <td>45828</td>\n",
       "      <td>36</td>\n",
       "      <td>24231</td>\n",
       "      <td>1423</td>\n",
       "    </tr>\n",
       "    <tr>\n",
       "      <th>66</th>\n",
       "      <td>9</td>\n",
       "      <td>1534</td>\n",
       "      <td>7417</td>\n",
       "      <td>175</td>\n",
       "      <td>3468</td>\n",
       "      <td>27</td>\n",
       "    </tr>\n",
       "    <tr>\n",
       "      <th>75</th>\n",
       "      <td>20398</td>\n",
       "      <td>1137</td>\n",
       "      <td>3</td>\n",
       "      <td>4407</td>\n",
       "      <td>3</td>\n",
       "      <td>975</td>\n",
       "    </tr>\n",
       "    <tr>\n",
       "      <th>128</th>\n",
       "      <td>140</td>\n",
       "      <td>8847</td>\n",
       "      <td>3823</td>\n",
       "      <td>142</td>\n",
       "      <td>1062</td>\n",
       "      <td>3</td>\n",
       "    </tr>\n",
       "    <tr>\n",
       "      <th>154</th>\n",
       "      <td>622</td>\n",
       "      <td>55</td>\n",
       "      <td>137</td>\n",
       "      <td>75</td>\n",
       "      <td>7</td>\n",
       "      <td>8</td>\n",
       "    </tr>\n",
       "  </tbody>\n",
       "</table>\n",
       "</div>"
      ],
      "text/plain": [
       "     Fresh   Milk  Grocery  Frozen  Detergents_Paper  Delicatessen\n",
       "65      85  20959    45828      36             24231          1423\n",
       "66       9   1534     7417     175              3468            27\n",
       "75   20398   1137        3    4407                 3           975\n",
       "128    140   8847     3823     142              1062             3\n",
       "154    622     55      137      75                 7             8"
      ]
     },
     "metadata": {},
     "output_type": "display_data"
    }
   ],
   "source": [
    "data_outliner=outliner_identification(data, log_transform=True)\n",
    "display(data_outliner[data_outliner.outliner_feature_count>=2])\n",
    "display(data[data_outliner.outliner_feature_count>=2])"
   ]
  },
  {
   "cell_type": "code",
   "execution_count": 422,
   "metadata": {
    "collapsed": false
   },
   "outputs": [
    {
     "name": "stdout",
     "output_type": "stream",
     "text": [
      "\n",
      "hello\n",
      "\n",
      "\n",
      "\n",
      "\n",
      "\n",
      "\n",
      "hello\n"
     ]
    }
   ],
   "source": [
    "print('')\n",
    "print('hello')\n",
    "print(\"\\n\"*5)\n",
    "print('hello')\n",
    "\n"
   ]
  },
  {
   "cell_type": "code",
   "execution_count": 380,
   "metadata": {
    "collapsed": false
   },
   "outputs": [
    {
     "data": {
      "text/html": [
       "<div>\n",
       "<table border=\"1\" class=\"dataframe\">\n",
       "  <thead>\n",
       "    <tr style=\"text-align: right;\">\n",
       "      <th></th>\n",
       "      <th>Fresh</th>\n",
       "      <th>Milk</th>\n",
       "      <th>Grocery</th>\n",
       "      <th>Frozen</th>\n",
       "      <th>Detergents_Paper</th>\n",
       "      <th>Delicatessen</th>\n",
       "    </tr>\n",
       "  </thead>\n",
       "  <tbody>\n",
       "    <tr>\n",
       "      <th>65</th>\n",
       "      <td>4.442651</td>\n",
       "      <td>9.950323</td>\n",
       "      <td>10.732651</td>\n",
       "      <td>3.583519</td>\n",
       "      <td>10.095388</td>\n",
       "      <td>7.260523</td>\n",
       "    </tr>\n",
       "    <tr>\n",
       "      <th>66</th>\n",
       "      <td>2.197225</td>\n",
       "      <td>7.335634</td>\n",
       "      <td>8.911530</td>\n",
       "      <td>5.164786</td>\n",
       "      <td>8.151333</td>\n",
       "      <td>3.295837</td>\n",
       "    </tr>\n",
       "    <tr>\n",
       "      <th>75</th>\n",
       "      <td>9.923192</td>\n",
       "      <td>7.036148</td>\n",
       "      <td>1.098612</td>\n",
       "      <td>8.390949</td>\n",
       "      <td>1.098612</td>\n",
       "      <td>6.882437</td>\n",
       "    </tr>\n",
       "    <tr>\n",
       "      <th>128</th>\n",
       "      <td>4.941642</td>\n",
       "      <td>9.087834</td>\n",
       "      <td>8.248791</td>\n",
       "      <td>4.955827</td>\n",
       "      <td>6.967909</td>\n",
       "      <td>1.098612</td>\n",
       "    </tr>\n",
       "    <tr>\n",
       "      <th>154</th>\n",
       "      <td>6.432940</td>\n",
       "      <td>4.007333</td>\n",
       "      <td>4.919981</td>\n",
       "      <td>4.317488</td>\n",
       "      <td>1.945910</td>\n",
       "      <td>2.079442</td>\n",
       "    </tr>\n",
       "  </tbody>\n",
       "</table>\n",
       "</div>"
      ],
      "text/plain": [
       "        Fresh      Milk    Grocery    Frozen  Detergents_Paper  Delicatessen\n",
       "65   4.442651  9.950323  10.732651  3.583519         10.095388      7.260523\n",
       "66   2.197225  7.335634   8.911530  5.164786          8.151333      3.295837\n",
       "75   9.923192  7.036148   1.098612  8.390949          1.098612      6.882437\n",
       "128  4.941642  9.087834   8.248791  4.955827          6.967909      1.098612\n",
       "154  6.432940  4.007333   4.919981  4.317488          1.945910      2.079442"
      ]
     },
     "execution_count": 380,
     "metadata": {},
     "output_type": "execute_result"
    }
   ],
   "source": [
    "log_data[data_zeros.outliner_feature_count>1]"
   ]
  },
  {
   "cell_type": "code",
   "execution_count": 381,
   "metadata": {
    "collapsed": false
   },
   "outputs": [
    {
     "data": {
      "text/html": [
       "<div>\n",
       "<table border=\"1\" class=\"dataframe\">\n",
       "  <thead>\n",
       "    <tr style=\"text-align: right;\">\n",
       "      <th></th>\n",
       "      <th>Fresh</th>\n",
       "      <th>Milk</th>\n",
       "      <th>Grocery</th>\n",
       "      <th>Frozen</th>\n",
       "      <th>Detergents_Paper</th>\n",
       "      <th>Delicatessen</th>\n",
       "    </tr>\n",
       "  </thead>\n",
       "  <tbody>\n",
       "    <tr>\n",
       "      <th>65</th>\n",
       "      <td>85</td>\n",
       "      <td>20959</td>\n",
       "      <td>45828</td>\n",
       "      <td>36</td>\n",
       "      <td>24231</td>\n",
       "      <td>1423</td>\n",
       "    </tr>\n",
       "    <tr>\n",
       "      <th>66</th>\n",
       "      <td>9</td>\n",
       "      <td>1534</td>\n",
       "      <td>7417</td>\n",
       "      <td>175</td>\n",
       "      <td>3468</td>\n",
       "      <td>27</td>\n",
       "    </tr>\n",
       "    <tr>\n",
       "      <th>75</th>\n",
       "      <td>20398</td>\n",
       "      <td>1137</td>\n",
       "      <td>3</td>\n",
       "      <td>4407</td>\n",
       "      <td>3</td>\n",
       "      <td>975</td>\n",
       "    </tr>\n",
       "    <tr>\n",
       "      <th>128</th>\n",
       "      <td>140</td>\n",
       "      <td>8847</td>\n",
       "      <td>3823</td>\n",
       "      <td>142</td>\n",
       "      <td>1062</td>\n",
       "      <td>3</td>\n",
       "    </tr>\n",
       "    <tr>\n",
       "      <th>154</th>\n",
       "      <td>622</td>\n",
       "      <td>55</td>\n",
       "      <td>137</td>\n",
       "      <td>75</td>\n",
       "      <td>7</td>\n",
       "      <td>8</td>\n",
       "    </tr>\n",
       "  </tbody>\n",
       "</table>\n",
       "</div>"
      ],
      "text/plain": [
       "     Fresh   Milk  Grocery  Frozen  Detergents_Paper  Delicatessen\n",
       "65      85  20959    45828      36             24231          1423\n",
       "66       9   1534     7417     175              3468            27\n",
       "75   20398   1137        3    4407                 3           975\n",
       "128    140   8847     3823     142              1062             3\n",
       "154    622     55      137      75                 7             8"
      ]
     },
     "execution_count": 381,
     "metadata": {},
     "output_type": "execute_result"
    }
   ],
   "source": [
    "data[data_zeros.outliner_feature_count>1]"
   ]
  },
  {
   "cell_type": "code",
   "execution_count": 382,
   "metadata": {
    "collapsed": false
   },
   "outputs": [
    {
     "data": {
      "text/html": [
       "<div>\n",
       "<table border=\"1\" class=\"dataframe\">\n",
       "  <thead>\n",
       "    <tr style=\"text-align: right;\">\n",
       "      <th></th>\n",
       "      <th>Fresh</th>\n",
       "      <th>Milk</th>\n",
       "      <th>Grocery</th>\n",
       "      <th>Frozen</th>\n",
       "      <th>Detergents_Paper</th>\n",
       "      <th>Delicatessen</th>\n",
       "      <th>outliner_feature_count</th>\n",
       "    </tr>\n",
       "  </thead>\n",
       "  <tbody>\n",
       "    <tr>\n",
       "      <th>65</th>\n",
       "      <td>1</td>\n",
       "      <td>0</td>\n",
       "      <td>0</td>\n",
       "      <td>1</td>\n",
       "      <td>0</td>\n",
       "      <td>0</td>\n",
       "      <td>2</td>\n",
       "    </tr>\n",
       "    <tr>\n",
       "      <th>66</th>\n",
       "      <td>1</td>\n",
       "      <td>0</td>\n",
       "      <td>0</td>\n",
       "      <td>0</td>\n",
       "      <td>0</td>\n",
       "      <td>1</td>\n",
       "      <td>2</td>\n",
       "    </tr>\n",
       "    <tr>\n",
       "      <th>75</th>\n",
       "      <td>0</td>\n",
       "      <td>0</td>\n",
       "      <td>1</td>\n",
       "      <td>0</td>\n",
       "      <td>1</td>\n",
       "      <td>0</td>\n",
       "      <td>2</td>\n",
       "    </tr>\n",
       "    <tr>\n",
       "      <th>128</th>\n",
       "      <td>1</td>\n",
       "      <td>0</td>\n",
       "      <td>0</td>\n",
       "      <td>0</td>\n",
       "      <td>0</td>\n",
       "      <td>1</td>\n",
       "      <td>2</td>\n",
       "    </tr>\n",
       "    <tr>\n",
       "      <th>154</th>\n",
       "      <td>0</td>\n",
       "      <td>1</td>\n",
       "      <td>1</td>\n",
       "      <td>0</td>\n",
       "      <td>0</td>\n",
       "      <td>1</td>\n",
       "      <td>3</td>\n",
       "    </tr>\n",
       "  </tbody>\n",
       "</table>\n",
       "</div>"
      ],
      "text/plain": [
       "     Fresh  Milk  Grocery  Frozen  Detergents_Paper  Delicatessen  \\\n",
       "65       1     0        0       1                 0             0   \n",
       "66       1     0        0       0                 0             1   \n",
       "75       0     0        1       0                 1             0   \n",
       "128      1     0        0       0                 0             1   \n",
       "154      0     1        1       0                 0             1   \n",
       "\n",
       "     outliner_feature_count  \n",
       "65                        2  \n",
       "66                        2  \n",
       "75                        2  \n",
       "128                       2  \n",
       "154                       3  "
      ]
     },
     "execution_count": 382,
     "metadata": {},
     "output_type": "execute_result"
    }
   ],
   "source": [
    "data_zeros[data_zeros.outliner_feature_count>1]"
   ]
  },
  {
   "cell_type": "code",
   "execution_count": 388,
   "metadata": {
    "collapsed": false
   },
   "outputs": [
    {
     "data": {
      "text/plain": [
       "count    440.000000\n",
       "mean       8.441169\n",
       "std        1.116172\n",
       "min        1.098612\n",
       "25%        7.674616\n",
       "50%        8.467057\n",
       "75%        9.273854\n",
       "max       11.437986\n",
       "Name: Grocery, dtype: float64"
      ]
     },
     "execution_count": 388,
     "metadata": {},
     "output_type": "execute_result"
    }
   ],
   "source": [
    "log_data.Grocery.describe()"
   ]
  },
  {
   "cell_type": "code",
   "execution_count": 342,
   "metadata": {
    "collapsed": false
   },
   "outputs": [
    {
     "data": {
      "text/plain": [
       "count       440.000000\n",
       "mean      12000.297727\n",
       "std       12647.328865\n",
       "min           3.000000\n",
       "25%        3127.750000\n",
       "50%        8504.000000\n",
       "75%       16933.750000\n",
       "max      112151.000000\n",
       "Name: Fresh, dtype: float64"
      ]
     },
     "execution_count": 342,
     "metadata": {},
     "output_type": "execute_result"
    }
   ],
   "source": [
    "data.Fresh.describe()"
   ]
  },
  {
   "cell_type": "code",
   "execution_count": null,
   "metadata": {
    "collapsed": true
   },
   "outputs": [],
   "source": []
  },
  {
   "cell_type": "code",
   "execution_count": null,
   "metadata": {
    "collapsed": true
   },
   "outputs": [],
   "source": []
  },
  {
   "cell_type": "code",
   "execution_count": 6,
   "metadata": {
    "collapsed": false
   },
   "outputs": [
    {
     "data": {
      "text/html": [
       "<div>\n",
       "<table border=\"1\" class=\"dataframe\">\n",
       "  <thead>\n",
       "    <tr style=\"text-align: right;\">\n",
       "      <th></th>\n",
       "      <th>Fresh</th>\n",
       "      <th>Milk</th>\n",
       "      <th>Grocery</th>\n",
       "      <th>Frozen</th>\n",
       "      <th>Detergents_Paper</th>\n",
       "      <th>Delicatessen</th>\n",
       "    </tr>\n",
       "  </thead>\n",
       "  <tbody>\n",
       "    <tr>\n",
       "      <th>0</th>\n",
       "      <td>12669</td>\n",
       "      <td>9656</td>\n",
       "      <td>7561</td>\n",
       "      <td>214</td>\n",
       "      <td>2674</td>\n",
       "      <td>1338</td>\n",
       "    </tr>\n",
       "    <tr>\n",
       "      <th>1</th>\n",
       "      <td>7057</td>\n",
       "      <td>9810</td>\n",
       "      <td>9568</td>\n",
       "      <td>1762</td>\n",
       "      <td>3293</td>\n",
       "      <td>1776</td>\n",
       "    </tr>\n",
       "    <tr>\n",
       "      <th>2</th>\n",
       "      <td>6353</td>\n",
       "      <td>8808</td>\n",
       "      <td>7684</td>\n",
       "      <td>2405</td>\n",
       "      <td>3516</td>\n",
       "      <td>7844</td>\n",
       "    </tr>\n",
       "    <tr>\n",
       "      <th>3</th>\n",
       "      <td>13265</td>\n",
       "      <td>1196</td>\n",
       "      <td>4221</td>\n",
       "      <td>6404</td>\n",
       "      <td>507</td>\n",
       "      <td>1788</td>\n",
       "    </tr>\n",
       "    <tr>\n",
       "      <th>4</th>\n",
       "      <td>22615</td>\n",
       "      <td>5410</td>\n",
       "      <td>7198</td>\n",
       "      <td>3915</td>\n",
       "      <td>1777</td>\n",
       "      <td>5185</td>\n",
       "    </tr>\n",
       "  </tbody>\n",
       "</table>\n",
       "</div>"
      ],
      "text/plain": [
       "   Fresh  Milk  Grocery  Frozen  Detergents_Paper  Delicatessen\n",
       "0  12669  9656     7561     214              2674          1338\n",
       "1   7057  9810     9568    1762              3293          1776\n",
       "2   6353  8808     7684    2405              3516          7844\n",
       "3  13265  1196     4221    6404               507          1788\n",
       "4  22615  5410     7198    3915              1777          5185"
      ]
     },
     "execution_count": 6,
     "metadata": {},
     "output_type": "execute_result"
    }
   ],
   "source": [
    "data.head(5)"
   ]
  },
  {
   "cell_type": "code",
   "execution_count": 316,
   "metadata": {
    "collapsed": false
   },
   "outputs": [
    {
     "name": "stdout",
     "output_type": "stream",
     "text": [
      "r2_score is: 0.763469\n",
      "r2_score is: 0.471750\n",
      "r2_score is: 0.738271\n",
      "r2_score is: 0.687602\n",
      "r2_score is: 0.742095\n",
      "r2_score is: 0.618489\n",
      "r2_score is: 0.721305\n",
      "r2_score is: 0.641173\n",
      "r2_score is: 0.628466\n",
      "r2_score is: 0.541088\n",
      "r2_score is: 0.819053\n",
      "r2_score is: 0.844247\n",
      "r2_score is: 0.657834\n",
      "r2_score is: 0.665179\n",
      "r2_score is: 0.673907\n",
      "r2_score is: 0.765394\n",
      "r2_score is: 0.763435\n",
      "r2_score is: 0.584552\n",
      "r2_score is: 0.640890\n"
     ]
    }
   ],
   "source": [
    "from sklearn.cross_validation import train_test_split\n",
    "from sklearn.tree import DecisionTreeRegressor\n",
    "from sklearn.metrics import r2_score\n",
    "\n",
    "# Make a copy of the DataFrame, using the 'drop' function to drop the given feature\n",
    "# label_name='Milk'\n",
    "label_name='Detergents_Paper'\n",
    "new_data = data.drop([label_name], axis=1)\n",
    "milk=data[label_name]\n",
    "\n",
    "#set random state value\n",
    "# rnd=[0, 10, 20, 30, 40, 50, 60, 70, 80, 90, 100]\n",
    "\n",
    "for i in xrange(1,20):\n",
    "    # Split the data into training and testing sets using the given feature as the target\n",
    "    X_train, X_test, y_train, y_test = train_test_split(new_data, milk, test_size=0.25, random_state=i)\n",
    "\n",
    "    # Create a decision tree regressor and fit it to the training set\n",
    "    regressor = DecisionTreeRegressor(random_state=0)\n",
    "    regressor.fit(X_train,y_train)\n",
    "    predict=regressor.predict(X_test)\n",
    "\n",
    "    # Report the score of the prediction using the testing set\n",
    "    score = r2_score(y_test,predict)\n",
    "    print(\"r2_score is: {:.6f}\".format(score))\n",
    "\n",
    "    \n",
    "    \n",
    "# score = r2_score()"
   ]
  },
  {
   "cell_type": "code",
   "execution_count": 324,
   "metadata": {
    "collapsed": false
   },
   "outputs": [
    {
     "data": {
      "text/html": [
       "<div>\n",
       "<table border=\"1\" class=\"dataframe\">\n",
       "  <thead>\n",
       "    <tr style=\"text-align: right;\">\n",
       "      <th></th>\n",
       "      <th>mean_positive_score</th>\n",
       "      <th>numbers of positive scores</th>\n",
       "    </tr>\n",
       "  </thead>\n",
       "  <tbody>\n",
       "    <tr>\n",
       "      <th>Fresh</th>\n",
       "      <td>0.057398</td>\n",
       "      <td>3</td>\n",
       "    </tr>\n",
       "    <tr>\n",
       "      <th>Milk</th>\n",
       "      <td>0.299537</td>\n",
       "      <td>86</td>\n",
       "    </tr>\n",
       "    <tr>\n",
       "      <th>Grocery</th>\n",
       "      <td>0.667112</td>\n",
       "      <td>100</td>\n",
       "    </tr>\n",
       "    <tr>\n",
       "      <th>Frozen</th>\n",
       "      <td>0.093876</td>\n",
       "      <td>8</td>\n",
       "    </tr>\n",
       "    <tr>\n",
       "      <th>Detergents_Paper</th>\n",
       "      <td>0.694777</td>\n",
       "      <td>100</td>\n",
       "    </tr>\n",
       "    <tr>\n",
       "      <th>Delicatessen</th>\n",
       "      <td>0.183500</td>\n",
       "      <td>18</td>\n",
       "    </tr>\n",
       "  </tbody>\n",
       "</table>\n",
       "</div>"
      ],
      "text/plain": [
       "                  mean_positive_score  numbers of positive scores\n",
       "Fresh                        0.057398                           3\n",
       "Milk                         0.299537                          86\n",
       "Grocery                      0.667112                         100\n",
       "Frozen                       0.093876                           8\n",
       "Detergents_Paper             0.694777                         100\n",
       "Delicatessen                 0.183500                          18"
      ]
     },
     "execution_count": 324,
     "metadata": {},
     "output_type": "execute_result"
    }
   ],
   "source": [
    "row_index=data.keys()\n",
    "\n",
    "positive_counts=[]\n",
    "mean_positive_scores=[]\n",
    "\n",
    "for label_name in data.keys():\n",
    "    new_data = data.drop([label_name], axis=1)\n",
    "    milk=data[label_name]\n",
    "    positive_scores=[]\n",
    "    for i in xrange(0,100):\n",
    "        # Split the data into training and testing sets using the given feature as the target\n",
    "        X_train, X_test, y_train, y_test = train_test_split(new_data, milk, test_size=0.25, random_state=i)\n",
    "        # Create a decision tree regressor and fit it to the training set\n",
    "        regressor = DecisionTreeRegressor(random_state=0)\n",
    "        regressor.fit(X_train,y_train)\n",
    "        predict=regressor.predict(X_test)\n",
    "        # Report the score of the prediction using the testing set\n",
    "        score = r2_score(y_test,predict)\n",
    "        if score>0:\n",
    "            positive_scores.append(score)\n",
    "    positive_scores=np.array(positive_scores)\n",
    "    positive_counts.append((positive_scores>0).sum())\n",
    "    if len(positive_scores)>0:\n",
    "        mean_positive_scores.append(positive_scores.mean())\n",
    "    else:\n",
    "        mean_positive_scores.append(np.nan)\n",
    "\n",
    "feature_relevancy_df=pd.DataFrame(index=data.keys(), columns=['mean_positive_score', 'numbers of positive scores'])\n",
    "feature_relevancy_df['mean_positive_score']=mean_positive_scores\n",
    "feature_relevancy_df['numbers of positive scores']=postive_counts\n",
    "feature_relevancy_df"
   ]
  },
  {
   "cell_type": "code",
   "execution_count": 330,
   "metadata": {
    "collapsed": false
   },
   "outputs": [
    {
     "data": {
      "text/plain": [
       "0.40636831617687164"
      ]
     },
     "execution_count": 330,
     "metadata": {},
     "output_type": "execute_result"
    }
   ],
   "source": [
    "data.Delicatessen.corr(data.Milk)"
   ]
  },
  {
   "cell_type": "code",
   "execution_count": 331,
   "metadata": {
    "collapsed": false
   },
   "outputs": [
    {
     "data": {
      "text/plain": [
       "count      440.000000\n",
       "mean      1524.870455\n",
       "std       2820.105937\n",
       "min          3.000000\n",
       "25%        408.250000\n",
       "50%        965.500000\n",
       "75%       1820.250000\n",
       "max      47943.000000\n",
       "Name: Delicatessen, dtype: float64"
      ]
     },
     "execution_count": 331,
     "metadata": {},
     "output_type": "execute_result"
    }
   ],
   "source": [
    "data.Delicatessen.describe()"
   ]
  },
  {
   "cell_type": "code",
   "execution_count": 332,
   "metadata": {
    "collapsed": false
   },
   "outputs": [
    {
     "data": {
      "text/plain": [
       "count      440.000000\n",
       "mean      5796.265909\n",
       "std       7380.377175\n",
       "min         55.000000\n",
       "25%       1533.000000\n",
       "50%       3627.000000\n",
       "75%       7190.250000\n",
       "max      73498.000000\n",
       "Name: Milk, dtype: float64"
      ]
     },
     "execution_count": 332,
     "metadata": {},
     "output_type": "execute_result"
    }
   ],
   "source": [
    "data.Milk.describe()"
   ]
  },
  {
   "cell_type": "code",
   "execution_count": 333,
   "metadata": {
    "collapsed": false
   },
   "outputs": [
    {
     "data": {
      "text/plain": [
       "count       440.000000\n",
       "mean      12000.297727\n",
       "std       12647.328865\n",
       "min           3.000000\n",
       "25%        3127.750000\n",
       "50%        8504.000000\n",
       "75%       16933.750000\n",
       "max      112151.000000\n",
       "Name: Fresh, dtype: float64"
      ]
     },
     "execution_count": 333,
     "metadata": {},
     "output_type": "execute_result"
    }
   ],
   "source": [
    "data.Fresh.describe()"
   ]
  },
  {
   "cell_type": "code",
   "execution_count": null,
   "metadata": {
    "collapsed": true
   },
   "outputs": [],
   "source": []
  },
  {
   "cell_type": "code",
   "execution_count": 326,
   "metadata": {
    "collapsed": false
   },
   "outputs": [
    {
     "name": "stdout",
     "output_type": "stream",
     "text": [
      "the correlation between Grocery and Detergents_Paper is 0.9246\n"
     ]
    }
   ],
   "source": [
    "print('the correlation between Grocery and Detergents_Paper is {:.4f}'.format(data.Grocery.corr(data.Detergents_Paper)))"
   ]
  },
  {
   "cell_type": "code",
   "execution_count": 322,
   "metadata": {
    "collapsed": false
   },
   "outputs": [
    {
     "data": {
      "text/html": [
       "<div>\n",
       "<table border=\"1\" class=\"dataframe\">\n",
       "  <thead>\n",
       "    <tr style=\"text-align: right;\">\n",
       "      <th></th>\n",
       "      <th>mean_positive_score</th>\n",
       "      <th>numbers of positive scores</th>\n",
       "    </tr>\n",
       "  </thead>\n",
       "  <tbody>\n",
       "    <tr>\n",
       "      <th>Fresh</th>\n",
       "      <td>0.057398</td>\n",
       "      <td>3</td>\n",
       "    </tr>\n",
       "    <tr>\n",
       "      <th>Milk</th>\n",
       "      <td>0.299537</td>\n",
       "      <td>86</td>\n",
       "    </tr>\n",
       "    <tr>\n",
       "      <th>Grocery</th>\n",
       "      <td>0.667112</td>\n",
       "      <td>100</td>\n",
       "    </tr>\n",
       "    <tr>\n",
       "      <th>Frozen</th>\n",
       "      <td>0.093876</td>\n",
       "      <td>8</td>\n",
       "    </tr>\n",
       "    <tr>\n",
       "      <th>Detergents_Paper</th>\n",
       "      <td>0.694777</td>\n",
       "      <td>100</td>\n",
       "    </tr>\n",
       "    <tr>\n",
       "      <th>Delicatessen</th>\n",
       "      <td>0.183500</td>\n",
       "      <td>18</td>\n",
       "    </tr>\n",
       "  </tbody>\n",
       "</table>\n",
       "</div>"
      ],
      "text/plain": [
       "                  mean_positive_score  numbers of positive scores\n",
       "Fresh                        0.057398                           3\n",
       "Milk                         0.299537                          86\n",
       "Grocery                      0.667112                         100\n",
       "Frozen                       0.093876                           8\n",
       "Detergents_Paper             0.694777                         100\n",
       "Delicatessen                 0.183500                          18"
      ]
     },
     "execution_count": 322,
     "metadata": {},
     "output_type": "execute_result"
    }
   ],
   "source": [
    "feature_relevancy_df=pd.DataFrame(index=data.keys(), columns=['mean_positive_score', 'numbers of positive scores'])\n",
    "feature_relevancy_df['mean_positive_score']=mean_positive_scores\n",
    "feature_relevancy_df['numbers of positive scores']=postive_counts\n",
    "\n",
    "feature_relevancy_df"
   ]
  },
  {
   "cell_type": "code",
   "execution_count": 321,
   "metadata": {
    "collapsed": false
   },
   "outputs": [
    {
     "data": {
      "text/html": [
       "<div>\n",
       "<table border=\"1\" class=\"dataframe\">\n",
       "  <thead>\n",
       "    <tr style=\"text-align: right;\">\n",
       "      <th></th>\n",
       "      <th>mean_positive_score</th>\n",
       "      <th>convergence time</th>\n",
       "    </tr>\n",
       "  </thead>\n",
       "  <tbody>\n",
       "    <tr>\n",
       "      <th>Fresh</th>\n",
       "      <td>NaN</td>\n",
       "      <td>NaN</td>\n",
       "    </tr>\n",
       "    <tr>\n",
       "      <th>Milk</th>\n",
       "      <td>NaN</td>\n",
       "      <td>NaN</td>\n",
       "    </tr>\n",
       "    <tr>\n",
       "      <th>Grocery</th>\n",
       "      <td>NaN</td>\n",
       "      <td>NaN</td>\n",
       "    </tr>\n",
       "    <tr>\n",
       "      <th>Frozen</th>\n",
       "      <td>NaN</td>\n",
       "      <td>NaN</td>\n",
       "    </tr>\n",
       "    <tr>\n",
       "      <th>Detergents_Paper</th>\n",
       "      <td>NaN</td>\n",
       "      <td>NaN</td>\n",
       "    </tr>\n",
       "    <tr>\n",
       "      <th>Delicatessen</th>\n",
       "      <td>NaN</td>\n",
       "      <td>NaN</td>\n",
       "    </tr>\n",
       "  </tbody>\n",
       "</table>\n",
       "</div>"
      ],
      "text/plain": [
       "                 mean_positive_score convergence time\n",
       "Fresh                            NaN              NaN\n",
       "Milk                             NaN              NaN\n",
       "Grocery                          NaN              NaN\n",
       "Frozen                           NaN              NaN\n",
       "Detergents_Paper                 NaN              NaN\n",
       "Delicatessen                     NaN              NaN"
      ]
     },
     "execution_count": 321,
     "metadata": {},
     "output_type": "execute_result"
    }
   ],
   "source": []
  },
  {
   "cell_type": "code",
   "execution_count": 13,
   "metadata": {
    "collapsed": false
   },
   "outputs": [
    {
     "data": {
      "text/plain": [
       "pandas.indexes.base.Index"
      ]
     },
     "execution_count": 13,
     "metadata": {},
     "output_type": "execute_result"
    }
   ],
   "source": []
  }
 ],
 "metadata": {
  "anaconda-cloud": {},
  "kernelspec": {
   "display_name": "Python 2",
   "language": "python",
   "name": "python2"
  },
  "language_info": {
   "codemirror_mode": {
    "name": "ipython",
    "version": 2
   },
   "file_extension": ".py",
   "mimetype": "text/x-python",
   "name": "python",
   "nbconvert_exporter": "python",
   "pygments_lexer": "ipython2",
   "version": "2.7.13"
  }
 },
 "nbformat": 4,
 "nbformat_minor": 1
}
