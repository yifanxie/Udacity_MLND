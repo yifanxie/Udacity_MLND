{
 "cells": [
  {
   "cell_type": "markdown",
   "metadata": {},
   "source": [
    "# Machine Learning Engineer Nanodegree\n",
    "## Model Evaluation & Validation\n",
    "## Project: Predicting Boston Housing Prices\n",
    "\n",
    "Welcome to the first project of the Machine Learning Engineer Nanodegree! In this notebook, some template code has already been provided for you, and you will need to implement additional functionality to successfully complete this project. You will not need to modify the included code beyond what is requested. Sections that begin with **'Implementation'** in the header indicate that the following block of code will require additional functionality which you must provide. Instructions will be provided for each section and the specifics of the implementation are marked in the code block with a 'TODO' statement. Please be sure to read the instructions carefully!\n",
    "\n",
    "In addition to implementing code, there will be questions that you must answer which relate to the project and your implementation. Each section where you will answer a question is preceded by a **'Question X'** header. Carefully read each question and provide thorough answers in the following text boxes that begin with **'Answer:'**. Your project submission will be evaluated based on your answers to each of the questions and the implementation you provide.  \n",
    "\n",
    ">**Note:** Code and Markdown cells can be executed using the **Shift + Enter** keyboard shortcut. In addition, Markdown cells can be edited by typically double-clicking the cell to enter edit mode."
   ]
  },
  {
   "cell_type": "markdown",
   "metadata": {},
   "source": [
    "## Getting Started\n",
    "In this project, you will evaluate the performance and predictive power of a model that has been trained and tested on data collected from homes in suburbs of Boston, Massachusetts. A model trained on this data that is seen as a *good fit* could then be used to make certain predictions about a home — in particular, its monetary value. This model would prove to be invaluable for someone like a real estate agent who could make use of such information on a daily basis.\n",
    "\n",
    "The dataset for this project originates from the [UCI Machine Learning Repository](https://archive.ics.uci.edu/ml/datasets/Housing). The Boston housing data was collected in 1978 and each of the 506 entries represent aggregated data about 14 features for homes from various suburbs in Boston, Massachusetts. For the purposes of this project, the following preprocessing steps have been made to the dataset:\n",
    "- 16 data points have an `'MEDV'` value of 50.0. These data points likely contain **missing or censored values** and have been removed.\n",
    "- 1 data point has an `'RM'` value of 8.78. This data point can be considered an **outlier** and has been removed.\n",
    "- The features `'RM'`, `'LSTAT'`, `'PTRATIO'`, and `'MEDV'` are essential. The remaining **non-relevant features** have been excluded.\n",
    "- The feature `'MEDV'` has been **multiplicatively scaled** to account for 35 years of market inflation.\n",
    "\n",
    "Run the code cell below to load the Boston housing dataset, along with a few of the necessary Python libraries required for this project. You will know the dataset loaded successfully if the size of the dataset is reported."
   ]
  },
  {
   "cell_type": "code",
   "execution_count": 1,
   "metadata": {
    "collapsed": false
   },
   "outputs": [
    {
     "name": "stdout",
     "output_type": "stream",
     "text": [
      "Boston housing dataset has 489 data points with 4 variables each.\n"
     ]
    }
   ],
   "source": [
    "# Import libraries necessary for this project\n",
    "import numpy as np\n",
    "import pandas as pd\n",
    "from sklearn.cross_validation import ShuffleSplit\n",
    "\n",
    "# Import supplementary visualizations code visuals.py\n",
    "import visuals as vs\n",
    "\n",
    "# Pretty display for notebooks\n",
    "%matplotlib inline\n",
    "\n",
    "# Load the Boston housing dataset\n",
    "data = pd.read_csv('housing.csv')\n",
    "prices = data['MEDV']\n",
    "features = data.drop('MEDV', axis = 1)\n",
    "    \n",
    "# Success\n",
    "print \"Boston housing dataset has {} data points with {} variables each.\".format(*data.shape)"
   ]
  },
  {
   "cell_type": "markdown",
   "metadata": {},
   "source": [
    "## Data Exploration\n",
    "In this first section of this project, you will make a cursory investigation about the Boston housing data and provide your observations. Familiarizing yourself with the data through an explorative process is a fundamental practice to help you better understand and justify your results.\n",
    "\n",
    "Since the main goal of this project is to construct a working model which has the capability of predicting the value of houses, we will need to separate the dataset into **features** and the **target variable**. The **features**, `'RM'`, `'LSTAT'`, and `'PTRATIO'`, give us quantitative information about each data point. The **target variable**, `'MEDV'`, will be the variable we seek to predict. These are stored in `features` and `prices`, respectively."
   ]
  },
  {
   "cell_type": "markdown",
   "metadata": {},
   "source": [
    "### Implementation: Calculate Statistics\n",
    "For your very first coding implementation, you will calculate descriptive statistics about the Boston housing prices. Since `numpy` has already been imported for you, use this library to perform the necessary calculations. These statistics will be extremely important later on to analyze various prediction results from the constructed model.\n",
    "\n",
    "In the code cell below, you will need to implement the following:\n",
    "- Calculate the minimum, maximum, mean, median, and standard deviation of `'MEDV'`, which is stored in `prices`.\n",
    "  - Store each calculation in their respective variable."
   ]
  },
  {
   "cell_type": "code",
   "execution_count": 22,
   "metadata": {
    "collapsed": false
   },
   "outputs": [
    {
     "name": "stdout",
     "output_type": "stream",
     "text": [
      "Statistics for Boston housing dataset:\n",
      "\n",
      "Minimum price: $105,000.00\n",
      "Maximum price: $1,024,800.00\n",
      "Mean price: $454,342.94\n",
      "Median price $438,900.00\n",
      "Standard deviation of prices: $165,171.13\n",
      "average features of houses with minimum value\n",
      "RM              5.568\n",
      "LSTAT          26.785\n",
      "PTRATIO        20.200\n",
      "MEDV       105000.000\n",
      "dtype: float64\n",
      "average features of houses with maximum value\n",
      "RM               8.398\n",
      "LSTAT            5.910\n",
      "PTRATIO         13.000\n",
      "MEDV       1024800.000\n",
      "dtype: float64\n",
      "average features of houses with median value\n",
      "RM              5.8805\n",
      "LSTAT           9.0200\n",
      "PTRATIO        17.6500\n",
      "MEDV       438900.0000\n",
      "dtype: float64\n"
     ]
    }
   ],
   "source": [
    "# Minimum price of the data\n",
    "minimum_price = np.min(data.MEDV)\n",
    "\n",
    "# Maximum price of the data\n",
    "maximum_price =np.max(data.MEDV)\n",
    "\n",
    "# Mean price of the data\n",
    "mean_price = np.mean(data.MEDV)\n",
    "\n",
    "# Median price of the data\n",
    "median_price = np.median(data.MEDV)\n",
    "\n",
    "# Standard deviation of prices of the data\n",
    "std_price = np.std(data.MEDV)\n",
    "\n",
    "# Show the calculated statistics\n",
    "print \"Statistics for Boston housing dataset:\\n\"\n",
    "print \"Minimum price: ${:,.2f}\".format(minimum_price)\n",
    "print \"Maximum price: ${:,.2f}\".format(maximum_price)\n",
    "print \"Mean price: ${:,.2f}\".format(mean_price)\n",
    "print \"Median price ${:,.2f}\".format(median_price)\n",
    "print \"Standard deviation of prices: ${:,.2f}\".format(std_price)\n",
    "\n",
    "#additional exploration to see what the features are like for min, max and medium value\n",
    "print \"average features of houses with minimum value\"\n",
    "print data[data.MEDV==105000].mean()\n",
    "\n",
    "print \"average features of houses with maximum value\"\n",
    "print data[data.MEDV==1024800].mean()\n",
    "\n",
    "print \"average features of houses with median value\"\n",
    "print data[data.MEDV==438900].mean()"
   ]
  },
  {
   "cell_type": "markdown",
   "metadata": {},
   "source": [
    "### Question 1 - Feature Observation\n",
    "As a reminder, we are using three features from the Boston housing dataset: `'RM'`, `'LSTAT'`, and `'PTRATIO'`. For each data point (neighborhood):\n",
    "- `'RM'` is the average number of rooms among homes in the neighborhood.\n",
    "- `'LSTAT'` is the percentage of homeowners in the neighborhood considered \"lower class\" (working poor).\n",
    "- `'PTRATIO'` is the ratio of students to teachers in primary and secondary schools in the neighborhood.\n",
    "\n",
    "_Using your intuition, for each of the three features above, do you think that an increase in the value of that feature would lead to an **increase** in the value of `'MEDV'` or a **decrease** in the value of `'MEDV'`? Justify your answer for each._  \n",
    "**Hint:** Would you expect a home that has an `'RM'` value of 6 be worth more or less than a home that has an `'RM'` value of 7?"
   ]
  },
  {
   "cell_type": "markdown",
   "metadata": {},
   "source": [
    "**Answer: **\n",
    "\n",
    "* **RM**: Increase in the value of 'RM' would lead to an increase of the 'MEDV' value. House prices tend to be higher when there are more room in a house\n",
    "\n",
    "* **LSTAT**: Increase in the value of 'LSTAT' would lead to a decrease of the 'MEDV' value. An area with a poorer population tends to have lower house price - people sometimes perceive poorer area to be associated with less social stability, and higher crime rate. These perceptions tend to have a negative impact on house demand on such areas - especially from people with higher income who can afford to pay a higher price. \n",
    "\n",
    "* **PTRATIO**: Increase in the value of ＇PTRATIO' would lead to a decrease of the 'MEDV' value. Higher 'PTRATIO' value indicates that on average a teacher has to cater for more students in a school. There is a general perception that the quality of education suffers when a teacher has to teach a larger sized group of student. For this reason, the 'PTRATIO' feature could be perceived as an indicator of the school quality in an area: higher 'PTRATIO' value indicating lower school quality, while lower 'PTRATIO' value indicating higher school quality. Therefore, there is a tendency that area with higher 'PTRATIO' would have less house demand and therefore with cheaper house price which is indicated by the 'MEDV' value "
   ]
  },
  {
   "cell_type": "markdown",
   "metadata": {},
   "source": [
    "----\n",
    "\n",
    "## Developing a Model\n",
    "In this second section of the project, you will develop the tools and techniques necessary for a model to make a prediction. Being able to make accurate evaluations of each model's performance through the use of these tools and techniques helps to greatly reinforce the confidence in your predictions."
   ]
  },
  {
   "cell_type": "markdown",
   "metadata": {},
   "source": [
    "### Implementation: Define a Performance Metric\n",
    "It is difficult to measure the quality of a given model without quantifying its performance over training and testing. This is typically done using some type of performance metric, whether it is through calculating some type of error, the goodness of fit, or some other useful measurement. For this project, you will be calculating the [*coefficient of determination*](http://stattrek.com/statistics/dictionary.aspx?definition=coefficient_of_determination), R<sup>2</sup>, to quantify your model's performance. The coefficient of determination for a model is a useful statistic in regression analysis, as it often describes how \"good\" that model is at making predictions. \n",
    "\n",
    "The values for R<sup>2</sup> range from 0 to 1, which captures the percentage of squared correlation between the predicted and actual values of the **target variable**. A model with an R<sup>2</sup> of 0 always fails to predict the target variable, whereas a model with an R<sup>2</sup> of 1 perfectly predicts the target variable. Any value between 0 and 1 indicates what percentage of the target variable, using this model, can be explained by the **features**. *A model can be given a negative R<sup>2</sup> as well, which indicates that the model is no better than one that naively predicts the mean of the target variable.*\n",
    "\n",
    "For the `performance_metric` function in the code cell below, you will need to implement the following:\n",
    "- Use `r2_score` from `sklearn.metrics` to perform a performance calculation between `y_true` and `y_predict`.\n",
    "- Assign the performance score to the `score` variable."
   ]
  },
  {
   "cell_type": "code",
   "execution_count": 5,
   "metadata": {
    "collapsed": false
   },
   "outputs": [],
   "source": [
    "# import r2_score from sklearn \n",
    "from sklearn.metrics import r2_score\n",
    "\n",
    "def performance_metric(y_true, y_predict):\n",
    "    \"\"\" Calculates and returns the performance score between \n",
    "        true and predicted values based on the metric chosen. \"\"\"\n",
    "    \n",
    "    #calculating r2_score \n",
    "    score = r2_score(y_true, y_predict)\n",
    "    \n",
    "    # Return the score\n",
    "    return score"
   ]
  },
  {
   "cell_type": "markdown",
   "metadata": {},
   "source": [
    "### Question 2 - Goodness of Fit\n",
    "Assume that a dataset contains five data points and a model made the following predictions for the target variable:\n",
    "\n",
    "| True Value | Prediction |\n",
    "| :-------------: | :--------: |\n",
    "| 3.0 | 2.5 |\n",
    "| -0.5 | 0.0 |\n",
    "| 2.0 | 2.1 |\n",
    "| 7.0 | 7.8 |\n",
    "| 4.2 | 5.3 |\n",
    "*Would you consider this model to have successfully captured the variation of the target variable? Why or why not?* \n",
    "\n",
    "Run the code cell below to use the `performance_metric` function and calculate this model's coefficient of determination."
   ]
  },
  {
   "cell_type": "code",
   "execution_count": 6,
   "metadata": {
    "collapsed": false
   },
   "outputs": [
    {
     "name": "stdout",
     "output_type": "stream",
     "text": [
      "Model has a coefficient of determination, R^2, of 0.923.\n"
     ]
    }
   ],
   "source": [
    "# Calculate the performance of this model\n",
    "score = performance_metric([3, -0.5, 2, 7, 4.2], [2.5, 0.0, 2.1, 7.8, 5.3])\n",
    "print \"Model has a coefficient of determination, R^2, of {:.3f}.\".format(score)"
   ]
  },
  {
   "cell_type": "markdown",
   "metadata": {},
   "source": [
    "**Answer:** After running the *performance_metric* function, a R<sup>2</sup> value of 0.923 is obtained. Since higher R<sup>2</sup> value indicate better fit between the prediction and the ground truth, and a value 0.92 is not far away from the maximum value of, we can conclude that the model has successfully captured the variation of the target variable. "
   ]
  },
  {
   "cell_type": "markdown",
   "metadata": {},
   "source": [
    "### Implementation: Shuffle and Split Data\n",
    "Your next implementation requires that you take the Boston housing dataset and split the data into training and testing subsets. Typically, the data is also shuffled into a random order when creating the training and testing subsets to remove any bias in the ordering of the dataset.\n",
    "\n",
    "For the code cell below, you will need to implement the following:\n",
    "- Use `train_test_split` from `sklearn.cross_validation` to shuffle and split the `features` and `prices` data into training and testing sets.\n",
    "  - Split the data into 80% training and 20% testing.\n",
    "  - Set the `random_state` for `train_test_split` to a value of your choice. This ensures results are consistent.\n",
    "- Assign the train and testing splits to `X_train`, `X_test`, `y_train`, and `y_test`."
   ]
  },
  {
   "cell_type": "code",
   "execution_count": 7,
   "metadata": {
    "collapsed": false
   },
   "outputs": [
    {
     "name": "stdout",
     "output_type": "stream",
     "text": [
      "Training and testing split was successful.\n"
     ]
    }
   ],
   "source": [
    "# Import 'train_test_split'\n",
    "from sklearn.cross_validation import train_test_split\n",
    "\n",
    "# Seperating label from the features \n",
    "y=data.MEDV\n",
    "X=data.drop(['MEDV'], axis=1)\n",
    "\n",
    "\n",
    "# Shuffle and split the data into training and testing subsets\n",
    "X_train, X_test, y_train, y_test=train_test_split(X, y, test_size=0.2, random_state=0) \n",
    "\n",
    "\n",
    "# Success\n",
    "print \"Training and testing split was successful.\""
   ]
  },
  {
   "cell_type": "markdown",
   "metadata": {},
   "source": [
    "### Question 3 - Training and Testing\n",
    "*What is the benefit to splitting a dataset into some ratio of training and testing subsets for a learning algorithm?*  \n",
    "**Hint:** What could go wrong with not having a way to test your model?"
   ]
  },
  {
   "cell_type": "markdown",
   "metadata": {},
   "source": [
    "**Answer: ** \n",
    "\n",
    "The benefit for splitting the dataset into training and testing data is to enable location validation on the efficacy of the learning algorithm. \n",
    "\n",
    "By splitting the dataset, one can train the model using the newly created training data, and perform prediction on the testing data. The prediction of for the testing data can be used to compare to the labels of the testing data according to the chosen evaluation metric. \n",
    "\n",
    "The outcome of this evaluation provides a good indicate on how the model is performing according to the how the original dataset is split. Without performing such a split, and in practice we are often limited by the amount of data - especially labelled data - that is available, it can be expensive or impractical to gather new data with labels in order to evaluate the model. \n",
    "\n",
    "Additionally, by splitting the training and testing data into different ratios, one can also evaluate how different learning algorithms can learn with different amount of training data. By repeating performing different random splits, we can have an even more robust method of evaluating the efficacy of our models by maximising the amount of training data and testing data it has access to via different splits.\n",
    "\n"
   ]
  },
  {
   "cell_type": "markdown",
   "metadata": {},
   "source": [
    "----\n",
    "\n",
    "## Analyzing Model Performance\n",
    "In this third section of the project, you'll take a look at several models' learning and testing performances on various subsets of training data. Additionally, you'll investigate one particular algorithm with an increasing `'max_depth'` parameter on the full training set to observe how model complexity affects performance. Graphing your model's performance based on varying criteria can be beneficial in the analysis process, such as visualizing behavior that may not have been apparent from the results alone."
   ]
  },
  {
   "cell_type": "markdown",
   "metadata": {},
   "source": [
    "### Learning Curves\n",
    "The following code cell produces four graphs for a decision tree model with different maximum depths. Each graph visualizes the learning curves of the model for both training and testing as the size of the training set is increased. Note that the shaded region of a learning curve denotes the uncertainty of that curve (measured as the standard deviation). The model is scored on both the training and testing sets using R<sup>2</sup>, the coefficient of determination.  \n",
    "\n",
    "Run the code cell below and use these graphs to answer the following question."
   ]
  },
  {
   "cell_type": "code",
   "execution_count": 8,
   "metadata": {
    "collapsed": false,
    "scrolled": false
   },
   "outputs": [
    {
     "data": {
      "image/png": "[encoded data removed]",
      "text/plain": [
       "<matplotlib.figure.Figure at 0x7f26b0ebc3d0>"
      ]
     },
     "metadata": {},
     "output_type": "display_data"
    }
   ],
   "source": [
    "# Produce learning curves for varying training set sizes and maximum depths\n",
    "vs.ModelLearning(features, prices)"
   ]
  },
  {
   "cell_type": "markdown",
   "metadata": {},
   "source": [
    "### Question 4 - Learning the Data\n",
    "*Choose one of the graphs above and state the maximum depth for the model. What happens to the score of the training curve as more training points are added? What about the testing curve? Would having more training points benefit the model?*  \n",
    "**Hint:** Are the learning curves converging to particular scores?"
   ]
  },
  {
   "cell_type": "markdown",
   "metadata": {},
   "source": [
    "**Answer: ** 　*(Modified after the previous submission to discuss initial trend of  the training curve)*\n",
    "\n",
    "\n",
    "The graph I would like to in particular discuss is the top right graph with *max_depth=3*. \n",
    "\n",
    "The training scores of this graph are better than the top-left graph  with *max_depth=1* throughout the curve. It is worse than the bottom two graphs (*max_depth=6* and *max_depth=10*): from the second data point onward, it went below 0.9 as the number of training point increased, meanwhile the training curve for bottom two graphs remained on a higher level.  \n",
    "\n",
    "This indicates that with *max_depth=3*, the model is not fitting on the training data as precise as models with higher *max_depth* values. this is to be expected as the underlying model has a lower level of complexity and don't capture as many detailed patterns - of which some might be random noise - in the underlying dataset. \n",
    "\n",
    "This is advantageous as it allowed the model generalise well. As demonstrated in the testing curve, this graph showed the best test score throughout all the data points. Additionally, this graph also achieved the closest convergence between training score and testing score after the number of training points exceeds about 250, and it appears to be continuously improving until the to the far right of the graph where training points reach more than 350. \n",
    "\n",
    "Unlike the model with *max_depth＝１* which is under-fitting, the testing score improves consistently as the number of training point improves and therefore allowing the model to learn more from the data. \n",
    "\n",
    "It is not likely that adding more training data would benefit this model (*max_depth=3*) significantly. As shown in the graph, the training score and testing score are close to converging when the number of training data point exceeds 350. \n"
   ]
  },
  {
   "cell_type": "markdown",
   "metadata": {},
   "source": [
    "### Complexity Curves\n",
    "The following code cell produces a graph for a decision tree model that has been trained and validated on the training data using different maximum depths. The graph produces two complexity curves — one for training and one for validation. Similar to the **learning curves**, the shaded regions of both the complexity curves denote the uncertainty in those curves, and the model is scored on both the training and validation sets using the `performance_metric` function.  \n",
    "\n",
    "Run the code cell below and use this graph to answer the following two questions."
   ]
  },
  {
   "cell_type": "code",
   "execution_count": 9,
   "metadata": {
    "collapsed": false
   },
   "outputs": [
    {
     "data": {
      "image/png": "[encoded data removed]",
      "text/plain": [
       "<matplotlib.figure.Figure at 0x7f26ae68bed0>"
      ]
     },
     "metadata": {},
     "output_type": "display_data"
    }
   ],
   "source": [
    "vs.ModelComplexity(X_train, y_train)"
   ]
  },
  {
   "cell_type": "markdown",
   "metadata": {},
   "source": [
    "### Question 5 - Bias-Variance Tradeoff\n",
    "*When the model is trained with a maximum depth of 1, does the model suffer from high bias or from high variance? How about when the model is trained with a maximum depth of 10? What visual cues in the graph justify your conclusions?*  \n",
    "**Hint:** How do you know when a model is suffering from high bias or high variance?"
   ]
  },
  {
   "cell_type": "markdown",
   "metadata": {},
   "source": [
    "**Answer: **\n",
    "\n",
    "When the model is trained with a maximum depth of 1, the model is suffering from high bias. This is indicated by the following facts:\n",
    "* Both the training score and testing score are the lowest among other data points in the complexity graph. \n",
    "* The training score is not so much higher than the validation score also indicate that the model fails to learn useful pattern from the training dataset. \n",
    "\n",
    "When the model is trained with a maximum depth of 10, the model is suffering from high variance. This is indicated from following facts:\n",
    "* Judging from the complexity graph, the validation score has not improved after the maximum depth exceeds 4, despite the training score gets close to 1.0 when maximum depth is 10. \n",
    "* The margin between training and validation scores is the largest when the maximum depth is 10, indicating that the model with this maximum depth is not generalising well in the testing data. "
   ]
  },
  {
   "cell_type": "markdown",
   "metadata": {},
   "source": [
    "### Question 6 - Best-Guess Optimal Model\n",
    "*Which maximum depth do you think results in a model that best generalizes to unseen data? What intuition lead you to this answer?*"
   ]
  },
  {
   "cell_type": "markdown",
   "metadata": {},
   "source": [
    "**Answer: **\n",
    "\n",
    "My best gest for the optimal model is the one with maximum value of 4, the following is the rationale of this decision: \n",
    "\n",
    "* the model seems to be generalising well for when the maximum depth value is set to 3, 4 and 5. Among all the other choice of maximum depths, the corresponding data points of 3, 4 and 5 show highest validation score - with the data point for 4 showing slightly better value.  Simply based on this is not sufficient to decide which value would be the optimal maximum depth, but one can slightly favour the value of 4. \n",
    "\n",
    "* a second observation is that when the maximum depth value is at 4, the margin between training score and validation score is bigger compare to the margin when the value is at 3. This points to the possibility that, if the more data is provided, there is more room for the model to improve its performance when the value of maximum depth is at 4. \n",
    "\n",
    "* a third observation is that at the value of 5, the margin between training score and validation score is further increase as compare to the value at 4. This is resulted from increasing training score but decrease validation score at the value of 5. This indicates that at the value of 5, the model is starting to overfit. From this point onward, increase in complexity no longer provide increase evaluation score. \n",
    "\n",
    "Based on the above discussion, the optimal value for maximum depth is 4.\n"
   ]
  },
  {
   "cell_type": "markdown",
   "metadata": {},
   "source": [
    "-----\n",
    "\n",
    "## Evaluating Model Performance\n",
    "In this final section of the project, you will construct a model and make a prediction on the client's feature set using an optimized model from `fit_model`."
   ]
  },
  {
   "cell_type": "markdown",
   "metadata": {},
   "source": [
    "### Question 7 - Grid Search\n",
    "*What is the grid search technique and how it can be applied to optimize a learning algorithm?*"
   ]
  },
  {
   "cell_type": "markdown",
   "metadata": {},
   "source": [
    "**Answer: ** *(Modified after the previous submission to discuss more on how gridsearch is performed to test hyper-parameters )*\n",
    "\n",
    "The grid search technique allows automatic evaluation of models of the same learning algorithms with different hyper-parameters combinations. This search can be performed either in an exhaustive manner or in a randomised manner. This is discussed in the following:\n",
    "\n",
    "* Exhaustive Grid Search: This approach perform model building on all the possible combinations of the hyper-parameters that are specified in the search. In this approach, a list of values are provided for each of the hyper-parameter, and the search will iterate through hyper-parameter combinations with all possible combination of these values. \n",
    "\n",
    "* Randomised Search: This approach perform model building by randomly sample possibles value from hyper parameters for a specified amount of search rounds. In this approach, the hyper-parameters to be included in the search is specified, and either a list or a range of continuous value is provided (for numerical hyper-parameters only). \n",
    "\n",
    "\n",
    "By comparing the evaluation metric scored, this technique can help to identify optimal hyper-parameters combination for the given learning algorithm for model building."
   ]
  },
  {
   "cell_type": "markdown",
   "metadata": {},
   "source": [
    "### Question 8 - Cross-Validation\n",
    "*What is the k-fold cross-validation training technique? What benefit does this technique provide for grid search when optimizing a model?*  \n",
    "**Hint:** Much like the reasoning behind having a testing set, what could go wrong with using grid search without a cross-validated set?"
   ]
  },
  {
   "cell_type": "markdown",
   "metadata": {},
   "source": [
    "**Answer: **\n",
    "\n",
    "The *k-fold cross-validation* technique can be summarised as the following:\n",
    "\n",
    "* Separate the data side randomly in k folds, where k is an integer value (i.e. 10)\n",
    "* Perform model validation k times.  At each time, pick different k-1 data splits as training data, and using the remain 1 data split as validation data.\n",
    "* The efficacy of the model can be justed by the mean value of the k validations results. \n",
    "\n",
    "By using the *k-fold cross-validation* technique during gridsearch, one can obtain more robust evaluation results at each gridsearch evaluation step comparing to simple train/test split. This is because the *k-fold cross-validation* technique allows the model to training from more combination of training data points, as well as perform prediction on more combination of test data points, and therefore maximise the potential learning a model can achieve from the given data set."
   ]
  },
  {
   "cell_type": "markdown",
   "metadata": {},
   "source": [
    "### Implementation: Fitting a Model\n",
    "Your final implementation requires that you bring everything together and train a model using the **decision tree algorithm**. To ensure that you are producing an optimized model, you will train the model using the grid search technique to optimize the `'max_depth'` parameter for the decision tree. The `'max_depth'` parameter can be thought of as how many questions the decision tree algorithm is allowed to ask about the data before making a prediction. Decision trees are part of a class of algorithms called *supervised learning algorithms*.\n",
    "\n",
    "For the `fit_model` function in the code cell below, you will need to implement the following:\n",
    "- Use [`DecisionTreeRegressor`](http://scikit-learn.org/stable/modules/generated/sklearn.tree.DecisionTreeRegressor.html) from `sklearn.tree` to create a decision tree regressor object.\n",
    "  - Assign this object to the `'regressor'` variable.\n",
    "- Create a dictionary for `'max_depth'` with the values from 1 to 10, and assign this to the `'params'` variable.\n",
    "- Use [`make_scorer`](http://scikit-learn.org/stable/modules/generated/sklearn.metrics.make_scorer.html) from `sklearn.metrics` to create a scoring function object.\n",
    "  - Pass the `performance_metric` function as a parameter to the object.\n",
    "  - Assign this scoring function to the `'scoring_fnc'` variable.\n",
    "- Use [`GridSearchCV`](http://scikit-learn.org/0.17/modules/generated/sklearn.grid_search.GridSearchCV.html) from `sklearn.grid_search` to create a grid search object.\n",
    "  - Pass the variables `'regressor'`, `'params'`, `'scoring_fnc'`, and `'cv_sets'` as parameters to the object. \n",
    "  - Assign the `GridSearchCV` object to the `'grid'` variable."
   ]
  },
  {
   "cell_type": "code",
   "execution_count": 10,
   "metadata": {
    "collapsed": false
   },
   "outputs": [],
   "source": [
    "#Import 'make_scorer', 'DecisionTreeRegressor', and 'GridSearchCV'\n",
    "from sklearn.tree import DecisionTreeRegressor\n",
    "from sklearn.metrics import explained_variance_score, make_scorer\n",
    "from sklearn.grid_search import GridSearchCV\n",
    "\n",
    "def fit_model(X, y):\n",
    "    \"\"\" Performs grid search over the 'max_depth' parameter for a \n",
    "        decision tree regressor trained on the input data [X, y]. \"\"\"\n",
    "    \n",
    "    # Create cross-validation sets from the training data\n",
    "    cv_sets = ShuffleSplit(X.shape[0], n_iter = 10, test_size = 0.20, random_state = 0)\n",
    "\n",
    "    # Create a decision tree regressor object\n",
    "    regressor = DecisionTreeRegressor()\n",
    "    \n",
    "    # Create a dictionary for the parameter 'max_depth' with a range from 1 to 10\n",
    "    max_depths_choices=np.arange(10)+1\n",
    "    params = {'max_depth':max_depths_choices}\n",
    "\n",
    "    # Transform 'performance_metric' into a scoring function using 'make_scorer' \n",
    "    scoring_fnc = make_scorer(performance_metric)\n",
    "\n",
    "    # Create the grid search object\n",
    "    grid = GridSearchCV(estimator=regressor, param_grid=params, scoring=scoring_fnc, cv=cv_sets)\n",
    "\n",
    "    # Fit the grid search object to the data to compute the optimal model\n",
    "    grid = grid.fit(X, y)\n",
    "\n",
    "    # Return the optimal model after fitting the data\n",
    "    return grid.best_estimator_"
   ]
  },
  {
   "cell_type": "markdown",
   "metadata": {},
   "source": [
    "### Making Predictions\n",
    "Once a model has been trained on a given set of data, it can now be used to make predictions on new sets of input data. In the case of a *decision tree regressor*, the model has learned *what the best questions to ask about the input data are*, and can respond with a prediction for the **target variable**. You can use these predictions to gain information about data where the value of the target variable is unknown — such as data the model was not trained on."
   ]
  },
  {
   "cell_type": "markdown",
   "metadata": {},
   "source": [
    "### Question 9 - Optimal Model\n",
    "_What maximum depth does the optimal model have? How does this result compare to your guess in **Question 6**?_  \n",
    "\n",
    "Run the code block below to fit the decision tree regressor to the training data and produce an optimal model."
   ]
  },
  {
   "cell_type": "code",
   "execution_count": 11,
   "metadata": {
    "collapsed": false,
    "scrolled": true
   },
   "outputs": [
    {
     "name": "stdout",
     "output_type": "stream",
     "text": [
      "Parameter 'max_depth' is 4 for the optimal model.\n"
     ]
    }
   ],
   "source": [
    "# Fit the training data to the model using grid search\n",
    "reg = fit_model(X_train, y_train)\n",
    "\n",
    "# Produce the value for 'max_depth'\n",
    "print \"Parameter 'max_depth' is {} for the optimal model.\".format(reg.get_params()['max_depth'])"
   ]
  },
  {
   "cell_type": "markdown",
   "metadata": {},
   "source": [
    "**Answer: **\n",
    "\n",
    "The optimal value for *max_depth* from GridSearchCV is **4**. I have drawn the same conclusion in in my answer for ***Question 6***. "
   ]
  },
  {
   "cell_type": "markdown",
   "metadata": {},
   "source": [
    "### Question 10 - Predicting Selling Prices\n",
    "Imagine that you were a real estate agent in the Boston area looking to use this model to help price homes owned by your clients that they wish to sell. You have collected the following information from three of your clients:\n",
    "\n",
    "| Feature | Client 1 | Client 2 | Client 3 |\n",
    "| :---: | :---: | :---: | :---: |\n",
    "| Total number of rooms in home | 5 rooms | 4 rooms | 8 rooms |\n",
    "| Neighborhood poverty level (as %) | 17% | 32% | 3% |\n",
    "| Student-teacher ratio of nearby schools | 15-to-1 | 22-to-1 | 12-to-1 |\n",
    "*What price would you recommend each client sell his/her home at? Do these prices seem reasonable given the values for the respective features?*  \n",
    "**Hint:** Use the statistics you calculated in the **Data Exploration** section to help justify your response.  \n",
    "\n",
    "Run the code block below to have your optimized model make predictions for each client's home."
   ]
  },
  {
   "cell_type": "code",
   "execution_count": 12,
   "metadata": {
    "collapsed": false
   },
   "outputs": [
    {
     "name": "stdout",
     "output_type": "stream",
     "text": [
      "Predicted selling price for Client 1's home: $391,183.33\n",
      "Predicted selling price for Client 2's home: $189,123.53\n",
      "Predicted selling price for Client 3's home: $942,666.67\n"
     ]
    }
   ],
   "source": [
    "# Produce a matrix for client data\n",
    "client_data = [[5, 17, 15], # Client 1\n",
    "               [4, 32, 22], # Client 2\n",
    "               [8, 3, 12]]  # Client 3\n",
    "\n",
    "# Show predictions\n",
    "for i, price in enumerate(reg.predict(client_data)):\n",
    "    print \"Predicted selling price for Client {}'s home: ${:,.2f}\".format(i+1, price)"
   ]
  },
  {
   "cell_type": "markdown",
   "metadata": {},
   "source": [
    "**Answer: **\n",
    "\n",
    "I would follow the model's suggestion and recommend the following price, by rounding up each value to the closest hundreds value - in the data all the MEDV values are in rounded to the hundreds of dollars: \n",
    "* client 1: \\$391,200 - round up from \\$391,183.33 suggested by the model\n",
    "* client 2: \\$189,100 - round down from \\$189,123.53 suggested by the model\n",
    "* client 3: \\$942,700 - round up from \\$942,666.67 suggested by the model\n",
    "\n",
    "These prices seem to reasonable to me, based on the following observation:\n",
    "* By the *RM* feature: the more rooms a house have, the higher the price. In this case, client 3's house is most expensive with 8 rooms, client 1's house is the second with 5 rooms, and client 3's house i the cheapest with 4 rooms\n",
    "\n",
    "* By the *LSTAT* feature: the lower this value the higher the price. In this case client 3's house is the most expensive with 3% neighbourhood poverty level, client 1's house is the second with 17%, client 3's house is the cheapest with 32%\n",
    "\n",
    "\n",
    "* By the *PTRATIO* feature: the lower this value the higher the price. In this case client 3's house is the most expensive with 12-to-1 student teacher ratio of nearby schools,  client 1's house is the second with 15-to-1, client 3's house is the cheapest with 22-to-1.\n",
    "\n",
    "* By comparing client's features to house features  in similar price range in the dataset.\n",
    "    * Comparing client 1's house to the houses with medium price in the data: the average features value for house with medium price (\\$504,000) are: RM - 5.88, LSTAT - 9.02, PTRATIO: 17.65. These values are in the similar range to the corresponding features of client 1's house. The LSTAT of the medium house is lower than that of client 1, and therefore explain the fact that, although in the same range,  client 1's value is lower than the exact medium value.\n",
    "    \n",
    "    * Comparing client 2's house to the houses with minimum price in the data: the average features value for house with minimum price (\\$504,000) are: RM - 5.568, LSTAT - 26.785, PTRATIO: 20.2. These values are in the similar range to the corresponding features of client 2's house. Therefore client 2's house is in the lower range of the market price　\n",
    "    \n",
    "    * Comparing client 3's house to the houses with maximum price in the data: the average features value for house with maximum price (\\$1,024,800) are: RM - 8.398, LSTAT - 5.91, PTRATIO: 13.00. These values are in the similar range to the correspoding features of client 3's house. Therefore client 3's is in the upper range of the market price."
   ]
  },
  {
   "cell_type": "markdown",
   "metadata": {},
   "source": [
    "### Sensitivity\n",
    "An optimal model is not necessarily a robust model. Sometimes, a model is either too complex or too simple to sufficiently generalize to new data. Sometimes, a model could use a learning algorithm that is not appropriate for the structure of the data given. Other times, the data itself could be too noisy or contain too few samples to allow a model to adequately capture the target variable — i.e., the model is underfitted. Run the code cell below to run the `fit_model` function ten times with different training and testing sets to see how the prediction for a specific client changes with the data it's trained on."
   ]
  },
  {
   "cell_type": "code",
   "execution_count": 23,
   "metadata": {
    "collapsed": false
   },
   "outputs": [
    {
     "name": "stdout",
     "output_type": "stream",
     "text": [
      "Trial 1: $391,183.33\n",
      "Trial 2: $419,700.00\n",
      "Trial 3: $415,800.00\n",
      "Trial 4: $420,622.22\n",
      "Trial 5: $418,377.27\n",
      "Trial 6: $411,931.58\n",
      "Trial 7: $399,663.16\n",
      "Trial 8: $407,232.00\n",
      "Trial 9: $351,577.61\n",
      "Trial 10: $413,700.00\n",
      "\n",
      "Range in prices: $69,044.61\n"
     ]
    }
   ],
   "source": [
    "vs.PredictTrials(features, prices, fit_model, client_data)"
   ]
  },
  {
   "cell_type": "markdown",
   "metadata": {},
   "source": [
    "### Question 11 - Applicability\n",
    "*In a few sentences, discuss whether the constructed model should or should not be used in a real-world setting.*  \n",
    "**Hint:** Some questions to answering:\n",
    "- *How relevant today is data that was collected from 1978?*\n",
    "- *Are the features present in the data sufficient to describe a home?*\n",
    "- *Is the model robust enough to make consistent predictions?*\n",
    "- *Would data collected in an urban city like Boston be applicable in a rural city?*"
   ]
  },
  {
   "cell_type": "markdown",
   "metadata": {},
   "source": [
    "**Answer: **\n",
    "\n",
    "The model that is constructed in this exercise shows the potential of using predictive model to perform pricing for real estate. However, I **would not** use this model AS IT IS in the real world setting. For the following reasons:\n",
    "\n",
    "* **Time Relevance**: The data was collected in 1978, and the factors that drive house pricing would have changed significantly in almost 40 years time. For instance, the number of rooms that is available in a house for each portion of the entire pricing range may have changed. Contextual factors like neighbourhood poverty level , and the student-to-teach rate would have also changed. The distribution of these feature values among the Boston population today may no longer have the same relevance as it was 40 years ago. \n",
    "\n",
    "* **Feature Limitation**: In reality daily there are a lot of factors that could drive the house price. For instance,  crime rate of the area, age of the house, area of the land, number of floors, location of garage, etc. All these features would have impacts and ideally, a real estate agent would also like to capture these elements before a model can be constructed. \n",
    "\n",
    "\n",
    "* **Number of data points**: With less than 500 data points, this dataset would most likely not able to be a representative sample of the Boston population. Such a metropolitan is likely to have hundreds of thousands of house in the market, and a bigger dataset would be required to enable the construction of more realistic models.   Another related point is that, as pointed out above, more features are probably also required for a more realistic prediction: this indicated a much larger dataset would be required, because the number of data that need to produce a model that generalise accurately grow exponentially as the feature space grow. \n",
    "\n",
    "\n",
    "* **Robustness of model**: As shown in the ＂sensitivity\" session, the predicted rice for the same client data fluctuated for more than 10% which is quite significant for house price. It remains to be seen if the same algorithm with the same complexity would have produced more consistent results for a larger data sets. If more features are required, the model may also need to be tuned in its level of complexity in order to have enough ability to recognise the pattern within the dataset.\n",
    "\n",
    "\n",
    "* **Location relevance**: The data was captured in the Boston area in the Unite States. It is doubtful that it can be applicable for  rural area or cities in other countries. "
   ]
  },
  {
   "cell_type": "markdown",
   "metadata": {},
   "source": [
    "> **Note**: Once you have completed all of the code implementations and successfully answered each question above, you may finalize your work by exporting the iPython Notebook as an HTML document. You can do this by using the menu above and navigating to  \n",
    "**File -> Download as -> HTML (.html)**. Include the finished document along with this notebook as your submission."
   ]
  }
 ],
 "metadata": {
  "anaconda-cloud": {},
  "kernelspec": {
   "display_name": "Python [default]",
   "language": "python",
   "name": "python2"
  },
  "language_info": {
   "codemirror_mode": {
    "name": "ipython",
    "version": 2
   },
   "file_extension": ".py",
   "mimetype": "text/x-python",
   "name": "python",
   "nbconvert_exporter": "python",
   "pygments_lexer": "ipython2",
   "version": "2.7.12"
  }
 },
 "nbformat": 4,
 "nbformat_minor": 0
}
