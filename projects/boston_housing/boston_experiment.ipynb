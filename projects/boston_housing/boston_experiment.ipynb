{
 "cells": [
  {
   "cell_type": "code",
   "execution_count": 1,
   "metadata": {
    "collapsed": false
   },
   "outputs": [
    {
     "name": "stdout",
     "output_type": "stream",
     "text": [
      "Boston housing dataset has 489 data points with 4 variables each.\n"
     ]
    }
   ],
   "source": [
    "# Import libraries necessary for this project\n",
    "import numpy as np\n",
    "import pandas as pd\n",
    "from sklearn.cross_validation import ShuffleSplit\n",
    "\n",
    "# Import supplementary visualizations code visuals.py\n",
    "import visuals as vs\n",
    "\n",
    "# Pretty display for notebooks\n",
    "%matplotlib inline\n",
    "\n",
    "# Load the Boston housing dataset\n",
    "data = pd.read_csv('housing.csv')\n",
    "prices = data['MEDV']\n",
    "features = data.drop('MEDV', axis = 1)\n",
    "    \n",
    "# Success\n",
    "print \"Boston housing dataset has {} data points with {} variables each.\".format(*data.shape)"
   ]
  },
  {
   "cell_type": "code",
   "execution_count": 2,
   "metadata": {
    "collapsed": false
   },
   "outputs": [
    {
     "data": {
      "text/html": [
       "<div>\n",
       "<table border=\"1\" class=\"dataframe\">\n",
       "  <thead>\n",
       "    <tr style=\"text-align: right;\">\n",
       "      <th></th>\n",
       "      <th>RM</th>\n",
       "      <th>LSTAT</th>\n",
       "      <th>PTRATIO</th>\n",
       "      <th>MEDV</th>\n",
       "    </tr>\n",
       "  </thead>\n",
       "  <tbody>\n",
       "    <tr>\n",
       "      <th>0</th>\n",
       "      <td>6.575</td>\n",
       "      <td>4.98</td>\n",
       "      <td>15.3</td>\n",
       "      <td>504000.0</td>\n",
       "    </tr>\n",
       "    <tr>\n",
       "      <th>1</th>\n",
       "      <td>6.421</td>\n",
       "      <td>9.14</td>\n",
       "      <td>17.8</td>\n",
       "      <td>453600.0</td>\n",
       "    </tr>\n",
       "    <tr>\n",
       "      <th>2</th>\n",
       "      <td>7.185</td>\n",
       "      <td>4.03</td>\n",
       "      <td>17.8</td>\n",
       "      <td>728700.0</td>\n",
       "    </tr>\n",
       "    <tr>\n",
       "      <th>3</th>\n",
       "      <td>6.998</td>\n",
       "      <td>2.94</td>\n",
       "      <td>18.7</td>\n",
       "      <td>701400.0</td>\n",
       "    </tr>\n",
       "    <tr>\n",
       "      <th>4</th>\n",
       "      <td>7.147</td>\n",
       "      <td>5.33</td>\n",
       "      <td>18.7</td>\n",
       "      <td>760200.0</td>\n",
       "    </tr>\n",
       "  </tbody>\n",
       "</table>\n",
       "</div>"
      ],
      "text/plain": [
       "      RM  LSTAT  PTRATIO      MEDV\n",
       "0  6.575   4.98     15.3  504000.0\n",
       "1  6.421   9.14     17.8  453600.0\n",
       "2  7.185   4.03     17.8  728700.0\n",
       "3  6.998   2.94     18.7  701400.0\n",
       "4  7.147   5.33     18.7  760200.0"
      ]
     },
     "execution_count": 2,
     "metadata": {},
     "output_type": "execute_result"
    }
   ],
   "source": [
    "data.head()"
   ]
  },
  {
   "cell_type": "code",
   "execution_count": 9,
   "metadata": {
    "collapsed": false
   },
   "outputs": [
    {
     "data": {
      "text/plain": [
       "105000.0"
      ]
     },
     "execution_count": 9,
     "metadata": {},
     "output_type": "execute_result"
    }
   ],
   "source": [
    "np.min(data['MEDV'].values)"
   ]
  },
  {
   "cell_type": "code",
   "execution_count": 11,
   "metadata": {
    "collapsed": true
   },
   "outputs": [],
   "source": [
    "from sklearn.metrics import r2_score"
   ]
  },
  {
   "cell_type": "code",
   "execution_count": 13,
   "metadata": {
    "collapsed": true
   },
   "outputs": [],
   "source": [
    "from sklearn.metrics import r2_score\n",
    "\n",
    "def performance_metric(y_true, y_predict):\n",
    "    \"\"\" Calculates and returns the performance score between \n",
    "        true and predicted values based on the metric chosen. \"\"\"\n",
    "    \n",
    "    # TODO: Calculate the performance score between 'y_true' and 'y_predict'\n",
    "    score = r2_score(y_true, y_predict)\n",
    "    \n",
    "    # Return the score\n",
    "    return score"
   ]
  },
  {
   "cell_type": "code",
   "execution_count": 14,
   "metadata": {
    "collapsed": false
   },
   "outputs": [
    {
     "name": "stdout",
     "output_type": "stream",
     "text": [
      "Model has a coefficient of determination, R^2, of 0.923.\n"
     ]
    }
   ],
   "source": [
    "# Calculate the performance of this model\n",
    "score = performance_metric([3, -0.5, 2, 7, 4.2], [2.5, 0.0, 2.1, 7.8, 5.3])\n",
    "print \"Model has a coefficient of determination, R^2, of {:.3f}.\".format(score)"
   ]
  },
  {
   "cell_type": "code",
   "execution_count": 16,
   "metadata": {
    "collapsed": false
   },
   "outputs": [
    {
     "data": {
      "text/html": [
       "<div>\n",
       "<table border=\"1\" class=\"dataframe\">\n",
       "  <thead>\n",
       "    <tr style=\"text-align: right;\">\n",
       "      <th></th>\n",
       "      <th>RM</th>\n",
       "      <th>LSTAT</th>\n",
       "      <th>PTRATIO</th>\n",
       "    </tr>\n",
       "  </thead>\n",
       "  <tbody>\n",
       "    <tr>\n",
       "      <th>0</th>\n",
       "      <td>6.575</td>\n",
       "      <td>4.98</td>\n",
       "      <td>15.3</td>\n",
       "    </tr>\n",
       "    <tr>\n",
       "      <th>1</th>\n",
       "      <td>6.421</td>\n",
       "      <td>9.14</td>\n",
       "      <td>17.8</td>\n",
       "    </tr>\n",
       "    <tr>\n",
       "      <th>2</th>\n",
       "      <td>7.185</td>\n",
       "      <td>4.03</td>\n",
       "      <td>17.8</td>\n",
       "    </tr>\n",
       "    <tr>\n",
       "      <th>3</th>\n",
       "      <td>6.998</td>\n",
       "      <td>2.94</td>\n",
       "      <td>18.7</td>\n",
       "    </tr>\n",
       "    <tr>\n",
       "      <th>4</th>\n",
       "      <td>7.147</td>\n",
       "      <td>5.33</td>\n",
       "      <td>18.7</td>\n",
       "    </tr>\n",
       "  </tbody>\n",
       "</table>\n",
       "</div>"
      ],
      "text/plain": [
       "      RM  LSTAT  PTRATIO\n",
       "0  6.575   4.98     15.3\n",
       "1  6.421   9.14     17.8\n",
       "2  7.185   4.03     17.8\n",
       "3  6.998   2.94     18.7\n",
       "4  7.147   5.33     18.7"
      ]
     },
     "execution_count": 16,
     "metadata": {},
     "output_type": "execute_result"
    }
   ],
   "source": [
    "X=data.drop(['MEDV'], axis=1)\n",
    "X.head()"
   ]
  },
  {
   "cell_type": "code",
   "execution_count": 17,
   "metadata": {
    "collapsed": true
   },
   "outputs": [],
   "source": [
    "from sklearn.cross_validation import train_test_split\n",
    "\n",
    "# seperating label from the features \n",
    "y=data.MEDV\n",
    "X=data.drop(['MEDV'], axis=1)\n",
    "\n",
    "# perform train and test data split\n",
    "X_train, X_test, y_train, y_test=train_test_split(X, y, test_size=0.2, random_state=0) \n",
    "\n"
   ]
  },
  {
   "cell_type": "code",
   "execution_count": 20,
   "metadata": {
    "collapsed": false
   },
   "outputs": [
    {
     "name": "stdout",
     "output_type": "stream",
     "text": [
      "(391, 3)\n",
      "(98, 3)\n"
     ]
    }
   ],
   "source": [
    "print(X_train.shape)\n",
    "print(X_test.shape)"
   ]
  },
  {
   "cell_type": "code",
   "execution_count": 32,
   "metadata": {
    "collapsed": false
   },
   "outputs": [
    {
     "data": {
      "text/plain": [
       "array([ 1,  2,  3,  4,  5,  6,  7,  8,  9, 10])"
      ]
     },
     "execution_count": 32,
     "metadata": {},
     "output_type": "execute_result"
    }
   ],
   "source": [
    "max_depths_choices=np.arange(10)+1\n",
    "max_depths_choices"
   ]
  },
  {
   "cell_type": "code",
   "execution_count": 37,
   "metadata": {
    "collapsed": false
   },
   "outputs": [],
   "source": [
    "#Import 'make_scorer', 'DecisionTreeRegressor', and 'GridSearchCV'\n",
    "from sklearn.tree import DecisionTreeRegressor\n",
    "from sklearn.metrics import explained_variance_score, make_scorer\n",
    "from sklearn.grid_search import GridSearchCV\n",
    "\n",
    "def fit_model(X, y, verbose=0):\n",
    "    \"\"\" Performs grid search over the 'max_depth' parameter for a \n",
    "        decision tree regressor trained on the input data [X, y]. \"\"\"\n",
    "    \n",
    "    # Create cross-validation sets from the training data\n",
    "    cv_sets = ShuffleSplit(X.shape[0], n_iter = 10, test_size = 0.20, random_state = 0)\n",
    "\n",
    "    # Create a decision tree regressor object\n",
    "    regressor = DecisionTreeRegressor()\n",
    "    \n",
    "    # Create a dictionary for the parameter 'max_depth' with a range from 1 to 10\n",
    "    max_depths_choices=np.arange(10)+1\n",
    "    params = {'max_depth':max_depths_choices}\n",
    "\n",
    "    # Transform 'performance_metric' into a scoring function using 'make_scorer' \n",
    "    scoring_fnc = make_scorer(performance_metric)\n",
    "\n",
    "    # Create the grid search object\n",
    "    grid = GridSearchCV(estimator=regressor, param_grid=params, scoring=scoring_fnc, cv=cv_sets, verbose=verbose)\n",
    "\n",
    "    # Fit the grid search object to the data to compute the optimal model\n",
    "    grid = grid.fit(X, y)\n",
    "\n",
    "    # Return the optimal model after fitting the data\n",
    "    return grid, grid.best_estimator_"
   ]
  },
  {
   "cell_type": "code",
   "execution_count": 43,
   "metadata": {
    "collapsed": false
   },
   "outputs": [
    {
     "name": "stdout",
     "output_type": "stream",
     "text": [
      "Fitting 10 folds for each of 10 candidates, totalling 100 fits\n",
      "[CV] max_depth=1 .....................................................\n",
      "[CV] ............................................ max_depth=1 -   0.0s\n",
      "[CV] max_depth=1 .....................................................\n",
      "[CV] ............................................ max_depth=1 -   0.0s\n",
      "[CV] max_depth=1 .....................................................\n",
      "[CV] ............................................ max_depth=1 -   0.0s\n",
      "[CV] max_depth=1 .....................................................\n",
      "[CV] ............................................ max_depth=1 -   0.0s\n",
      "[CV] max_depth=1 .....................................................\n",
      "[CV] ............................................ max_depth=1 -   0.0s\n",
      "[CV] max_depth=1 .....................................................\n",
      "[CV] ............................................ max_depth=1 -   0.0s\n",
      "[CV] max_depth=1 .....................................................\n",
      "[CV] ............................................ max_depth=1 -   0.0s\n",
      "[CV] max_depth=1 .....................................................\n",
      "[CV] ............................................ max_depth=1 -   0.0s\n",
      "[CV] max_depth=1 .....................................................\n",
      "[CV] ............................................ max_depth=1 -   0.0s\n",
      "[CV] max_depth=1 .....................................................\n",
      "[CV] ............................................ max_depth=1 -   0.0s\n",
      "[CV] max_depth=2 .....................................................\n",
      "[CV] ............................................ max_depth=2 -   0.0s\n",
      "[CV] max_depth=2 .....................................................\n",
      "[CV] ............................................ max_depth=2 -   0.0s\n",
      "[CV] max_depth=2 .....................................................\n",
      "[CV] ............................................ max_depth=2 -   0.0s\n",
      "[CV] max_depth=2 .....................................................\n",
      "[CV] ............................................ max_depth=2 -   0.0s\n",
      "[CV] max_depth=2 .....................................................\n",
      "[CV] ............................................ max_depth=2 -   0.0s\n",
      "[CV] max_depth=2 .....................................................\n",
      "[CV] ............................................ max_depth=2 -   0.0s\n",
      "[CV] max_depth=2 .....................................................\n",
      "[CV] ............................................ max_depth=2 -   0.0s\n",
      "[CV] max_depth=2 .....................................................\n",
      "[CV] ............................................ max_depth=2 -   0.0s\n",
      "[CV] max_depth=2 .....................................................\n",
      "[CV] ............................................ max_depth=2 -   0.0s\n",
      "[CV] max_depth=2 .....................................................\n",
      "[CV] ............................................ max_depth=2 -   0.0s\n",
      "[CV] max_depth=3 .....................................................\n",
      "[CV] ............................................ max_depth=3 -   0.0s\n",
      "[CV] max_depth=3 .....................................................\n",
      "[CV] ............................................ max_depth=3 -   0.0s\n",
      "[CV] max_depth=3 .....................................................\n",
      "[CV] ............................................ max_depth=3 -   0.0s\n",
      "[CV] max_depth=3 .....................................................\n",
      "[CV] ............................................ max_depth=3 -   0.0s\n",
      "[CV] max_depth=3 .....................................................\n",
      "[CV] ............................................ max_depth=3 -   0.0s\n",
      "[CV] max_depth=3 .....................................................\n",
      "[CV] ............................................ max_depth=3 -   0.0s\n",
      "[CV] max_depth=3 .....................................................\n",
      "[CV] ............................................ max_depth=3 -   0.0s\n",
      "[CV] max_depth=3 .....................................................\n",
      "[CV] ............................................ max_depth=3 -   0.0s\n",
      "[CV] max_depth=3 .....................................................\n",
      "[CV] ............................................ max_depth=3 -   0.0s\n",
      "[CV] max_depth=3 .....................................................\n",
      "[CV] ............................................ max_depth=3 -   0.0s\n",
      "[CV] max_depth=4 .....................................................\n",
      "[CV] ............................................ max_depth=4 -   0.0s\n",
      "[CV] max_depth=4 .....................................................\n",
      "[CV] ............................................ max_depth=4 -   0.0s\n",
      "[CV] max_depth=4 .....................................................\n",
      "[CV] ............................................ max_depth=4 -   0.0s\n",
      "[CV] max_depth=4 .....................................................\n",
      "[CV] ............................................ max_depth=4 -   0.0s\n",
      "[CV] max_depth=4 .....................................................\n",
      "[CV] ............................................ max_depth=4 -   0.0s\n",
      "[CV] max_depth=4 .....................................................\n",
      "[CV] ............................................ max_depth=4 -   0.0s\n",
      "[CV] max_depth=4 .....................................................\n",
      "[CV] ............................................ max_depth=4 -   0.0s\n",
      "[CV] max_depth=4 .....................................................\n",
      "[CV] ............................................ max_depth=4 -   0.0s\n",
      "[CV] max_depth=4 .....................................................\n",
      "[CV] ............................................ max_depth=4 -   0.0s\n",
      "[CV] max_depth=4 .....................................................\n",
      "[CV] ............................................ max_depth=4 -   0.0s\n",
      "[CV] max_depth=5 .....................................................\n",
      "[CV] ............................................ max_depth=5 -   0.0s\n",
      "[CV] max_depth=5 .....................................................\n",
      "[CV] ............................................ max_depth=5 -   0.0s\n",
      "[CV] max_depth=5 .....................................................\n",
      "[CV] ............................................ max_depth=5 -   0.0s\n",
      "[CV] max_depth=5 .....................................................\n",
      "[CV] ............................................ max_depth=5 -   0.0s\n",
      "[CV] max_depth=5 .....................................................\n",
      "[CV] ............................................ max_depth=5 -   0.0s\n",
      "[CV] max_depth=5 .....................................................\n",
      "[CV] ............................................ max_depth=5 -   0.0s\n",
      "[CV] max_depth=5 .....................................................\n",
      "[CV] ............................................ max_depth=5 -   0.0s\n",
      "[CV] max_depth=5 .....................................................\n",
      "[CV] ............................................ max_depth=5 -   0.0s\n",
      "[CV] max_depth=5 .....................................................\n",
      "[CV] ............................................ max_depth=5 -   0.0s\n",
      "[CV] max_depth=5 .....................................................\n",
      "[CV] ............................................ max_depth=5 -   0.0s\n",
      "[CV] max_depth=6 .....................................................\n",
      "[CV] ............................................ max_depth=6 -   0.0s\n",
      "[CV] max_depth=6 .....................................................\n",
      "[CV] ............................................ max_depth=6 -   0.0s\n",
      "[CV] max_depth=6 .....................................................\n",
      "[CV] ............................................ max_depth=6 -   0.0s\n",
      "[CV] max_depth=6 .....................................................\n",
      "[CV] ............................................ max_depth=6 -   0.0s\n",
      "[CV] max_depth=6 .....................................................\n",
      "[CV] ............................................ max_depth=6 -   0.0s\n",
      "[CV] max_depth=6 .....................................................\n",
      "[CV] ............................................ max_depth=6 -   0.0s\n",
      "[CV] max_depth=6 .....................................................\n",
      "[CV] ............................................ max_depth=6 -   0.0s\n",
      "[CV] max_depth=6 .....................................................\n",
      "[CV] ............................................ max_depth=6 -   0.0s\n",
      "[CV] max_depth=6 .....................................................\n",
      "[CV] ............................................ max_depth=6 -   0.0s\n",
      "[CV] max_depth=6 .....................................................\n",
      "[CV] ............................................ max_depth=6 -   0.0s\n",
      "[CV] max_depth=7 .....................................................\n",
      "[CV] ............................................ max_depth=7 -   0.0s\n",
      "[CV] max_depth=7 .....................................................\n",
      "[CV] ............................................ max_depth=7 -   0.0s\n",
      "[CV] max_depth=7 .....................................................\n",
      "[CV] ............................................ max_depth=7 -   0.0s\n",
      "[CV] max_depth=7 .....................................................\n",
      "[CV] ............................................ max_depth=7 -   0.0s\n",
      "[CV] max_depth=7 .....................................................\n",
      "[CV] ............................................ max_depth=7 -   0.0s\n",
      "[CV] max_depth=7 .....................................................\n",
      "[CV] ............................................ max_depth=7 -   0.0s\n",
      "[CV] max_depth=7 .....................................................\n",
      "[CV] ............................................ max_depth=7 -   0.0s\n",
      "[CV] max_depth=7 .....................................................\n",
      "[CV] ............................................ max_depth=7 -   0.0s\n",
      "[CV] max_depth=7 .....................................................\n",
      "[CV] ............................................ max_depth=7 -   0.0s\n",
      "[CV] max_depth=7 .....................................................\n",
      "[CV] ............................................ max_depth=7 -   0.0s\n",
      "[CV] max_depth=8 .....................................................\n",
      "[CV] ............................................ max_depth=8 -   0.0s\n",
      "[CV] max_depth=8 .....................................................\n",
      "[CV] ............................................ max_depth=8 -   0.0s\n",
      "[CV] max_depth=8 .....................................................\n",
      "[CV] ............................................ max_depth=8 -   0.0s\n",
      "[CV] max_depth=8 .....................................................\n",
      "[CV] ............................................ max_depth=8 -   0.0s\n",
      "[CV] max_depth=8 .....................................................\n",
      "[CV] ............................................ max_depth=8 -   0.0s\n",
      "[CV] max_depth=8 .....................................................\n",
      "[CV] ............................................ max_depth=8 -   0.0s\n",
      "[CV] max_depth=8 .....................................................\n",
      "[CV] ............................................ max_depth=8 -   0.0s\n",
      "[CV] max_depth=8 .....................................................\n",
      "[CV] ............................................ max_depth=8 -   0.0s\n",
      "[CV] max_depth=8 .....................................................\n",
      "[CV] ............................................ max_depth=8 -   0.0s\n",
      "[CV] max_depth=8 .....................................................\n",
      "[CV] ............................................ max_depth=8 -   0.0s\n",
      "[CV] max_depth=9 .....................................................\n",
      "[CV] ............................................ max_depth=9 -   0.0s\n",
      "[CV] max_depth=9 .....................................................\n",
      "[CV] ............................................ max_depth=9 -   0.0s\n",
      "[CV] max_depth=9 .....................................................\n",
      "[CV] ............................................ max_depth=9 -   0.0s\n",
      "[CV] max_depth=9 .....................................................\n",
      "[CV] ............................................ max_depth=9 -   0.0s\n",
      "[CV] max_depth=9 .....................................................\n",
      "[CV] ............................................ max_depth=9 -   0.0s\n",
      "[CV] max_depth=9 .....................................................\n",
      "[CV] ............................................ max_depth=9 -   0.0s\n",
      "[CV] max_depth=9 .....................................................\n",
      "[CV] ............................................ max_depth=9 -   0.0s\n",
      "[CV] max_depth=9 .....................................................\n",
      "[CV] ............................................ max_depth=9 -   0.0s\n",
      "[CV] max_depth=9 .....................................................\n",
      "[CV] ............................................ max_depth=9 -   0.0s\n",
      "[CV] max_depth=9 .....................................................\n",
      "[CV] ............................................ max_depth=9 -   0.0s\n",
      "[CV] max_depth=10 ....................................................\n",
      "[CV] ........................................... max_depth=10 -   0.0s\n",
      "[CV] max_depth=10 ....................................................\n",
      "[CV] ........................................... max_depth=10 -   0.0s\n",
      "[CV] max_depth=10 ....................................................\n",
      "[CV] ........................................... max_depth=10 -   0.0s\n",
      "[CV] max_depth=10 ....................................................\n",
      "[CV] ........................................... max_depth=10 -   0.0s\n",
      "[CV] max_depth=10 ....................................................\n",
      "[CV] ........................................... max_depth=10 -   0.0s\n",
      "[CV] max_depth=10 ....................................................\n",
      "[CV] ........................................... max_depth=10 -   0.0s\n",
      "[CV] max_depth=10 ....................................................\n",
      "[CV] ........................................... max_depth=10 -   0.0s\n",
      "[CV] max_depth=10 ....................................................\n",
      "[CV] ........................................... max_depth=10 -   0.0s\n",
      "[CV] max_depth=10 ....................................................\n",
      "[CV] ........................................... max_depth=10 -   0.0s\n",
      "[CV] max_depth=10 ....................................................\n",
      "[CV] ........................................... max_depth=10 -   0.0s\n",
      "Parameter 'max_depth' is 4 for the optimal model.\n"
     ]
    },
    {
     "name": "stderr",
     "output_type": "stream",
     "text": [
      "[Parallel(n_jobs=1)]: Done  40 tasks       | elapsed:    0.1s\n",
      "[Parallel(n_jobs=1)]: Done 100 out of 100 | elapsed:    0.3s finished\n"
     ]
    }
   ],
   "source": [
    "grid, reg = fit_model(X_train, y_train,2)\n",
    "\n",
    "# Produce the value for 'max_depth'\n",
    "print \"Parameter 'max_depth' is {} for the optimal model.\".format(reg.get_params()['max_depth'])"
   ]
  },
  {
   "cell_type": "code",
   "execution_count": 35,
   "metadata": {
    "collapsed": false
   },
   "outputs": [
    {
     "data": {
      "text/plain": [
       "[mean: 0.39213, std: 0.09209, params: {'max_depth': 1},\n",
       " mean: 0.63487, std: 0.08254, params: {'max_depth': 2},\n",
       " mean: 0.74577, std: 0.06170, params: {'max_depth': 3},\n",
       " mean: 0.77496, std: 0.06050, params: {'max_depth': 4},\n",
       " mean: 0.76891, std: 0.05518, params: {'max_depth': 5},\n",
       " mean: 0.75026, std: 0.05216, params: {'max_depth': 6},\n",
       " mean: 0.74604, std: 0.05584, params: {'max_depth': 7},\n",
       " mean: 0.72987, std: 0.06332, params: {'max_depth': 8},\n",
       " mean: 0.74248, std: 0.06741, params: {'max_depth': 9},\n",
       " mean: 0.71556, std: 0.06247, params: {'max_depth': 10}]"
      ]
     },
     "execution_count": 35,
     "metadata": {},
     "output_type": "execute_result"
    }
   ],
   "source": [
    "grid.grid_scores_"
   ]
  },
  {
   "cell_type": "code",
   "execution_count": 45,
   "metadata": {
    "collapsed": false
   },
   "outputs": [
    {
     "data": {
      "text/plain": [
       "[mean: 0.39603, std: 0.04104, params: {'max_depth': 1},\n",
       " mean: 0.66550, std: 0.03567, params: {'max_depth': 2},\n",
       " mean: 0.76373, std: 0.03430, params: {'max_depth': 3},\n",
       " mean: 0.79657, std: 0.02893, params: {'max_depth': 4},\n",
       " mean: 0.77304, std: 0.04639, params: {'max_depth': 5},\n",
       " mean: 0.73983, std: 0.05829, params: {'max_depth': 6},\n",
       " mean: 0.72228, std: 0.05612, params: {'max_depth': 7},\n",
       " mean: 0.70849, std: 0.05298, params: {'max_depth': 8},\n",
       " mean: 0.67368, std: 0.06869, params: {'max_depth': 9},\n",
       " mean: 0.66803, std: 0.06505, params: {'max_depth': 10}]"
      ]
     },
     "execution_count": 45,
     "metadata": {},
     "output_type": "execute_result"
    }
   ],
   "source": [
    "grid, reg = fit_model(X, y)\n",
    "grid.grid_scores_"
   ]
  },
  {
   "cell_type": "code",
   "execution_count": 50,
   "metadata": {
    "collapsed": false
   },
   "outputs": [
    {
     "name": "stdout",
     "output_type": "stream",
     "text": [
      "Statistics for Boston housing dataset:\n",
      "\n",
      "Minimum price: $105,000.00\n",
      "Maximum price: $1,024,800.00\n",
      "Mean price: $454,342.94\n",
      "Median price $438,900.00\n",
      "Standard deviation of prices: $165,171.13\n",
      "average features of houses with minimum value\n",
      "RM              5.568\n",
      "LSTAT          26.785\n",
      "PTRATIO        20.200\n",
      "MEDV       105000.000\n",
      "dtype: float64\n",
      "average features of houses with maximum value\n",
      "RM               8.398\n",
      "LSTAT            5.910\n",
      "PTRATIO         13.000\n",
      "MEDV       1024800.000\n",
      "dtype: float64\n",
      "average features of houses with median value\n",
      "RM              5.8805\n",
      "LSTAT           9.0200\n",
      "PTRATIO        17.6500\n",
      "MEDV       438900.0000\n",
      "dtype: float64\n"
     ]
    }
   ],
   "source": [
    "# Minimum price of the data\n",
    "minimum_price = np.min(data.MEDV)\n",
    "\n",
    "# Maximum price of the data\n",
    "maximum_price =np.max(data.MEDV)\n",
    "\n",
    "# Mean price of the data\n",
    "mean_price = np.mean(data.MEDV)\n",
    "\n",
    "# Median price of the data\n",
    "median_price = np.median(data.MEDV)\n",
    "\n",
    "# Standard deviation of prices of the data\n",
    "std_price = np.std(data.MEDV)\n",
    "\n",
    "# Show the calculated statistics\n",
    "print \"Statistics for Boston housing dataset:\\n\"\n",
    "print \"Minimum price: ${:,.2f}\".format(minimum_price)\n",
    "print \"Maximum price: ${:,.2f}\".format(maximum_price)\n",
    "print \"Mean price: ${:,.2f}\".format(mean_price)\n",
    "print \"Median price ${:,.2f}\".format(median_price)\n",
    "print \"Standard deviation of prices: ${:,.2f}\".format(std_price)\n",
    "\n",
    "\n",
    "#additional exploration to see what the features are like for min, max and medium value\n",
    "#additional exploration to see what the features are like for min, max and medium value\n",
    "print \"average features of houses with minimum value\"\n",
    "print data[data.MEDV==105000].mean()\n",
    "\n",
    "print \"average features of houses with maximum value\"\n",
    "print data[data.MEDV==1024800].mean()\n",
    "\n",
    "print \"average features of houses with median value\"\n",
    "print data[data.MEDV==438900].mean()"
   ]
  },
  {
   "cell_type": "code",
   "execution_count": 48,
   "metadata": {
    "collapsed": false
   },
   "outputs": [
    {
     "data": {
      "text/html": [
       "<div>\n",
       "<table border=\"1\" class=\"dataframe\">\n",
       "  <thead>\n",
       "    <tr style=\"text-align: right;\">\n",
       "      <th></th>\n",
       "      <th>RM</th>\n",
       "      <th>LSTAT</th>\n",
       "      <th>PTRATIO</th>\n",
       "      <th>MEDV</th>\n",
       "    </tr>\n",
       "  </thead>\n",
       "  <tbody>\n",
       "    <tr>\n",
       "      <th>0</th>\n",
       "      <td>6.575</td>\n",
       "      <td>4.98</td>\n",
       "      <td>15.3</td>\n",
       "      <td>504000.0</td>\n",
       "    </tr>\n",
       "    <tr>\n",
       "      <th>1</th>\n",
       "      <td>6.421</td>\n",
       "      <td>9.14</td>\n",
       "      <td>17.8</td>\n",
       "      <td>453600.0</td>\n",
       "    </tr>\n",
       "    <tr>\n",
       "      <th>2</th>\n",
       "      <td>7.185</td>\n",
       "      <td>4.03</td>\n",
       "      <td>17.8</td>\n",
       "      <td>728700.0</td>\n",
       "    </tr>\n",
       "    <tr>\n",
       "      <th>3</th>\n",
       "      <td>6.998</td>\n",
       "      <td>2.94</td>\n",
       "      <td>18.7</td>\n",
       "      <td>701400.0</td>\n",
       "    </tr>\n",
       "    <tr>\n",
       "      <th>4</th>\n",
       "      <td>7.147</td>\n",
       "      <td>5.33</td>\n",
       "      <td>18.7</td>\n",
       "      <td>760200.0</td>\n",
       "    </tr>\n",
       "  </tbody>\n",
       "</table>\n",
       "</div>"
      ],
      "text/plain": [
       "      RM  LSTAT  PTRATIO      MEDV\n",
       "0  6.575   4.98     15.3  504000.0\n",
       "1  6.421   9.14     17.8  453600.0\n",
       "2  7.185   4.03     17.8  728700.0\n",
       "3  6.998   2.94     18.7  701400.0\n",
       "4  7.147   5.33     18.7  760200.0"
      ]
     },
     "execution_count": 48,
     "metadata": {},
     "output_type": "execute_result"
    }
   ],
   "source": [
    "data.head()"
   ]
  },
  {
   "cell_type": "code",
   "execution_count": 51,
   "metadata": {
    "collapsed": false
   },
   "outputs": [
    {
     "data": {
      "text/plain": [
       "(489, 4)"
      ]
     },
     "execution_count": 51,
     "metadata": {},
     "output_type": "execute_result"
    }
   ],
   "source": [
    "data.shape"
   ]
  },
  {
   "cell_type": "markdown",
   "metadata": {},
   "source": [
    "**Answer: **\n",
    "\n",
    "* **RM**: Increase in the value of 'RM' would lead to an increase of the 'MEDV' value. House prices tend to be higher when there are more room in a house\n",
    "\n",
    "* **LSTAT**: Increase in the value of 'LSTAT' would lead to a decrease of the 'MEDV' value. An area with a poorer population tends to have lower house price - people sometimes perceive poorer area to be associated with less social stability, and higher crime rate. These perceptions tend to have a negative impact on house demand on such areas - especially from people with higher income who can afford to pay a higher price. \n",
    "\n",
    "* **PTRATIO**: Increase in the value of ＇PTRATIO' would lead to a decrease of the 'MEDV' value. Higher 'PTRATIO' value indicates that on average a teacher has to cater for more students in a school. There is a general perception that the quality of education suffers when a teacher has to teach a larger sized group of student. For this reason, the 'PTRATIO' feature could be perceived as an indicator of the school quality in an area: higher 'PTRATIO' value indicating lower school quality, while lower 'PTRATIO' value indicating higher school quality. Therefore, there is a tendency that area with higher 'PTRATIO' would have less house demand and therefore with cheaper house price which is indicated by the 'MEDV' value "
   ]
  }
 ],
 "metadata": {
  "kernelspec": {
   "display_name": "Python [conda env:snakes2]",
   "language": "python",
   "name": "conda-env-snakes2-py"
  },
  "language_info": {
   "codemirror_mode": {
    "name": "ipython",
    "version": 2
   },
   "file_extension": ".py",
   "mimetype": "text/x-python",
   "name": "python",
   "nbconvert_exporter": "python",
   "pygments_lexer": "ipython2",
   "version": "2.7.12"
  }
 },
 "nbformat": 4,
 "nbformat_minor": 1
}
