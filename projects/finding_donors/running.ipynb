{
 "cells": [
  {
   "cell_type": "code",
   "execution_count": 1,
   "metadata": {
    "collapsed": false
   },
   "outputs": [
    {
     "name": "stderr",
     "output_type": "stream",
     "text": [
      "/home/yifan/anaconda3/envs/dragons2/lib/python2.7/site-packages/IPython/html.py:14: ShimWarning: The `IPython.html` package has been deprecated since IPython 4.0. You should import from `notebook` instead. `IPython.html.widgets` has moved to `ipywidgets`.\n",
      "  \"`IPython.html.widgets` has moved to `ipywidgets`.\", ShimWarning)\n"
     ]
    }
   ],
   "source": [
    "%matplotlib inline\n",
    "import numpy as np\n",
    "import pandas as pd\n",
    "import matplotlib.pyplot as plt\n",
    "import sklearn\n",
    "import seaborn as sns\n",
    "import time\n",
    "from sklearn.preprocessing import MinMaxScaler\n",
    "from sklearn.cross_validation import train_test_split\n",
    "from sklearn.metrics import accuracy_score, fbeta_score\n",
    "from sklearn.metrics import precision_score, recall_score\n",
    "\n",
    "from sklearn.linear_model import LogisticRegression\n",
    "from sklearn.tree import DecisionTreeClassifier\n",
    "from sklearn.ensemble import RandomForestClassifier\n",
    "from sklearn.ensemble import GradientBoostingClassifier\n",
    "from sklearn.ensemble import AdaBoostClassifier\n",
    "from sklearn.svm import SVC\n",
    "from sklearn.neighbors import KNeighborsClassifier\n",
    "from sklearn.linear_model import SGDClassifier\n",
    "\n",
    "from sklearn.grid_search import GridSearchCV\n",
    "from sklearn.metrics import make_scorer\n",
    "from sklearn.cross_validation import StratifiedKFold, ShuffleSplit\n",
    "from sklearn.ensemble import RandomForestClassifier\n",
    "\n",
    "import visuals as vs\n",
    "\n",
    "import time"
   ]
  },
  {
   "cell_type": "code",
   "execution_count": 2,
   "metadata": {
    "collapsed": false
   },
   "outputs": [
    {
     "data": {
      "text/plain": [
       "'0.17.1'"
      ]
     },
     "execution_count": 2,
     "metadata": {},
     "output_type": "execute_result"
    }
   ],
   "source": [
    "sklearn.__version__"
   ]
  },
  {
   "cell_type": "code",
   "execution_count": 2,
   "metadata": {
    "collapsed": true
   },
   "outputs": [],
   "source": [
    "data=pd.read_csv('census.csv')\n",
    "\n",
    "n_records = data.shape[0]\n",
    "income_raw = data['income']\n",
    "features_raw = data.drop('income', axis = 1)\n",
    "\n",
    "\n",
    "skewed = ['capital-gain', 'capital-loss']\n",
    "features_raw[skewed] = data[skewed].apply(lambda x: np.log(x + 1))\n",
    "\n",
    "# Initialize a scaler, then apply it to the features\n",
    "scaler = MinMaxScaler()\n",
    "numerical = ['age', 'education-num', 'capital-gain', 'capital-loss', 'hours-per-week']\n",
    "features_raw[numerical] = scaler.fit_transform(data[numerical])\n",
    "\n",
    "features = pd.get_dummies(features_raw)\n",
    "# Encode the 'income_raw' data to numerical values\n",
    "income=income_raw.apply(lambda x:0 if x=='<=50K'  else 1)\n",
    "X_train, X_test, y_train, y_test = train_test_split(features, income, test_size = 0.2, random_state = 0)"
   ]
  },
  {
   "cell_type": "code",
   "execution_count": 4,
   "metadata": {
    "collapsed": false
   },
   "outputs": [],
   "source": [
    "#Import two metrics from sklearn - fbeta_score and accuracy_score\n",
    "from sklearn.metrics import accuracy_score, fbeta_score\n",
    "\n",
    "def train_predict(learner, sample_size, X_train, y_train, X_test, y_test): \n",
    "    '''\n",
    "    inputs:\n",
    "       - learner: the learning algorithm to be trained and predicted on\n",
    "       - sample_size: the size of samples (number) to be drawn from training set\n",
    "       - X_train: features training set\n",
    "       - y_train: income training set\n",
    "       - X_test: features testing set\n",
    "       - y_test: income testing set \n",
    "    '''\n",
    "    results = {}\n",
    "    # Fit the learner to the training data using sample_size\n",
    "    start = time.time() # Get start time\n",
    "    \n",
    "    # Take the first n=sample_size data points for training\n",
    "    X_train_sample=X_train.sample(sample_size)\n",
    "    y_train_sample=y_train[X_train_sample.index]\n",
    "\n",
    "    learner.fit(X_train_sample, y_train_sample)\n",
    "    end = time.time() # Get end time\n",
    "\n",
    "    # Calculate the training time\n",
    "#     results['train_time'] = \"{%0.5f} seconds\" %(end-start)\n",
    "    results['train_time'] = end-start\n",
    "\n",
    "    \n",
    "    # Get the predictions on the test set,\n",
    "    # then get predictions on the first 300 training samples\n",
    "    start = time.time() # Get start time\n",
    "    predictions_test = learner.predict(X_test)\n",
    "    predictions_train = learner.predict(X_train_sample)\n",
    "    end = time.time() # Get end time\n",
    "    \n",
    "    # Calculate the total prediction time\n",
    "    results['pred_time'] = end-start\n",
    "    # Compute accuracy on the first 300 training samples\n",
    "    results['acc_train'] = accuracy_score(y_train_sample.head(300), predictions_train[0:300])\n",
    "    # Compute accuracy on test set\n",
    "    results['acc_test'] = accuracy_score(y_test, predictions_test)\n",
    "    # Compute F-score on the the first 300 training samples\n",
    "    results['f_train'] = fbeta_score(y_train_sample.head(300), predictions_train[0:300],beta=0.5)\n",
    "    # Compute F-score on the test set\n",
    "    results['f_test'] = fbeta_score(y_test, predictions_test, beta=0.5) \n",
    "    # Success\n",
    "    print \"{} trained on {} samples.\".format(learner.__class__.__name__, sample_size)\n",
    "    \n",
    "    # Return the results\n",
    "    return results"
   ]
  },
  {
   "cell_type": "markdown",
   "metadata": {},
   "source": [
    "# 07/02/2017"
   ]
  },
  {
   "cell_type": "code",
   "execution_count": null,
   "metadata": {
    "collapsed": true
   },
   "outputs": [],
   "source": []
  },
  {
   "cell_type": "code",
   "execution_count": 3,
   "metadata": {
    "collapsed": false
   },
   "outputs": [
    {
     "name": "stdout",
     "output_type": "stream",
     "text": [
      "Final accuracy score on the testing data: 0.8714\n",
      "Final F-score on the testing data: 0.7538\n"
     ]
    }
   ],
   "source": [
    "clf=GradientBoostingClassifier(n_estimators=100, learning_rate=0.2, max_depth=4, random_state=111)\n",
    "# clf=RandomForestClassifier()\n",
    "clf.fit(X_train, y_train)\n",
    "clf_predictions = clf.predict(X_test)\n",
    "\n",
    "print \"Final accuracy score on the testing data: {:.4f}\".format(accuracy_score(y_test, clf_predictions))\n",
    "print \"Final F-score on the testing data: {:.4f}\".format(fbeta_score(y_test, clf_predictions, beta = 0.5))"
   ]
  },
  {
   "cell_type": "code",
   "execution_count": 4,
   "metadata": {
    "collapsed": false,
    "scrolled": true
   },
   "outputs": [
    {
     "data": {
      "image/png": "[encoded data removed]",
      "text/plain": [
       "<matplotlib.figure.Figure at 0x7f93ea184110>"
      ]
     },
     "metadata": {},
     "output_type": "display_data"
    }
   ],
   "source": [
    "importances=clf.feature_importances_\n",
    "vs.feature_plot(importances, X_train, y_train)"
   ]
  },
  {
   "cell_type": "code",
   "execution_count": 18,
   "metadata": {
    "collapsed": false
   },
   "outputs": [
    {
     "data": {
      "text/plain": [
       "(103,)"
      ]
     },
     "execution_count": 18,
     "metadata": {},
     "output_type": "execute_result"
    }
   ],
   "source": [
    "clf.feature_importances_.shape"
   ]
  },
  {
   "cell_type": "code",
   "execution_count": 19,
   "metadata": {
    "collapsed": false
   },
   "outputs": [
    {
     "data": {
      "text/plain": [
       "array([ 0.12343053,  0.07520111,  0.12118224,  0.10132616,  0.09731191,\n",
       "        0.0108365 ,  0.01675291,  0.00887392,  0.00744472,  0.0186067 ,\n",
       "        0.00938562,  0.00121785,  0.00464141,  0.00165539,  0.0009882 ,\n",
       "        0.00070966,  0.00163709,  0.00287821,  0.        ,  0.00533039,\n",
       "        0.00292501,  0.00971109,  0.00136852,  0.00294329,  0.0052986 ,\n",
       "        0.        ,  0.00830778,  0.00349207,  0.00223546,  0.00556717,\n",
       "        0.06943847,  0.00643251,  0.00433102,  0.00240677,  0.00445358,\n",
       "        0.00516258,  0.        ,  0.00258056,  0.01406879,  0.01077432,\n",
       "        0.00682774,  0.00517159,  0.01201955,  0.00053514,  0.01397983,\n",
       "        0.00721121,  0.01295683,  0.00790494,  0.0044888 ,  0.01314142,\n",
       "        0.00312157,  0.00238634,  0.00247963,  0.00310839,  0.02193179,\n",
       "        0.00160905,  0.0035255 ,  0.00164277,  0.        ,  0.00725852,\n",
       "        0.00738548,  0.00728994,  0.00297266,  0.00846265,  0.00373074,\n",
       "        0.00215158,  0.00107063,  0.        ,  0.        ,  0.        ,\n",
       "        0.0017474 ,  0.00164603,  0.00144698,  0.00233727,  0.        ,\n",
       "        0.00096007,  0.        ,  0.        ,  0.00084635,  0.00084753,\n",
       "        0.00182931,  0.00193125,  0.00190325,  0.00298713,  0.0029961 ,\n",
       "        0.00341641,  0.00038116,  0.00558729,  0.00124056,  0.        ,\n",
       "        0.00083193,  0.00736683,  0.00363051,  0.00051286,  0.00076555,\n",
       "        0.00105617,  0.00345709,  0.        ,  0.        ,  0.00209723,\n",
       "        0.00870652,  0.00266209,  0.00153672])"
      ]
     },
     "execution_count": 19,
     "metadata": {},
     "output_type": "execute_result"
    }
   ],
   "source": [
    "clf.feature_importances_"
   ]
  },
  {
   "cell_type": "code",
   "execution_count": 70,
   "metadata": {
    "collapsed": false
   },
   "outputs": [
    {
     "name": "stdout",
     "output_type": "stream",
     "text": [
      "['age' 'capital-gain' 'capital-loss' 'hours-per-week' 'education-num'\n",
      " 'marital-status_ Married-civ-spouse' 'relationship_ Wife'\n",
      " 'workclass_ Self-emp-not-inc' 'workclass_ Local-gov'\n",
      " 'occupation_ Exec-managerial']\n",
      "[ 0.12343053  0.12118224  0.10132616  0.09731191  0.07520111  0.06943847\n",
      "  0.02193179  0.0186067   0.01675291  0.01406879]\n"
     ]
    },
    {
     "data": {
      "image/png": "[encoded data removed]",
      "text/plain": [
       "<matplotlib.figure.Figure at 0x7fd2a95b6f90>"
      ]
     },
     "metadata": {},
     "output_type": "display_data"
    }
   ],
   "source": [
    "def feature_plot_10(importances, X_train, y_train):\n",
    "    \n",
    "    # Display the five most important features\n",
    "    indices = np.argsort(importances)[::-1]\n",
    "    columns = X_train.columns.values[indices[:10]]\n",
    "    values = importances[indices][:10]\n",
    "    print(columns)\n",
    "    print(values)\n",
    "    \n",
    "    # Creat the plot\n",
    "    fig = plt.figure(figsize = (9,5))\n",
    "    \n",
    "    plt.title(\"Normalized Weights for First Ten Most Predictive Features\", fontsize = 16)\n",
    "    \n",
    "    plt.bar(np.arange(10), values, width = 0.3, align=\"center\", color = '#00A000', \\\n",
    "          label = \"Feature Weight\")\n",
    "    \n",
    "#     plt.bar(np.arange(10) - 0.25, np.cumsum(values), width = 0.2, align = \"center\", color = '#00A0A0', \\\n",
    "#           label = \"Cumulative Feature Weight\")\n",
    "    \n",
    "    plt.xticks(np.arange(10), columns, rotation=70)\n",
    "    plt.xlim((-0.5, 15))\n",
    "    plt.ylabel(\"Weight\", fontsize = 12)\n",
    "    plt.xlabel(\"Feature\", fontsize = 12)\n",
    "    \n",
    "    plt.legend(loc = 'upper center')\n",
    "    plt.tight_layout()\n",
    "    plt.show()  \n",
    "    \n",
    "feature_plot_10(importances, X_train, y_train)"
   ]
  },
  {
   "cell_type": "code",
   "execution_count": null,
   "metadata": {
    "collapsed": true
   },
   "outputs": [],
   "source": [
    "X_train['education-num'].corr(X_train['oc'])"
   ]
  },
  {
   "cell_type": "code",
   "execution_count": 61,
   "metadata": {
    "collapsed": false
   },
   "outputs": [
    {
     "data": {
      "text/plain": [
       "<Container object of 10 artists>"
      ]
     },
     "execution_count": 61,
     "metadata": {},
     "output_type": "execute_result"
    },
    {
     "data": {
      "image/png": "[encoded data removed]",
      "text/plain": [
       "<matplotlib.figure.Figure at 0x7fd2a93720d0>"
      ]
     },
     "metadata": {},
     "output_type": "display_data"
    }
   ],
   "source": [
    "v=[5,5,5,5,5,5,5,5,5,10]\n",
    "n=np.arange(10)\n",
    "plt.bar(n, v)\n"
   ]
  },
  {
   "cell_type": "markdown",
   "metadata": {},
   "source": [
    "# 06/02/2017"
   ]
  },
  {
   "cell_type": "code",
   "execution_count": 6,
   "metadata": {
    "collapsed": false
   },
   "outputs": [
    {
     "name": "stdout",
     "output_type": "stream",
     "text": [
      "best score is 0.696064\n",
      "('best parameters is: ', {'learning_rate': 0.1})\n",
      "this take 1.9710 seconds\n"
     ]
    }
   ],
   "source": [
    "start = time.time()\n",
    "samples_10 = np.int(X_train.shape[0]*0.1)\n",
    "# samples_100 = np.int(X_train.shape[0])\n",
    "\n",
    "X_train_sample=X_train.sample(samples_10,random_state=111)\n",
    "y_train_sample=y_train[X_train_sample.index]\n",
    "\n",
    "skf = StratifiedKFold(y_train_sample ,n_folds=5, random_state=111)\n",
    "\n",
    "clf= GradientBoostingClassifier(random_state=111)\n",
    "fscorer=make_scorer(fbeta_score, beta=0.5)\n",
    "parameters={'learning_rate':[0.2, 0.1, 0.05]}\n",
    "#             'n_estimators':[ 80, 100, 120,],\n",
    "#             'max_depth':[3,4,5]}\n",
    "\n",
    "grid=GridSearchCV(estimator=clf, param_grid=parameters, scoring=fscorer, cv=5, n_jobs=-1)\n",
    "\n",
    "grid_fit= grid.fit(X_train_sample, y_train_sample)\n",
    "# print grid.best_estimator_\n",
    "\n",
    "\n",
    "end = time.time() \n",
    "print('best score is {:0.6f}'.format(grid_fit.best_score_))\n",
    "print('best parameters is: ', grid_fit.best_params_)\n",
    "print('this take {:0.4f} seconds'.format(end-start))\n",
    "# print('this take )"
   ]
  },
  {
   "cell_type": "code",
   "execution_count": 90,
   "metadata": {
    "collapsed": false
   },
   "outputs": [
    {
     "name": "stdout",
     "output_type": "stream",
     "text": [
      "best score is 0.696064\n",
      "('best parameters is: ', {'learning_rate': 0.1})\n",
      "this take 3.0248 seconds\n"
     ]
    }
   ],
   "source": [
    "start = time.time()\n",
    "samples_10 = np.int(X_train.shape[0]*0.1)\n",
    "# samples_100 = np.int(X_train.shape[0])\n",
    "\n",
    "X_train_sample=X_train.sample(samples_10,random_state=111)\n",
    "y_train_sample=y_train[X_train_sample.index]\n",
    "\n",
    "skf = StratifiedKFold(y_train_sample ,n_folds=5, random_state=111)\n",
    "\n",
    "clf= GradientBoostingClassifier(random_state=111)\n",
    "fscorer=make_scorer(fbeta_score, beta=0.5)\n",
    "parameters={'learning_rate':[0.2, 0.1, 0.05]}\n",
    "#             'n_estimators':[ 80, 100, 120,],\n",
    "#             'max_depth':[3,4,5]}\n",
    "\n",
    "grid=GridSearchCV(estimator=clf, param_grid=parameters, scoring=fscorer, cv=5, n_jobs=-1)\n",
    "\n",
    "grid_fit= grid.fit(X_train_sample, y_train_sample)\n",
    "# print grid.best_estimator_\n",
    "\n",
    "\n",
    "end = time.time() \n",
    "print('best score is {:0.6f}'.format(grid_fit.best_score_))\n",
    "print('best parameters is: ', grid_fit.best_params_)\n",
    "print('this take {:0.4f} seconds'.format(end-start))\n",
    "# print('this take )"
   ]
  },
  {
   "cell_type": "code",
   "execution_count": 79,
   "metadata": {
    "collapsed": false
   },
   "outputs": [
    {
     "name": "stdout",
     "output_type": "stream",
     "text": [
      "best score is 0.755255\n",
      "('best parameters is: ', {'n_estimators': 100, 'learning_rate': 0.2, 'max_depth': 4})\n",
      "this take 634.6270 seconds\n"
     ]
    }
   ],
   "source": [
    "start = time.time()\n",
    "\n",
    "\n",
    "skf = StratifiedKFold(y_train ,n_folds=5, random_state=111)\n",
    "\n",
    "clf= GradientBoostingClassifier(random_state=111)\n",
    "fscorer=make_scorer(fbeta_score, beta=0.5)\n",
    "\n",
    "parameters={'learning_rate':[0.2, 0.1, 0.05],\n",
    "            'n_estimators':[ 80, 100, 120,],\n",
    "            'max_depth':[3,4,5]}\n",
    "\n",
    "grid=GridSearchCV(estimator=clf, param_grid=parameters, scoring=fscorer, cv=skf, n_jobs=-1)\n",
    "\n",
    "grid = grid.fit(X_train, y_train)\n",
    "# print grid.best_estimator_\n",
    "\n",
    "\n",
    "end = time.time() \n",
    "print('best score is {:0.6f}'.format(grid.best_score_))\n",
    "print('best parameters is: ', grid.best_params_)\n",
    "print('this take {:0.4f} seconds'.format(end-start))"
   ]
  },
  {
   "cell_type": "code",
   "execution_count": 5,
   "metadata": {
    "collapsed": false
   },
   "outputs": [
    {
     "name": "stdout",
     "output_type": "stream",
     "text": [
      "Final accuracy score on the testing data: 0.8714\n",
      "Final F-score on the testing data: 0.7538\n"
     ]
    }
   ],
   "source": [
    "clf_b=GradientBoostingClassifier(n_estimators=100, learning_rate=0.2, max_depth=4, random_state=111)\n",
    "clf_b.fit(X_train, y_train)\n",
    "clf_b_predictions = clf_b.predict(X_test)\n",
    "\n",
    "print \"Final accuracy score on the testing data: {:.4f}\".format(accuracy_score(y_test, clf_b_predictions))\n",
    "print \"Final F-score on the testing data: {:.4f}\".format(fbeta_score(y_test, clf_b_predictions, beta = 0.5))"
   ]
  },
  {
   "cell_type": "code",
   "execution_count": 71,
   "metadata": {
    "collapsed": false
   },
   "outputs": [
    {
     "data": {
      "text/plain": [
       "9.6"
      ]
     },
     "execution_count": 71,
     "metadata": {},
     "output_type": "execute_result"
    }
   ],
   "source": [
    "12.1-2.5\n"
   ]
  },
  {
   "cell_type": "code",
   "execution_count": 82,
   "metadata": {
    "collapsed": false
   },
   "outputs": [],
   "source": [
    "predictions = (clf.fit(X_train, y_train)).predict(X_test)\n",
    "best_predictions = best_clf.predict(X_test)"
   ]
  },
  {
   "cell_type": "code",
   "execution_count": 83,
   "metadata": {
    "collapsed": false
   },
   "outputs": [
    {
     "name": "stdout",
     "output_type": "stream",
     "text": [
      "Unoptimized model\n",
      "------\n",
      "Accuracy score on testing data: 0.8630\n",
      "F-score on testing data: 0.7395\n",
      "\n",
      "Optimized Model\n",
      "------\n",
      "Final accuracy score on the testing data: 0.8714\n",
      "Final F-score on the testing data: 0.7538\n"
     ]
    }
   ],
   "source": [
    "# Report the before-and-afterscores\n",
    "print \"Unoptimized model\\n------\"\n",
    "print \"Accuracy score on testing data: {:.4f}\".format(accuracy_score(y_test, predictions))\n",
    "print \"F-score on testing data: {:.4f}\".format(fbeta_score(y_test, predictions, beta = 0.5))\n",
    "print \"\\nOptimized Model\\n------\"\n",
    "print \"Final accuracy score on the testing data: {:.4f}\".format(accuracy_score(y_test, best_predictions))\n",
    "print \"Final F-score on the testing data: {:.4f}\".format(fbeta_score(y_test, best_predictions, beta = 0.5))"
   ]
  },
  {
   "cell_type": "code",
   "execution_count": null,
   "metadata": {
    "collapsed": true
   },
   "outputs": [],
   "source": [
    "Naive Predictor: [Accuracy score: 0.2478, F-score: 0.2917]"
   ]
  },
  {
   "cell_type": "code",
   "execution_count": 87,
   "metadata": {
    "collapsed": false
   },
   "outputs": [
    {
     "name": "stdout",
     "output_type": "stream",
     "text": [
      "('best parameters is: ', {'n_estimators': 100, 'learning_rate': 0.2, 'max_depth': 4})\n",
      "----\n"
     ]
    }
   ],
   "source": [
    "print('best parameters is: ', grid.best_params_)\n",
    "print('------')"
   ]
  },
  {
   "cell_type": "code",
   "execution_count": 12,
   "metadata": {
    "collapsed": false
   },
   "outputs": [],
   "source": [
    "samples_10 = np.int(X_train.shape[0]*0.1)\n",
    "X_train_sample=X_train.sample(samples_10)\n",
    "y_train_sample=y_train[X_train_sample.index]\n",
    "skf = StratifiedKFold(y_train_sample ,n_folds=5, random_state=111)"
   ]
  },
  {
   "cell_type": "code",
   "execution_count": 22,
   "metadata": {
    "collapsed": false
   },
   "outputs": [
    {
     "name": "stdout",
     "output_type": "stream",
     "text": [
      "[ 4  2  5 14  9  7 16 11  3  0 15 12] [18  1 19  8 10 17  6 13]\n",
      "[10  0  3  4 15  8 13  9  5 14  7  6] [11  1 18 17  2 12 19 16]\n",
      "[ 3 17  4 10 16 18  9  1  0  7 14 19] [15 13 12  5 11  2  8  6]\n",
      "[14 16 11 10  9 15  1 19  8  6  5  4] [18  0 13  2  3 17  7 12]\n",
      "[15 16  6 13 11  4 10  9 12  3 14  0] [ 7  1  2 19  5 18  8 17]\n"
     ]
    }
   ],
   "source": [
    "label=[0,1,0,0,0,1,1,0,0,0,1,1,0,0,1,0,0, 1, 0, 0]\n",
    "cv_sets = ShuffleSplit(len(label), n_iter = 5, test_size = 0.40, random_state = 0)\n",
    "for train, test in cv_sets:\n",
    "    print train, test\n"
   ]
  },
  {
   "cell_type": "code",
   "execution_count": 27,
   "metadata": {
    "collapsed": false
   },
   "outputs": [
    {
     "name": "stdout",
     "output_type": "stream",
     "text": [
      "[ 4  6  7  8  9 10 11 12 13 14 15 16 17 18 19] [0 1 2 3 5]\n",
      "[ 0  1  2  3  5  9 11 12 13 14 15 16 17 18 19] [ 4  6  7  8 10]\n",
      "[ 0  1  2  3  4  5  6  7  8 10 14 15 16 17 18 19] [ 9 11 12 13]\n",
      "[ 0  1  2  3  4  5  6  7  8  9 10 11 12 13 17 18 19] [14 15 16]\n",
      "[ 0  1  2  3  4  5  6  7  8  9 10 11 12 13 14 15 16] [17 18 19]\n"
     ]
    }
   ],
   "source": [
    "label=[0,1,0,0,0,1,1,0,0,0,1,1,0,0,1,0,0, 1, 0, 0]\n",
    "skf=StratifiedKFold(label, n_folds=5, random_state=111)\n",
    "for train, test in skf:\n",
    "    print train, test\n"
   ]
  },
  {
   "cell_type": "code",
   "execution_count": 25,
   "metadata": {
    "collapsed": false
   },
   "outputs": [
    {
     "data": {
      "text/plain": [
       "20"
      ]
     },
     "execution_count": 25,
     "metadata": {},
     "output_type": "execute_result"
    }
   ],
   "source": [
    "len(label)"
   ]
  },
  {
   "cell_type": "code",
   "execution_count": 28,
   "metadata": {
    "collapsed": true
   },
   "outputs": [],
   "source": [
    "GridSearchCV?"
   ]
  },
  {
   "cell_type": "markdown",
   "metadata": {},
   "source": [
    "# 04/02/2017 - Initial Model Evaluation"
   ]
  },
  {
   "cell_type": "code",
   "execution_count": 16,
   "metadata": {
    "collapsed": false
   },
   "outputs": [
    {
     "name": "stdout",
     "output_type": "stream",
     "text": [
      "Naive Predictor: [Accuracy score: 0.2478, F-score: 0.2917]\n"
     ]
    }
   ],
   "source": [
    "# Create naive prediction\n",
    "naive_pred=pd.Series(np.ones(n_records), name='Naive_Prediction')\n",
    "\n",
    "# Calculate accuracy\n",
    "accuracy = np.float64((naive_pred==income).sum())/n_records\n",
    "\n",
    "# Calculate F-score using the formula above for beta = 0.5\n",
    "# the following calculation assume the postive label is 1 i.e. income>50000, in this binary classification scenario \n",
    "# the fscore equal to the fscore for the true positive class\n",
    "\n",
    "# denote the following notion:\n",
    "# tp1: true positive for positive label \n",
    "# fp1: false positive for positive label\n",
    "# fn1: false negative for positive label \n",
    "\n",
    "tp1=income.loc[income==1].shape[0] #this equates to real total of people with income>50000\n",
    "fp1=income.loc[income==0].shape[0] #this equates to real total of people with income<=50000\n",
    "fn1=0                              #this is zero, since the naive prediction predict all people with income>50000  \n",
    "beta=0.5\n",
    "\n",
    "precision=float(tp1)/(tp1+fp1) \n",
    "recall=float(tp1)/(tp1+fn1)\n",
    "\n",
    "fscore = (1+beta**2)*precision*recall/((beta**2*precision)+recall)\n",
    "\n",
    "# Print the results \n",
    "print \"Naive Predictor: [Accuracy score: {:.4f}, F-score: {:.4f}]\".format(accuracy, fscore)"
   ]
  },
  {
   "cell_type": "code",
   "execution_count": 4,
   "metadata": {
    "collapsed": false
   },
   "outputs": [
    {
     "name": "stdout",
     "output_type": "stream",
     "text": [
      "LogisticRegression trained on 361 samples.\n",
      "LogisticRegression trained on 3617 samples.\n",
      "LogisticRegression trained on 36177 samples.\n",
      "SGDClassifier trained on 361 samples.\n",
      "SGDClassifier trained on 3617 samples.\n",
      "SGDClassifier trained on 36177 samples.\n",
      "GradientBoostingClassifier trained on 361 samples.\n",
      "GradientBoostingClassifier trained on 3617 samples.\n",
      "GradientBoostingClassifier trained on 36177 samples.\n"
     ]
    }
   ],
   "source": [
    "from sklearn.linear_model import LogisticRegression\n",
    "from sklearn.linear_model import SGDClassifier\n",
    "from sklearn.ensemble import GradientBoostingClassifier\n",
    "\n",
    "# TODO: Initialize the three models\n",
    "clf_A = LogisticRegression()\n",
    "clf_B = SGDClassifier()\n",
    "clf_C = GradientBoostingClassifier()\n",
    "\n",
    "# TODO: Calculate the number of samples for 1%, 10%, and 100% of the training data\n",
    "samples_1 = np.int(X_train.shape[0]*0.01)\n",
    "samples_10 = np.int(X_train.shape[0]*0.1)\n",
    "samples_100 = np.int(X_train.shape[0])\n",
    "\n",
    "# Collect results on the learners\n",
    "results = {}\n",
    "for clf in [clf_A, clf_B, clf_C]:\n",
    "    clf_name = clf.__class__.__name__\n",
    "    results[clf_name] = {}\n",
    "    for i, samples in enumerate([samples_1, samples_10, samples_100]):\n",
    "        results[clf_name][i] = \\\n",
    "        train_predict(clf, samples, X_train, y_train, X_test, y_test)\n"
   ]
  },
  {
   "cell_type": "markdown",
   "metadata": {},
   "source": [
    "### test 2"
   ]
  },
  {
   "cell_type": "code",
   "execution_count": 29,
   "metadata": {
    "collapsed": false
   },
   "outputs": [
    {
     "data": {
      "image/png": "[encoded data removed]",
      "text/plain": [
       "<matplotlib.figure.Figure at 0x7fa733efe850>"
      ]
     },
     "metadata": {},
     "output_type": "display_data"
    }
   ],
   "source": [
    "vs.evaluate(results, accuracy, fscore)"
   ]
  },
  {
   "cell_type": "code",
   "execution_count": 30,
   "metadata": {
    "collapsed": false
   },
   "outputs": [
    {
     "name": "stdout",
     "output_type": "stream",
     "text": [
      "Training time while training on all train data\n",
      "Training time for Logistic Regression is 0.401807\n",
      "Training time for SGD is 0.090450\n",
      "Training time for Graident Boosting is 8.521303\n",
      "\n",
      "Prediction time while training on all train data\n",
      "Prediction time for Logistic Regression is 0.004914\n",
      "Prediction time for SGD is 0.004711\n",
      "Prediction time for Graident Boosting is 0.120649\n",
      "\n",
      "Accuracy for test data while training on all train data\n",
      "Acc_test for Logistic Regression is 0.848314\n",
      "Acc_test for SGD is 0.843449\n",
      "Acc_test for Graident Boosting is 0.863018\n",
      "\n",
      "F-Score for test data while training on all train data\n",
      "F-Score for Logistic Regression is 0.699293\n",
      "F-Score for SGD is 0.689431\n",
      "F-Score for Graident Boosting is 0.739534\n"
     ]
    }
   ],
   "source": [
    "# The following information is printed out to show the numerical data, in order to aid the discussion for Question 3.\n",
    "# explicitily print out the modelling time, training time, accuracy and f-score for test set with all training data\n",
    "\n",
    "print('Training time while training on all train data')\n",
    "print('Training time for Logistic Regression is {0:5f}'.format(results['LogisticRegression'][2]['train_time']))\n",
    "print('Training time for SGD is {0:5f}'.format(results['SGDClassifier'][2]['train_time']))\n",
    "print('Training time for Graident Boosting is {0:5f}'.format(results['GradientBoostingClassifier'][2]['train_time']))\n",
    "\n",
    "print #output a new line\n",
    "print('Prediction time while training on all train data')\n",
    "print('Prediction time for Logistic Regression is {0:5f}'.format(results['LogisticRegression'][2]['pred_time']))\n",
    "print('Prediction time for SGD is {0:5f}'.format(results['SGDClassifier'][2]['pred_time']))\n",
    "print('Prediction time for Graident Boosting is {0:5f}'.format(results['GradientBoostingClassifier'][2]['pred_time']))\n",
    "\n",
    "print #output a new line\n",
    "print('Accuracy for test data while training on all train data')\n",
    "print('Acc_test for Logistic Regression is {0:5f}'.format(results['LogisticRegression'][2]['acc_test']))\n",
    "print('Acc_test for SGD is {0:5f}'.format(results['SGDClassifier'][2]['acc_test']))\n",
    "print('Acc_test for Graident Boosting is {0:5f}'.format(results['GradientBoostingClassifier'][2]['acc_test']))\n",
    "\n",
    "print #output a new line\n",
    "print('F-Score for test data while training on all train data')\n",
    "print('F-Score for Logistic Regression is {0:5f}'.format(results['LogisticRegression'][2]['f_test']))\n",
    "print('F-Score for SGD is {0:5f}'.format(results['SGDClassifier'][2]['f_test']))\n",
    "print('F-Score for Graident Boosting is {0:5f}'.format(results['GradientBoostingClassifier'][2]['f_test']))\n"
   ]
  },
  {
   "cell_type": "markdown",
   "metadata": {},
   "source": [
    "### test 1"
   ]
  },
  {
   "cell_type": "code",
   "execution_count": 18,
   "metadata": {
    "collapsed": false
   },
   "outputs": [
    {
     "data": {
      "image/png": "[encoded data removed]",
      "text/plain": [
       "<matplotlib.figure.Figure at 0x7fa733fe1a50>"
      ]
     },
     "metadata": {},
     "output_type": "display_data"
    }
   ],
   "source": [
    "vs.evaluate(results, accuracy, fscore)"
   ]
  },
  {
   "cell_type": "code",
   "execution_count": 27,
   "metadata": {
    "collapsed": false
   },
   "outputs": [
    {
     "name": "stdout",
     "output_type": "stream",
     "text": [
      "('f_test', 0.67236214357039825)\n",
      "('f_test', 0.63535513614752914)\n",
      "('f_test', 0.73292615213770129)\n"
     ]
    }
   ],
   "source": [
    "for k, learner in enumerate(results.keys()):\n",
    "#     print k, learner\n",
    "    print('f_test', results[learner][1]['f_test'])\n",
    "#     print('acc_test', results[learner][2]['acc_test'])"
   ]
  },
  {
   "cell_type": "code",
   "execution_count": 14,
   "metadata": {
    "collapsed": false
   },
   "outputs": [
    {
     "name": "stdout",
     "output_type": "stream",
     "text": [
      "0 train_time\n",
      "{0.00723} seconds\n",
      "{0.02993} seconds\n",
      "{0.38094} seconds\n",
      "1 acc_train\n",
      "0.85\n",
      "0.846666666667\n",
      "0.823333333333\n",
      "2 f_train\n",
      "0.698924731183\n",
      "0.704022988506\n",
      "0.603174603175\n",
      "3 pred_time\n",
      "{0.00143} seconds\n",
      "{0.00242} seconds\n",
      "{0.00553} seconds\n",
      "4 acc_test\n",
      "0.816030956329\n",
      "0.8362631288\n",
      "0.848313985627\n",
      "5 f_test\n",
      "0.621853898097\n",
      "0.670151594354\n",
      "0.699293323489\n",
      "0 train_time\n",
      "{0.00542} seconds\n",
      "{0.01446} seconds\n",
      "{0.11473} seconds\n",
      "1 acc_train\n",
      "0.85\n",
      "0.793333333333\n",
      "0.873333333333\n",
      "2 f_train\n",
      "0.679611650485\n",
      "0.428571428571\n",
      "0.706666666667\n",
      "3 pred_time\n",
      "{0.00141} seconds\n",
      "{0.00174} seconds\n",
      "{0.00502} seconds\n",
      "4 acc_test\n",
      "0.777888336097\n",
      "0.804311774461\n",
      "0.83637368712\n",
      "5 f_test\n",
      "0.546578366446\n",
      "0.569377990431\n",
      "0.662110209312\n",
      "0 train_time\n",
      "{0.08099} seconds\n",
      "{0.67273} seconds\n",
      "{8.58063} seconds\n",
      "1 acc_train\n",
      "0.963333333333\n",
      "0.866666666667\n",
      "0.863333333333\n",
      "2 f_train\n",
      "0.9375\n",
      "0.707395498392\n",
      "0.775862068966\n",
      "3 pred_time\n",
      "{0.02057} seconds\n",
      "{0.02311} seconds\n",
      "{0.12038} seconds\n",
      "4 acc_test\n",
      "0.837368711996\n",
      "0.859259259259\n",
      "0.863018242123\n",
      "5 f_test\n",
      "0.669629774348\n",
      "0.72401955685\n",
      "0.73953385618\n"
     ]
    }
   ],
   "source": [
    "for k, learner in enumerate(results.keys()):\n",
    "#     print k, learner\n",
    "    for j, metric in enumerate(['train_time', 'acc_train', 'f_train', 'pred_time', 'acc_test', 'f_test']):\n",
    "        print j, metric\n",
    "        for i in np.arange(3):\n",
    "            print results[learner][i][metric]"
   ]
  },
  {
   "cell_type": "code",
   "execution_count": 6,
   "metadata": {
    "collapsed": false
   },
   "outputs": [
    {
     "name": "stdout",
     "output_type": "stream",
     "text": [
      "LogisticRegression trained on 300 samples.\n",
      "{'pred_time': '{0.00243} seconds', 'f_test': '{0.56277}', 'train_time': '{0.00819} seconds', 'acc_train': '{0.88333}', 'acc_test': '{0.78242}', 'f_train': '{0.80332}'}\n",
      "SGDClassifier trained on 300 samples.\n",
      "{'pred_time': '{0.00128} seconds', 'f_test': '{0.57789}', 'train_time': '{0.00430} seconds', 'acc_train': '{0.86667}', 'acc_test': '{0.80431}', 'f_train': '{0.77093}'}\n",
      "GradientBoostingClassifier trained on 300 samples.\n",
      "{'pred_time': '{0.01743} seconds', 'f_test': '{0.63349}', 'train_time': '{0.07487} seconds', 'acc_train': '{0.97667}', 'acc_test': '{0.82101}', 'f_train': '{0.95960}'}\n"
     ]
    }
   ],
   "source": [
    "learner1=LogisticRegression()\n",
    "learner2=SGDClassifier()\n",
    "learner3=GradientBoostingClassifier()\n",
    "\n",
    "sample_size=300\n",
    "\n",
    "results=train_predict(learner1, sample_size, X_train, y_train, X_test, y_test)\n",
    "print(results)\n",
    "\n",
    "results=train_predict(learner2, sample_size, X_train, y_train, X_test, y_test)\n",
    "print(results)\n",
    "\n",
    "results=train_predict(learner3, sample_size, X_train, y_train, X_test, y_test)\n",
    "print(results)"
   ]
  },
  {
   "cell_type": "code",
   "execution_count": null,
   "metadata": {
    "collapsed": true
   },
   "outputs": [],
   "source": []
  },
  {
   "cell_type": "markdown",
   "metadata": {},
   "source": [
    "# 21/01/2017 - model application"
   ]
  },
  {
   "cell_type": "code",
   "execution_count": 5,
   "metadata": {
    "collapsed": false
   },
   "outputs": [
    {
     "name": "stdout",
     "output_type": "stream",
     "text": [
      "Naive Predictor: [Accuracy score: 0.2478, F-score: 0.2917]\n"
     ]
    }
   ],
   "source": []
  },
  {
   "cell_type": "code",
   "execution_count": 6,
   "metadata": {
    "collapsed": false
   },
   "outputs": [],
   "source": [
    "def train_predict(learner, sample_size, X_train, y_train, X_test, y_test): \n",
    "    '''\n",
    "    inputs:\n",
    "       - learner: the learning algorithm to be trained and predicted on\n",
    "       - sample_size: the size of samples (number) to be drawn from training set\n",
    "       - X_train: features training set\n",
    "       - y_train: income training set\n",
    "       - X_test: features testing set\n",
    "       - y_test: income testing set\n",
    "    '''\n",
    "    results = {}\n",
    "    # Fit the learner to the training data using sample_size\n",
    "    start = time.time() # Get start time\n",
    "    X_train_sample=X_train.sample(sample_size)\n",
    "    y_train_sample=y_train[X_train_sample.index]\n",
    "    learner.fit(X_train_sample, y_train_sample)\n",
    "    end = time.time() # Get end time\n",
    "\n",
    "    # Calculate the training time\n",
    "    results['train_time'] = \"{%0.5f} seconds\" %(end-start)\n",
    "    # Get the predictions on the test set,\n",
    "    # then get predictions on the first 300 training samples\n",
    "    start = time.time() # Get start time\n",
    "    predictions_test = learner.predict(X_test)\n",
    "    predictions_train = learner.predict(X_train_sample)\n",
    "    end = time.time() # Get end time\n",
    "    \n",
    "    # Calculate the total prediction time\n",
    "    results['pred_time'] = \"{%0.5f} seconds\" %(end-start)\n",
    "    # Compute accuracy on the first 300 training samples\n",
    "    results['acc_train'] = accuracy_score(y_train_sample.head(300), predictions_train[0:300])\n",
    "    # Compute accuracy on test set\n",
    "    results['acc_test'] = accuracy_score(y_test, predictions_test)\n",
    "    # Compute F-score on the the first 300 training samples\n",
    "    results['f_train'] = fbeta_score(y_train_sample.head(300), predictions_train[0:300],beta=0.5)\n",
    "    # Compute F-score on the test set\n",
    "    results['f_test'] = fbeta_score(y_test, predictions_test, beta=0.5)    \n",
    "    # Success\n",
    "    print \"{} trained on {} samples.\".format(learner.__class__.__name__, sample_size)\n",
    "    \n",
    "    # Return the results\n",
    "    return results"
   ]
  },
  {
   "cell_type": "code",
   "execution_count": null,
   "metadata": {
    "collapsed": false
   },
   "outputs": [],
   "source": []
  },
  {
   "cell_type": "code",
   "execution_count": 4,
   "metadata": {
    "collapsed": false
   },
   "outputs": [
    {
     "name": "stdout",
     "output_type": "stream",
     "text": [
      "LogisticRegression trained on 5000 samples.\n",
      "{'pred_time': '{0.03328} seconds', 'f_test': 0.68164383561643838, 'train_time': '{0.04290} seconds', 'acc_train': 0.83999999999999997, 'acc_test': 0.84002211166390273, 'f_train': 0.65068493150684925}\n",
      "DecisionTreeClassifier trained on 5000 samples.\n",
      "{'pred_time': '{0.00356} seconds', 'f_test': 0.60379374833021637, 'train_time': '{0.03431} seconds', 'acc_train': 0.9966666666666667, 'acc_test': 0.80663349917081262, 'f_train': 0.99730458221024254}\n",
      "RandomForestClassifier trained on 5000 samples.\n",
      "{'pred_time': '{0.02393} seconds', 'f_test': 0.66746686149671219, 'train_time': '{0.06511} seconds', 'acc_train': 0.97999999999999998, 'acc_test': 0.83515754560530675, 'f_train': 0.97772277227722781}\n",
      "GradientBoostingClassifier trained on 5000 samples.\n",
      "{'pred_time': '{0.02462} seconds', 'f_test': 0.7277124326701111, 'train_time': '{1.10420} seconds', 'acc_train': 0.85666666666666669, 'acc_test': 0.85848535102266443, 'f_train': 0.76696165191740417}\n",
      "AdaBoostClassifier trained on 5000 samples.\n",
      "{'pred_time': '{0.11219} seconds', 'f_test': 0.71160669031931079, 'train_time': '{0.22729} seconds', 'acc_train': 0.83333333333333337, 'acc_test': 0.85494748479823102, 'f_train': 0.6902356902356902}\n",
      "SVC trained on 5000 samples.\n",
      "{'pred_time': '{3.66364} seconds', 'f_test': 0.65421137008262431, 'train_time': '{1.59277} seconds', 'acc_train': 0.82999999999999996, 'acc_test': 0.82763957987838588, 'f_train': 0.625}\n",
      "KNeighborsClassifier trained on 5000 samples.\n",
      "{'pred_time': '{9.85248} seconds', 'f_test': 0.63688875609998996, 'train_time': '{0.02738} seconds', 'acc_train': 0.92000000000000004, 'acc_test': 0.82244333886124932, 'f_train': 0.85561497326203206}\n",
      "SGDClassifier trained on 5000 samples.\n",
      "{'pred_time': '{0.00170} seconds', 'f_test': 0.60522593612744724, 'train_time': '{0.01641} seconds', 'acc_train': 0.81333333333333335, 'acc_test': 0.80541735765616362, 'f_train': 0.65668202764976957}\n"
     ]
    }
   ],
   "source": [
    "learner1=LogisticRegression()\n",
    "learner2=DecisionTreeClassifier()\n",
    "learner3=RandomForestClassifier()\n",
    "learner4=GradientBoostingClassifier()\n",
    "learner5=AdaBoostClassifier()\n",
    "learner6=SVC()\n",
    "learner7=KNeighborsClassifier()\n",
    "learner8=SGDClassifier()\n",
    "\n",
    "sample_size=5000\n",
    "\n",
    "results=train_predict(learner1, sample_size, X_train, y_train, X_test, y_test)\n",
    "print(results)\n",
    "\n",
    "results=train_predict(learner2, sample_size, X_train, y_train, X_test, y_test)\n",
    "print(results)\n",
    "\n",
    "results=train_predict(learner3, sample_size, X_train, y_train, X_test, y_test)\n",
    "print(results)\n",
    "\n",
    "results=train_predict(learner4, sample_size, X_train, y_train, X_test, y_test)\n",
    "print(results)\n",
    "\n",
    "results=train_predict(learner5, sample_size, X_train, y_train, X_test, y_test)\n",
    "print(results)\n",
    "\n",
    "results=train_predict(learner6, sample_size, X_train, y_train, X_test, y_test)\n",
    "print(results)\n",
    "\n",
    "results=train_predict(learner7, sample_size, X_train, y_train, X_test, y_test)\n",
    "print(results)\n",
    "\n",
    "results=train_predict(learner8, sample_size, X_train, y_train, X_test, y_test)\n",
    "print(results)\n",
    "\n",
    "\n",
    "# results=train_predict(learner, 10000, X_train, y_train, X_test, y_test)\n",
    "# print(results)\n",
    "\n",
    "# results=train_predict(learner, 15000, X_train, y_train, X_test, y_test)\n",
    "# print(results)\n",
    "\n",
    "# results=train_predict(learner, 20000, X_train, y_train, X_test, y_test)\n",
    "# print(results)\n",
    "\n",
    "\n"
   ]
  },
  {
   "cell_type": "code",
   "execution_count": 143,
   "metadata": {
    "collapsed": false
   },
   "outputs": [
    {
     "name": "stdout",
     "output_type": "stream",
     "text": [
      "KNeighborsClassifier trained on 10000 samples.\n",
      "{'pred_time': '{20.91722} seconds', 'f_test': 0.62745098039215685, 'train_time': '{0.07022} seconds', 'acc_train': 0.8833333333333333, 'acc_test': 0.81824212271973462, 'f_train': 0.7580174927113702}\n"
     ]
    }
   ],
   "source": [
    "\n",
    "\n",
    "learner1=LogisticRegression()\n",
    "learner2=DecisionTreeClassifier()\n",
    "learner3=RandomForestClassifier()\n",
    "learner4=GradientBoostingClassifier()\n",
    "learner5=AdaBoostClassifier()\n",
    "learner6=SVC()\n",
    "learner7=KNeighborsClassifier()\n",
    "\n",
    "sample_size=10000\n",
    "\n",
    "results=train_predict(learner1, sample_size, X_train, y_train, X_test, y_test)\n",
    "print(results)\n",
    "\n",
    "results=train_predict(learner2, sample_size, X_train, y_train, X_test, y_test)\n",
    "print(results)\n",
    "\n",
    "results=train_predict(learner3, sample_size, X_train, y_train, X_test, y_test)\n",
    "print(results)\n",
    "\n",
    "results=train_predict(learner4, sample_size, X_train, y_train, X_test, y_test)\n",
    "print(results)\n",
    "\n",
    "results=train_predict(learner5, sample_size, X_train, y_train, X_test, y_test)\n",
    "print(results)\n",
    "\n",
    "results=train_predict(learner6, sample_size, X_train, y_train, X_test, y_test)\n",
    "print(results)\n",
    "\n",
    "results=train_predict(learner7, sample_size, X_train, y_train, X_test, y_test)\n",
    "print(results)\n",
    "\n"
   ]
  },
  {
   "cell_type": "code",
   "execution_count": 122,
   "metadata": {
    "collapsed": false
   },
   "outputs": [
    {
     "name": "stdout",
     "output_type": "stream",
     "text": [
      "(36177, 103)\n",
      "{'acc_train': 0.97540000000000004, 'f_train': 0.96804431188751616, 'acc_test': 0.81359867330016589, 'f_test': 0.61762283832006581}\n"
     ]
    }
   ],
   "source": [
    "print(X_train.shape)\n",
    "sample_size=30000\n",
    "X_train_sample=X_train.sample(sample_size)\n",
    "y_train_sample=y_train[X_train_sample.index]\n",
    "learner.fit(X_train_sample, y_train_sample)\n",
    "\n",
    "predictions_test = learner.predict(X_test)\n",
    "predictions_train = learner.predict(X_train_sample)\n",
    "\n",
    "results = {}\n",
    "results['acc_train'] = accuracy_score(y_train_sample, predictions_train)\n",
    "results['acc_test'] = accuracy_score(y_test, predictions_test)\n",
    "results['f_train'] = fbeta_score(y_train_sample, predictions_train,beta=0.5)\n",
    "results['f_test'] = fbeta_score(y_test, predictions_test, beta=0.5)\n",
    "\n",
    "print(results)\n"
   ]
  },
  {
   "cell_type": "code",
   "execution_count": 134,
   "metadata": {
    "collapsed": false
   },
   "outputs": [
    {
     "data": {
      "text/plain": [
       "'{0.0000020000} second'"
      ]
     },
     "execution_count": 134,
     "metadata": {},
     "output_type": "execute_result"
    }
   ],
   "source": [
    "\"{%0.10f} second\" % (float(1.0)/500000)"
   ]
  },
  {
   "cell_type": "markdown",
   "metadata": {},
   "source": [
    "# 21/01/2017 - naive prediction"
   ]
  },
  {
   "cell_type": "code",
   "execution_count": 64,
   "metadata": {
    "collapsed": false
   },
   "outputs": [],
   "source": [
    "naive_pred=pd.Series(np.ones(n_records), name='Naive_Prediction')"
   ]
  },
  {
   "cell_type": "code",
   "execution_count": 14,
   "metadata": {
    "collapsed": false
   },
   "outputs": [
    {
     "data": {
      "text/plain": [
       "0    34014\n",
       "1    11208\n",
       "Name: income, dtype: int64"
      ]
     },
     "execution_count": 14,
     "metadata": {},
     "output_type": "execute_result"
    }
   ],
   "source": [
    "income.value_counts()"
   ]
  },
  {
   "cell_type": "code",
   "execution_count": 65,
   "metadata": {
    "collapsed": false
   },
   "outputs": [
    {
     "data": {
      "text/plain": [
       "0.24784396974923709"
      ]
     },
     "execution_count": 65,
     "metadata": {},
     "output_type": "execute_result"
    }
   ],
   "source": [
    "np.float64((naive_pred==income).sum())/n_records"
   ]
  },
  {
   "cell_type": "code",
   "execution_count": 66,
   "metadata": {
    "collapsed": false
   },
   "outputs": [
    {
     "data": {
      "text/plain": [
       "0.24784396974923709"
      ]
     },
     "execution_count": 66,
     "metadata": {},
     "output_type": "execute_result"
    }
   ],
   "source": [
    "accuracy_score(income, naive_pred)"
   ]
  },
  {
   "cell_type": "code",
   "execution_count": 85,
   "metadata": {
    "collapsed": false
   },
   "outputs": [
    {
     "data": {
      "text/plain": [
       "34014"
      ]
     },
     "execution_count": 85,
     "metadata": {},
     "output_type": "execute_result"
    }
   ],
   "source": [
    "income.loc[income==0].shape[0]"
   ]
  },
  {
   "cell_type": "code",
   "execution_count": 76,
   "metadata": {
    "collapsed": false
   },
   "outputs": [
    {
     "data": {
      "text/plain": [
       "0    34014\n",
       "1    11208\n",
       "Name: income, dtype: int64"
      ]
     },
     "execution_count": 76,
     "metadata": {},
     "output_type": "execute_result"
    }
   ],
   "source": [
    "income.value_counts()"
   ]
  },
  {
   "cell_type": "code",
   "execution_count": 67,
   "metadata": {
    "collapsed": false
   },
   "outputs": [],
   "source": [
    "tp0=0\n",
    "fp0=0\n",
    "tp1=11208\n",
    "fp1=34014\n",
    "\n",
    "fn0=0\n",
    "fn1=0\n",
    "\n",
    "# precision0=tp0/(tp0+fp0)\n",
    "# precision1=tp1/(tp1+fp1)\n",
    "\n",
    "# precision=float(precision0+precision1)/2\n"
   ]
  },
  {
   "cell_type": "code",
   "execution_count": 75,
   "metadata": {
    "collapsed": false
   },
   "outputs": [
    {
     "name": "stdout",
     "output_type": "stream",
     "text": [
      "(11208, 34014, 0)\n"
     ]
    }
   ],
   "source": [
    "tp=tp1\n",
    "fp=fp1\n",
    "fn=fn1\n",
    "\n",
    "# tp=tp1\n",
    "# fp=fp1\n",
    "# fn=fn1\n",
    "\n",
    "print(tp, fp, fn)"
   ]
  },
  {
   "cell_type": "code",
   "execution_count": 71,
   "metadata": {
    "collapsed": false
   },
   "outputs": [
    {
     "data": {
      "text/plain": [
       "4"
      ]
     },
     "execution_count": 71,
     "metadata": {},
     "output_type": "execute_result"
    }
   ],
   "source": [
    "2**2"
   ]
  },
  {
   "cell_type": "code",
   "execution_count": 69,
   "metadata": {
    "collapsed": false
   },
   "outputs": [
    {
     "name": "stdout",
     "output_type": "stream",
     "text": [
      "(0.2478439697492371, 1.0)\n"
     ]
    }
   ],
   "source": [
    "precision=float(tp)/(tp+fp)\n",
    "recall=float(tp)/(tp+fn)\n",
    "\n",
    "print(precision, recall)"
   ]
  },
  {
   "cell_type": "code",
   "execution_count": 72,
   "metadata": {
    "collapsed": false
   },
   "outputs": [
    {
     "name": "stdout",
     "output_type": "stream",
     "text": [
      "0.291729135432\n"
     ]
    }
   ],
   "source": [
    "beta=0.5\n",
    "fscore=(1+beta**2)*precision*recall/((beta**2*precision)+recall)\n",
    "print(fscore)"
   ]
  },
  {
   "cell_type": "code",
   "execution_count": 23,
   "metadata": {
    "collapsed": true
   },
   "outputs": [],
   "source": [
    "\n"
   ]
  },
  {
   "cell_type": "code",
   "execution_count": 73,
   "metadata": {
    "collapsed": false
   },
   "outputs": [
    {
     "name": "stderr",
     "output_type": "stream",
     "text": [
      "/home/yifan/playground/anaconda3/envs/snakes2/lib/python2.7/site-packages/sklearn/metrics/classification.py:976: DeprecationWarning: From version 0.18, binary input will not be handled specially when using averaged precision/recall/F-score. Please use average='binary' to report only the positive class performance.\n",
      "  'positive class performance.', DeprecationWarning)\n"
     ]
    },
    {
     "data": {
      "text/plain": [
       "0.29172913543228385"
      ]
     },
     "execution_count": 73,
     "metadata": {},
     "output_type": "execute_result"
    }
   ],
   "source": [
    "fbeta_score(income, naive_pred, beta, average='weighted')"
   ]
  },
  {
   "cell_type": "code",
   "execution_count": null,
   "metadata": {
    "collapsed": true
   },
   "outputs": [],
   "source": []
  },
  {
   "cell_type": "markdown",
   "metadata": {},
   "source": [
    "# before"
   ]
  },
  {
   "cell_type": "code",
   "execution_count": 6,
   "metadata": {
    "collapsed": false
   },
   "outputs": [
    {
     "data": {
      "text/html": [
       "<div>\n",
       "<table border=\"1\" class=\"dataframe\">\n",
       "  <thead>\n",
       "    <tr style=\"text-align: right;\">\n",
       "      <th></th>\n",
       "      <th>age</th>\n",
       "      <th>workclass</th>\n",
       "      <th>education_level</th>\n",
       "      <th>education-num</th>\n",
       "      <th>marital-status</th>\n",
       "      <th>occupation</th>\n",
       "      <th>relationship</th>\n",
       "      <th>race</th>\n",
       "      <th>sex</th>\n",
       "      <th>capital-gain</th>\n",
       "      <th>capital-loss</th>\n",
       "      <th>hours-per-week</th>\n",
       "      <th>native-country</th>\n",
       "      <th>income</th>\n",
       "    </tr>\n",
       "  </thead>\n",
       "  <tbody>\n",
       "    <tr>\n",
       "      <th>0</th>\n",
       "      <td>39</td>\n",
       "      <td>State-gov</td>\n",
       "      <td>Bachelors</td>\n",
       "      <td>13.0</td>\n",
       "      <td>Never-married</td>\n",
       "      <td>Adm-clerical</td>\n",
       "      <td>Not-in-family</td>\n",
       "      <td>White</td>\n",
       "      <td>Male</td>\n",
       "      <td>2174.0</td>\n",
       "      <td>0.0</td>\n",
       "      <td>40.0</td>\n",
       "      <td>United-States</td>\n",
       "      <td>&lt;=50K</td>\n",
       "    </tr>\n",
       "    <tr>\n",
       "      <th>1</th>\n",
       "      <td>50</td>\n",
       "      <td>Self-emp-not-inc</td>\n",
       "      <td>Bachelors</td>\n",
       "      <td>13.0</td>\n",
       "      <td>Married-civ-spouse</td>\n",
       "      <td>Exec-managerial</td>\n",
       "      <td>Husband</td>\n",
       "      <td>White</td>\n",
       "      <td>Male</td>\n",
       "      <td>0.0</td>\n",
       "      <td>0.0</td>\n",
       "      <td>13.0</td>\n",
       "      <td>United-States</td>\n",
       "      <td>&lt;=50K</td>\n",
       "    </tr>\n",
       "    <tr>\n",
       "      <th>2</th>\n",
       "      <td>38</td>\n",
       "      <td>Private</td>\n",
       "      <td>HS-grad</td>\n",
       "      <td>9.0</td>\n",
       "      <td>Divorced</td>\n",
       "      <td>Handlers-cleaners</td>\n",
       "      <td>Not-in-family</td>\n",
       "      <td>White</td>\n",
       "      <td>Male</td>\n",
       "      <td>0.0</td>\n",
       "      <td>0.0</td>\n",
       "      <td>40.0</td>\n",
       "      <td>United-States</td>\n",
       "      <td>&lt;=50K</td>\n",
       "    </tr>\n",
       "    <tr>\n",
       "      <th>3</th>\n",
       "      <td>53</td>\n",
       "      <td>Private</td>\n",
       "      <td>11th</td>\n",
       "      <td>7.0</td>\n",
       "      <td>Married-civ-spouse</td>\n",
       "      <td>Handlers-cleaners</td>\n",
       "      <td>Husband</td>\n",
       "      <td>Black</td>\n",
       "      <td>Male</td>\n",
       "      <td>0.0</td>\n",
       "      <td>0.0</td>\n",
       "      <td>40.0</td>\n",
       "      <td>United-States</td>\n",
       "      <td>&lt;=50K</td>\n",
       "    </tr>\n",
       "    <tr>\n",
       "      <th>4</th>\n",
       "      <td>28</td>\n",
       "      <td>Private</td>\n",
       "      <td>Bachelors</td>\n",
       "      <td>13.0</td>\n",
       "      <td>Married-civ-spouse</td>\n",
       "      <td>Prof-specialty</td>\n",
       "      <td>Wife</td>\n",
       "      <td>Black</td>\n",
       "      <td>Female</td>\n",
       "      <td>0.0</td>\n",
       "      <td>0.0</td>\n",
       "      <td>40.0</td>\n",
       "      <td>Cuba</td>\n",
       "      <td>&lt;=50K</td>\n",
       "    </tr>\n",
       "    <tr>\n",
       "      <th>5</th>\n",
       "      <td>37</td>\n",
       "      <td>Private</td>\n",
       "      <td>Masters</td>\n",
       "      <td>14.0</td>\n",
       "      <td>Married-civ-spouse</td>\n",
       "      <td>Exec-managerial</td>\n",
       "      <td>Wife</td>\n",
       "      <td>White</td>\n",
       "      <td>Female</td>\n",
       "      <td>0.0</td>\n",
       "      <td>0.0</td>\n",
       "      <td>40.0</td>\n",
       "      <td>United-States</td>\n",
       "      <td>&lt;=50K</td>\n",
       "    </tr>\n",
       "    <tr>\n",
       "      <th>6</th>\n",
       "      <td>49</td>\n",
       "      <td>Private</td>\n",
       "      <td>9th</td>\n",
       "      <td>5.0</td>\n",
       "      <td>Married-spouse-absent</td>\n",
       "      <td>Other-service</td>\n",
       "      <td>Not-in-family</td>\n",
       "      <td>Black</td>\n",
       "      <td>Female</td>\n",
       "      <td>0.0</td>\n",
       "      <td>0.0</td>\n",
       "      <td>16.0</td>\n",
       "      <td>Jamaica</td>\n",
       "      <td>&lt;=50K</td>\n",
       "    </tr>\n",
       "    <tr>\n",
       "      <th>7</th>\n",
       "      <td>52</td>\n",
       "      <td>Self-emp-not-inc</td>\n",
       "      <td>HS-grad</td>\n",
       "      <td>9.0</td>\n",
       "      <td>Married-civ-spouse</td>\n",
       "      <td>Exec-managerial</td>\n",
       "      <td>Husband</td>\n",
       "      <td>White</td>\n",
       "      <td>Male</td>\n",
       "      <td>0.0</td>\n",
       "      <td>0.0</td>\n",
       "      <td>45.0</td>\n",
       "      <td>United-States</td>\n",
       "      <td>&gt;50K</td>\n",
       "    </tr>\n",
       "    <tr>\n",
       "      <th>8</th>\n",
       "      <td>31</td>\n",
       "      <td>Private</td>\n",
       "      <td>Masters</td>\n",
       "      <td>14.0</td>\n",
       "      <td>Never-married</td>\n",
       "      <td>Prof-specialty</td>\n",
       "      <td>Not-in-family</td>\n",
       "      <td>White</td>\n",
       "      <td>Female</td>\n",
       "      <td>14084.0</td>\n",
       "      <td>0.0</td>\n",
       "      <td>50.0</td>\n",
       "      <td>United-States</td>\n",
       "      <td>&gt;50K</td>\n",
       "    </tr>\n",
       "    <tr>\n",
       "      <th>9</th>\n",
       "      <td>42</td>\n",
       "      <td>Private</td>\n",
       "      <td>Bachelors</td>\n",
       "      <td>13.0</td>\n",
       "      <td>Married-civ-spouse</td>\n",
       "      <td>Exec-managerial</td>\n",
       "      <td>Husband</td>\n",
       "      <td>White</td>\n",
       "      <td>Male</td>\n",
       "      <td>5178.0</td>\n",
       "      <td>0.0</td>\n",
       "      <td>40.0</td>\n",
       "      <td>United-States</td>\n",
       "      <td>&gt;50K</td>\n",
       "    </tr>\n",
       "  </tbody>\n",
       "</table>\n",
       "</div>"
      ],
      "text/plain": [
       "   age          workclass education_level  education-num  \\\n",
       "0   39          State-gov       Bachelors           13.0   \n",
       "1   50   Self-emp-not-inc       Bachelors           13.0   \n",
       "2   38            Private         HS-grad            9.0   \n",
       "3   53            Private            11th            7.0   \n",
       "4   28            Private       Bachelors           13.0   \n",
       "5   37            Private         Masters           14.0   \n",
       "6   49            Private             9th            5.0   \n",
       "7   52   Self-emp-not-inc         HS-grad            9.0   \n",
       "8   31            Private         Masters           14.0   \n",
       "9   42            Private       Bachelors           13.0   \n",
       "\n",
       "           marital-status          occupation    relationship    race  \\\n",
       "0           Never-married        Adm-clerical   Not-in-family   White   \n",
       "1      Married-civ-spouse     Exec-managerial         Husband   White   \n",
       "2                Divorced   Handlers-cleaners   Not-in-family   White   \n",
       "3      Married-civ-spouse   Handlers-cleaners         Husband   Black   \n",
       "4      Married-civ-spouse      Prof-specialty            Wife   Black   \n",
       "5      Married-civ-spouse     Exec-managerial            Wife   White   \n",
       "6   Married-spouse-absent       Other-service   Not-in-family   Black   \n",
       "7      Married-civ-spouse     Exec-managerial         Husband   White   \n",
       "8           Never-married      Prof-specialty   Not-in-family   White   \n",
       "9      Married-civ-spouse     Exec-managerial         Husband   White   \n",
       "\n",
       "       sex  capital-gain  capital-loss  hours-per-week  native-country income  \n",
       "0     Male        2174.0           0.0            40.0   United-States  <=50K  \n",
       "1     Male           0.0           0.0            13.0   United-States  <=50K  \n",
       "2     Male           0.0           0.0            40.0   United-States  <=50K  \n",
       "3     Male           0.0           0.0            40.0   United-States  <=50K  \n",
       "4   Female           0.0           0.0            40.0            Cuba  <=50K  \n",
       "5   Female           0.0           0.0            40.0   United-States  <=50K  \n",
       "6   Female           0.0           0.0            16.0         Jamaica  <=50K  \n",
       "7     Male           0.0           0.0            45.0   United-States   >50K  \n",
       "8   Female       14084.0           0.0            50.0   United-States   >50K  \n",
       "9     Male        5178.0           0.0            40.0   United-States   >50K  "
      ]
     },
     "execution_count": 6,
     "metadata": {},
     "output_type": "execute_result"
    }
   ],
   "source": [
    "data.head(10)"
   ]
  },
  {
   "cell_type": "code",
   "execution_count": 7,
   "metadata": {
    "collapsed": false
   },
   "outputs": [
    {
     "data": {
      "text/plain": [
       "45222"
      ]
     },
     "execution_count": 7,
     "metadata": {},
     "output_type": "execute_result"
    }
   ],
   "source": [
    "data.shape[0]"
   ]
  },
  {
   "cell_type": "code",
   "execution_count": 8,
   "metadata": {
    "collapsed": false
   },
   "outputs": [
    {
     "data": {
      "text/plain": [
       "11208"
      ]
     },
     "execution_count": 8,
     "metadata": {},
     "output_type": "execute_result"
    }
   ],
   "source": [
    "data.loc[data.income=='>50K'].shape[0]"
   ]
  },
  {
   "cell_type": "code",
   "execution_count": 9,
   "metadata": {
    "collapsed": false
   },
   "outputs": [
    {
     "data": {
      "text/plain": [
       "34014"
      ]
     },
     "execution_count": 9,
     "metadata": {},
     "output_type": "execute_result"
    }
   ],
   "source": [
    "data.loc[data.income=='<=50K'].shape[0]"
   ]
  },
  {
   "cell_type": "code",
   "execution_count": 10,
   "metadata": {
    "collapsed": false
   },
   "outputs": [
    {
     "data": {
      "text/plain": [
       "0.2478439697492371"
      ]
     },
     "execution_count": 10,
     "metadata": {},
     "output_type": "execute_result"
    }
   ],
   "source": [
    "float(data.loc[data.income=='>50K'].shape[0])/data.shape[0]"
   ]
  },
  {
   "cell_type": "code",
   "execution_count": 23,
   "metadata": {
    "collapsed": false
   },
   "outputs": [
    {
     "name": "stdout",
     "output_type": "stream",
     "text": [
      "<class 'pandas.core.frame.DataFrame'>\n",
      "RangeIndex: 45222 entries, 0 to 45221\n",
      "Data columns (total 14 columns):\n",
      "age                45222 non-null int64\n",
      "workclass          45222 non-null object\n",
      "education_level    45222 non-null object\n",
      "education-num      45222 non-null float64\n",
      "marital-status     45222 non-null object\n",
      "occupation         45222 non-null object\n",
      "relationship       45222 non-null object\n",
      "race               45222 non-null object\n",
      "sex                45222 non-null object\n",
      "capital-gain       45222 non-null float64\n",
      "capital-loss       45222 non-null float64\n",
      "hours-per-week     45222 non-null float64\n",
      "native-country     45222 non-null object\n",
      "income             45222 non-null object\n",
      "dtypes: float64(4), int64(1), object(9)\n",
      "memory usage: 4.8+ MB\n"
     ]
    }
   ],
   "source": [
    "data.info()"
   ]
  },
  {
   "cell_type": "markdown",
   "metadata": {},
   "source": [
    "# EDA"
   ]
  },
  {
   "cell_type": "code",
   "execution_count": 20,
   "metadata": {
    "collapsed": false
   },
   "outputs": [
    {
     "data": {
      "text/plain": [
       "<matplotlib.axes._subplots.AxesSubplot at 0x7f6492a372d0>"
      ]
     },
     "execution_count": 20,
     "metadata": {},
     "output_type": "execute_result"
    },
    {
     "data": {
      "image/png": "[encoded data removed]",
      "text/plain": [
       "<matplotlib.figure.Figure at 0x7f64929a4b90>"
      ]
     },
     "metadata": {},
     "output_type": "display_data"
    }
   ],
   "source": [
    "fig, axes = plt.subplots(nrows=1, ncols=1, figsize=(8,5))\n",
    "sns.countplot(x='income', data=data, ax=axes)"
   ]
  },
  {
   "cell_type": "code",
   "execution_count": 25,
   "metadata": {
    "collapsed": false
   },
   "outputs": [
    {
     "data": {
      "text/plain": [
       "<matplotlib.axes._subplots.AxesSubplot at 0x7f6492a79850>"
      ]
     },
     "execution_count": 25,
     "metadata": {},
     "output_type": "execute_result"
    },
    {
     "data": {
      "image/png": "[encoded data removed]",
      "text/plain": [
       "<matplotlib.figure.Figure at 0x7f649287fa90>"
      ]
     },
     "metadata": {},
     "output_type": "display_data"
    }
   ],
   "source": [
    "sns.distplot(data.age, bins=20, kde=True, axlabel='age')"
   ]
  },
  {
   "cell_type": "code",
   "execution_count": 30,
   "metadata": {
    "collapsed": false,
    "scrolled": true
   },
   "outputs": [
    {
     "data": {
      "text/plain": [
       "<matplotlib.axes._subplots.AxesSubplot at 0x7f6491cf14d0>"
      ]
     },
     "execution_count": 30,
     "metadata": {},
     "output_type": "execute_result"
    },
    {
     "data": {
      "image/png": "[encoded data removed]",
      "text/plain": [
       "<matplotlib.figure.Figure at 0x7f6491c887d0>"
      ]
     },
     "metadata": {},
     "output_type": "display_data"
    }
   ],
   "source": [
    "# fig, axes = plt.subplots(nrows=1, ncols=1, figsize=(8,5))\n",
    "sns.countplot(x='workclass', hue='income', data=data)"
   ]
  },
  {
   "cell_type": "code",
   "execution_count": 40,
   "metadata": {
    "collapsed": false,
    "scrolled": false
   },
   "outputs": [
    {
     "data": {
      "text/plain": [
       "<matplotlib.axes._subplots.AxesSubplot at 0x7f6490ffbad0>"
      ]
     },
     "execution_count": 40,
     "metadata": {},
     "output_type": "execute_result"
    },
    {
     "data": {
      "image/png": "[encoded data removed]",
      "text/plain": [
       "<matplotlib.figure.Figure at 0x7f64910afd50>"
      ]
     },
     "metadata": {},
     "output_type": "display_data"
    }
   ],
   "source": [
    "fig, axes = plt.subplots(nrows=1, ncols=1, figsize=(10,10))\n",
    "sns.countplot(y='occupation', hue='income', data=data, ax=axes)"
   ]
  },
  {
   "cell_type": "code",
   "execution_count": 42,
   "metadata": {
    "collapsed": false,
    "scrolled": false
   },
   "outputs": [
    {
     "data": {
      "text/plain": [
       "<matplotlib.axes._subplots.AxesSubplot at 0x7f6490d8afd0>"
      ]
     },
     "execution_count": 42,
     "metadata": {},
     "output_type": "execute_result"
    },
    {
     "data": {
      "image/png": "[encoded data removed]",
      "text/plain": [
       "<matplotlib.figure.Figure at 0x7f6490d8a850>"
      ]
     },
     "metadata": {},
     "output_type": "display_data"
    }
   ],
   "source": [
    "fig, axes = plt.subplots(nrows=1, ncols=1, figsize=(10,10))\n",
    "sns.countplot(y='relationship', hue='income', data=data, ax=axes)"
   ]
  },
  {
   "cell_type": "code",
   "execution_count": 43,
   "metadata": {
    "collapsed": false
   },
   "outputs": [
    {
     "data": {
      "text/plain": [
       "<matplotlib.axes._subplots.AxesSubplot at 0x7f6491579890>"
      ]
     },
     "execution_count": 43,
     "metadata": {},
     "output_type": "execute_result"
    },
    {
     "data": {
      "image/png": "[encoded data removed]",
      "text/plain": [
       "<matplotlib.figure.Figure at 0x7f6490cbe550>"
      ]
     },
     "metadata": {},
     "output_type": "display_data"
    }
   ],
   "source": [
    "fig, axes = plt.subplots(nrows=1, ncols=1, figsize=(10,10))\n",
    "sns.countplot(y='race', hue='income', data=data, ax=axes)"
   ]
  },
  {
   "cell_type": "code",
   "execution_count": 76,
   "metadata": {
    "collapsed": false
   },
   "outputs": [
    {
     "data": {
      "text/plain": [
       "<matplotlib.axes._subplots.AxesSubplot at 0x7f648ad35b10>"
      ]
     },
     "execution_count": 76,
     "metadata": {},
     "output_type": "execute_result"
    },
    {
     "data": {
      "image/png": "[encoded data removed]",
      "text/plain": [
       "<matplotlib.figure.Figure at 0x7f648b3b8ed0>"
      ]
     },
     "metadata": {},
     "output_type": "display_data"
    }
   ],
   "source": [
    "fig, axes = plt.subplots(nrows=1, ncols=1, figsize=(10,10))\n",
    "sns.countplot(y='education_level', hue='income', data=data, ax=axes)"
   ]
  },
  {
   "cell_type": "code",
   "execution_count": 53,
   "metadata": {
    "collapsed": false
   },
   "outputs": [
    {
     "data": {
      "text/plain": [
       "<matplotlib.axes._subplots.AxesSubplot at 0x7f648bf4a090>"
      ]
     },
     "execution_count": 53,
     "metadata": {},
     "output_type": "execute_result"
    },
    {
     "data": {
      "image/png": "[encoded data removed]",
      "text/plain": [
       "<matplotlib.figure.Figure at 0x7f648bf57b50>"
      ]
     },
     "metadata": {},
     "output_type": "display_data"
    }
   ],
   "source": [
    "sns.distplot(data['capital-gain'], kde=True, axlabel='capital-gain')"
   ]
  },
  {
   "cell_type": "code",
   "execution_count": 63,
   "metadata": {
    "collapsed": false
   },
   "outputs": [
    {
     "data": {
      "text/plain": [
       "count    45222.000000\n",
       "mean      1101.430344\n",
       "std       7506.430084\n",
       "min          0.000000\n",
       "25%          0.000000\n",
       "50%          0.000000\n",
       "75%          0.000000\n",
       "max      99999.000000\n",
       "Name: capital-gain, dtype: float64"
      ]
     },
     "execution_count": 63,
     "metadata": {},
     "output_type": "execute_result"
    }
   ],
   "source": [
    "data['capital-gain'].describe()"
   ]
  },
  {
   "cell_type": "code",
   "execution_count": 62,
   "metadata": {
    "collapsed": false
   },
   "outputs": [
    {
     "data": {
      "text/plain": [
       "<matplotlib.axes._subplots.AxesSubplot at 0x7f648b9121d0>"
      ]
     },
     "execution_count": 62,
     "metadata": {},
     "output_type": "execute_result"
    },
    {
     "data": {
      "image/png": "[encoded data removed]",
      "text/plain": [
       "<matplotlib.figure.Figure at 0x7f648b81a6d0>"
      ]
     },
     "metadata": {},
     "output_type": "display_data"
    }
   ],
   "source": [
    "fig, axes = plt.subplots(nrows=1, ncols=1, figsize=(10,10))\n",
    "\n",
    "up_val=40000\n",
    "low_val=0\n",
    "\n",
    "data_select=data.loc[(data['capital-gain']<=up_val) & (data['capital-gain']>low_val) ]\n",
    "\n",
    "sns.boxplot(x='income', y='capital-gain', data=data_select,ax=axes)"
   ]
  },
  {
   "cell_type": "code",
   "execution_count": 9,
   "metadata": {
    "collapsed": false
   },
   "outputs": [
    {
     "data": {
      "text/plain": [
       "<matplotlib.axes._subplots.AxesSubplot at 0x7fd2adcfb750>"
      ]
     },
     "execution_count": 9,
     "metadata": {},
     "output_type": "execute_result"
    },
    {
     "data": {
      "image/png": "[encoded data removed]",
      "text/plain": [
       "<matplotlib.figure.Figure at 0x7fd2adcfb110>"
      ]
     },
     "metadata": {},
     "output_type": "display_data"
    }
   ],
   "source": [
    "fig, axes = plt.subplots(nrows=1, ncols=1, figsize=(10,10))\n",
    "\n",
    "# up_val=40000\n",
    "# low_val=0\n",
    "\n",
    "# data_select=data.loc[(data['capital-gain']<=up_val) & (data['capital-gain']>low_val) ]\n",
    "\n",
    "sns.boxplot(x='income', y='age', data=data,ax=axes)"
   ]
  },
  {
   "cell_type": "code",
   "execution_count": 64,
   "metadata": {
    "collapsed": false
   },
   "outputs": [
    {
     "data": {
      "text/plain": [
       "count    45222.000000\n",
       "mean        88.595418\n",
       "std        404.956092\n",
       "min          0.000000\n",
       "25%          0.000000\n",
       "50%          0.000000\n",
       "75%          0.000000\n",
       "max       4356.000000\n",
       "Name: capital-loss, dtype: float64"
      ]
     },
     "execution_count": 64,
     "metadata": {},
     "output_type": "execute_result"
    }
   ],
   "source": [
    "data['capital-loss'].describe()"
   ]
  },
  {
   "cell_type": "code",
   "execution_count": 67,
   "metadata": {
    "collapsed": false
   },
   "outputs": [
    {
     "data": {
      "text/plain": [
       "<matplotlib.axes._subplots.AxesSubplot at 0x7f648b558c90>"
      ]
     },
     "execution_count": 67,
     "metadata": {},
     "output_type": "execute_result"
    },
    {
     "data": {
      "image/png": "[encoded data removed]",
      "text/plain": [
       "<matplotlib.figure.Figure at 0x7f648b4fe750>"
      ]
     },
     "metadata": {},
     "output_type": "display_data"
    }
   ],
   "source": [
    "fig, axes = plt.subplots(nrows=1, ncols=1, figsize=(10,10))\n",
    "\n",
    "up_val=3000\n",
    "low_val=0\n",
    "\n",
    "data_select=data.loc[(data['capital-loss']<=up_val) & (data['capital-loss']>low_val) ]\n",
    "\n",
    "sns.boxplot(x='income', y='capital-loss', data=data_select,ax=axes)"
   ]
  },
  {
   "cell_type": "code",
   "execution_count": 88,
   "metadata": {
    "collapsed": false
   },
   "outputs": [
    {
     "data": {
      "text/plain": [
       "<matplotlib.axes._subplots.AxesSubplot at 0x7f6490376ad0>"
      ]
     },
     "execution_count": 88,
     "metadata": {},
     "output_type": "execute_result"
    },
    {
     "data": {
      "image/png": "[encoded data removed]",
      "text/plain": [
       "<matplotlib.figure.Figure at 0x7f649031b310>"
      ]
     },
     "metadata": {},
     "output_type": "display_data"
    }
   ],
   "source": [
    "fig, axes = plt.subplots(nrows=1, ncols=1, figsize=(10,10))\n",
    "\n",
    "up_val=20\n",
    "low_val=3\n",
    "\n",
    "data_select=data.loc[(data['education-num']<=up_val) & (data['education-num']>low_val) ]\n",
    "\n",
    "sns.boxplot(x='income', y='education-num', data=data_select,ax=axes)"
   ]
  },
  {
   "cell_type": "code",
   "execution_count": null,
   "metadata": {
    "collapsed": true
   },
   "outputs": [],
   "source": []
  },
  {
   "cell_type": "code",
   "execution_count": 68,
   "metadata": {
    "collapsed": false
   },
   "outputs": [
    {
     "data": {
      "text/plain": [
       "count    45222.000000\n",
       "mean        40.938017\n",
       "std         12.007508\n",
       "min          1.000000\n",
       "25%         40.000000\n",
       "50%         40.000000\n",
       "75%         45.000000\n",
       "max         99.000000\n",
       "Name: hours-per-week, dtype: float64"
      ]
     },
     "execution_count": 68,
     "metadata": {},
     "output_type": "execute_result"
    }
   ],
   "source": [
    "data['hours-per-week'].describe()"
   ]
  },
  {
   "cell_type": "code",
   "execution_count": 74,
   "metadata": {
    "collapsed": false
   },
   "outputs": [
    {
     "data": {
      "text/plain": [
       "<matplotlib.axes._subplots.AxesSubplot at 0x7f648afff390>"
      ]
     },
     "execution_count": 74,
     "metadata": {},
     "output_type": "execute_result"
    },
    {
     "data": {
      "image/png": "[encoded data removed]",
      "text/plain": [
       "<matplotlib.figure.Figure at 0x7f648b0e0f10>"
      ]
     },
     "metadata": {},
     "output_type": "display_data"
    }
   ],
   "source": [
    "fig, axes = plt.subplots(nrows=1, ncols=1, figsize=(10,10))\n",
    "up_val=70\n",
    "low_val=30\n",
    "data_select=data.loc[(data['hours-per-week']<=up_val) & (data['hours-per-week']>low_val) ]\n",
    "\n",
    "sns.boxplot(x='income', y='hours-per-week', data=data_select,ax=axes)"
   ]
  },
  {
   "cell_type": "code",
   "execution_count": 89,
   "metadata": {
    "collapsed": true
   },
   "outputs": [],
   "source": [
    "data_test=data[['workclass', 'education_level']].copy(deep=True)"
   ]
  },
  {
   "cell_type": "code",
   "execution_count": 92,
   "metadata": {
    "collapsed": false
   },
   "outputs": [
    {
     "data": {
      "text/plain": [
       "(45222, 23)"
      ]
     },
     "execution_count": 92,
     "metadata": {},
     "output_type": "execute_result"
    }
   ],
   "source": [
    "pd.get_dummies(data_test).shape"
   ]
  },
  {
   "cell_type": "code",
   "execution_count": 93,
   "metadata": {
    "collapsed": true
   },
   "outputs": [],
   "source": [
    "income=data['income']"
   ]
  },
  {
   "cell_type": "code",
   "execution_count": 95,
   "metadata": {
    "collapsed": false
   },
   "outputs": [
    {
     "data": {
      "text/plain": [
       "<=50K    34014\n",
       ">50K     11208\n",
       "Name: income, dtype: int64"
      ]
     },
     "execution_count": 95,
     "metadata": {},
     "output_type": "execute_result"
    }
   ],
   "source": [
    "income.value_counts()"
   ]
  },
  {
   "cell_type": "code",
   "execution_count": 96,
   "metadata": {
    "collapsed": false
   },
   "outputs": [],
   "source": [
    "income=income.apply(lambda x:0 if x=='<=50K'  else 1)"
   ]
  },
  {
   "cell_type": "code",
   "execution_count": 97,
   "metadata": {
    "collapsed": false
   },
   "outputs": [
    {
     "data": {
      "text/plain": [
       "0    34014\n",
       "1    11208\n",
       "Name: income, dtype: int64"
      ]
     },
     "execution_count": 97,
     "metadata": {},
     "output_type": "execute_result"
    }
   ],
   "source": [
    "income.value_counts()"
   ]
  }
 ],
 "metadata": {
  "anaconda-cloud": {},
  "kernelspec": {
   "display_name": "Python 2",
   "language": "python",
   "name": "python2"
  },
  "language_info": {
   "codemirror_mode": {
    "name": "ipython",
    "version": 2
   },
   "file_extension": ".py",
   "mimetype": "text/x-python",
   "name": "python",
   "nbconvert_exporter": "python",
   "pygments_lexer": "ipython2",
   "version": "2.7.13"
  }
 },
 "nbformat": 4,
 "nbformat_minor": 1
}
