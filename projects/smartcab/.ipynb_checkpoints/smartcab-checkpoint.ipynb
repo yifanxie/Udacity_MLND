{
 "cells": [
  {
   "cell_type": "markdown",
   "metadata": {},
   "source": [
    "# Machine Learning Engineer Nanodegree\n",
    "## Reinforcement Learning\n",
    "## Project: Train a Smartcab to Drive\n",
    "\n",
    "Welcome to the fourth project of the Machine Learning Engineer Nanodegree! In this notebook, template code has already been provided for you to aid in your analysis of the *Smartcab* and your implemented learning algorithm. You will not need to modify the included code beyond what is requested. There will be questions that you must answer which relate to the project and the visualizations provided in the notebook. Each section where you will answer a question is preceded by a **'Question X'** header. Carefully read each question and provide thorough answers in the following text boxes that begin with **'Answer:'**. Your project submission will be evaluated based on your answers to each of the questions and the implementation you provide in `agent.py`.  \n",
    "\n",
    ">**Note:** Code and Markdown cells can be executed using the **Shift + Enter** keyboard shortcut. In addition, Markdown cells can be edited by typically double-clicking the cell to enter edit mode."
   ]
  },
  {
   "cell_type": "markdown",
   "metadata": {},
   "source": [
    "-----\n",
    "\n",
    "## Getting Started\n",
    "In this project, you will work towards constructing an optimized Q-Learning driving agent that will navigate a *Smartcab* through its environment towards a goal. Since the *Smartcab* is expected to drive passengers from one location to another, the driving agent will be evaluated on two very important metrics: **Safety** and **Reliability**. A driving agent that gets the *Smartcab* to its destination while running red lights or narrowly avoiding accidents would be considered **unsafe**. Similarly, a driving agent that frequently fails to reach the destination in time would be considered **unreliable**. Maximizing the driving agent's **safety** and **reliability** would ensure that *Smartcabs* have a permanent place in the transportation industry.\n",
    "\n",
    "**Safety** and **Reliability** are measured using a letter-grade system as follows:\n",
    "\n",
    "| Grade \t| Safety \t| Reliability \t|\n",
    "|:-----:\t|:------:\t|:-----------:\t|\n",
    "|   A+  \t|  Agent commits no traffic violations,<br/>and always chooses the correct action. | Agent reaches the destination in time<br />for 100% of trips. |\n",
    "|   A   \t|  Agent commits few minor traffic violations,<br/>such as failing to move on a green light. | Agent reaches the destination on time<br />for at least 90% of trips. |\n",
    "|   B   \t| Agent commits frequent minor traffic violations,<br/>such as failing to move on a green light. | Agent reaches the destination on time<br />for at least 80% of trips. |\n",
    "|   C   \t|  Agent commits at least one major traffic violation,<br/> such as driving through a red light. | Agent reaches the destination on time<br />for at least 70% of trips. |\n",
    "|   D   \t| Agent causes at least one minor accident,<br/> such as turning left on green with oncoming traffic.       \t| Agent reaches the destination on time<br />for at least 60% of trips. |\n",
    "|   F   \t|  Agent causes at least one major accident,<br />such as driving through a red light with cross-traffic.      \t| Agent fails to reach the destination on time<br />for at least 60% of trips. |\n",
    "\n",
    "To assist evaluating these important metrics, you will need to load visualization code that will be used later on in the project. Run the code cell below to import this code which is required for your analysis."
   ]
  },
  {
   "cell_type": "code",
   "execution_count": 1,
   "metadata": {
    "collapsed": true
   },
   "outputs": [],
   "source": [
    "# Import the visualization code\n",
    "import visuals as vs\n",
    "\n",
    "# Pretty display for notebooks\n",
    "%matplotlib inline"
   ]
  },
  {
   "cell_type": "markdown",
   "metadata": {},
   "source": [
    "### Understand the World\n",
    "Before starting to work on implementing your driving agent, it's necessary to first understand the world (environment) which the *Smartcab* and driving agent work in. One of the major components to building a self-learning agent is understanding the characteristics about the agent, which includes how the agent operates. To begin, simply run the `agent.py` agent code exactly how it is -- no need to make any additions whatsoever. Let the resulting simulation run for some time to see the various working components. Note that in the visual simulation (if enabled), the **white vehicle** is the *Smartcab*."
   ]
  },
  {
   "cell_type": "markdown",
   "metadata": {},
   "source": [
    "### Question 1\n",
    "In a few sentences, describe what you observe during the simulation when running the default `agent.py` agent code. Some things you could consider:\n",
    "- *Does the Smartcab move at all during the simulation?*\n",
    "- *What kind of rewards is the driving agent receiving?*\n",
    "- *How does the light changing color affect the rewards?*  \n",
    "\n",
    "**Hint:** From the `/smartcab/` top-level directory (where this notebook is located), run the command \n",
    "```bash\n",
    "'python smartcab/agent.py'\n",
    "```"
   ]
  },
  {
   "cell_type": "markdown",
   "metadata": {},
   "source": [
    "**Answer:**\n",
    "\n",
    "In this default situation,  the Smartcab doesn't move at all.\n",
    "\n",
    "The agent was receiving a positive reward when 1) the agent was idle at a red light, 2) the agent was idle at a green light with oncoming traffic.   In the other hand, the agent was receiving a negative reward when there was a green light with no oncoming traffic.\n",
    "\n",
    "In this default situation, the agent is idle, and the positive reward received while idle was generally smaller than the negative reward in absolute value.  So the agent will overall receive a negative total sum of reward if staying in idle position for long period. \n"
   ]
  },
  {
   "cell_type": "markdown",
   "metadata": {},
   "source": [
    "### Understand the Code\n",
    "In addition to understanding the world, it is also necessary to understand the code itself that governs how the world, simulation, and so on operate. Attempting to create a driving agent would be difficult without having at least explored the *\"hidden\"* devices that make everything work. In the `/smartcab/` top-level directory, there are two folders: `/logs/` (which will be used later) and `/smartcab/`. Open the `/smartcab/` folder and explore each Python file included, then answer the following question."
   ]
  },
  {
   "cell_type": "markdown",
   "metadata": {},
   "source": [
    "### Question 2\n",
    "- *In the *`agent.py`* Python file, choose three flags that can be set and explain how they change the simulation.*\n",
    "- *In the *`environment.py`* Python file, what Environment class function is called when an agent performs an action?*\n",
    "- *In the *`simulator.py`* Python file, what is the difference between the *`'render_text()'`* function and the *`'render()'`* function?*\n",
    "- *In the *`planner.py`* Python file, will the *`'next_waypoint()`* function consider the North-South or East-West direction first?*"
   ]
  },
  {
   "cell_type": "markdown",
   "metadata": {},
   "source": [
    "**Answer:**\n",
    "\n",
    "In the agent.py python file, The three flags that are chosen to be discussed are *epsilon*, *alpha*, and *enforce_deadline*. the *epsilon* flag set the continuous value for the exploration factor with a default value to be 1. The higher the *epsilon* is set, the more  the agent will lean toward exploration by choosing a random action. In a testing scenario, this value will be set to 0. The *alpha* flag set the continuous value for the learning rate of the agent with a default value at 0.5. The higher the *alpha* value, the more the agent will consider new experience in its evaluation. In a testing scenario, this value is also set to 0.  The *enforce_deadline* flag, when set to true, will enforce a deadline metric. The environment will give a penalty when based on the time remaining when this flag is set, and the simulation trial will be aborted when time runs out. \n",
    "\n",
    "In the environment.py python file, the function 'act()' of the *Environment* class is called when an agent performs an action, it considers the action and perform it if it is legal, and returns the reward based on traffic laws\n",
    "\n",
    "In the simulation.py python file, both the 'render_text()' and 'render()' function display information of the simulation. The difference is that the 'render_text()' function displays non-GUI information in the terminal or command prompt, while the 'render()' function displays the GUI of the simulation.\n",
    "\n",
    "In the planner.py python file, the 'next_waypoint()' function consider the *East-West* direction before the *Nort-South* direction, by considering if dx!=0 (check if the destination is cardinally East or West of location) before if dy!=0 (check if the destination is cardinally North or South of location)"
   ]
  },
  {
   "cell_type": "markdown",
   "metadata": {},
   "source": [
    "-----\n",
    "## Implement a Basic Driving Agent\n",
    "\n",
    "The first step to creating an optimized Q-Learning driving agent is getting the agent to actually take valid actions. In this case, a valid action is one of `None`, (do nothing) `'Left'` (turn left), `'Right'` (turn right), or `'Forward'` (go forward). For your first implementation, navigate to the `'choose_action()'` agent function and make the driving agent randomly choose one of these actions. Note that you have access to several class variables that will help you write this functionality, such as `'self.learning'` and `'self.valid_actions'`. Once implemented, run the agent file and simulation briefly to confirm that your driving agent is taking a random action each time step."
   ]
  },
  {
   "cell_type": "markdown",
   "metadata": {},
   "source": [
    "### Basic Agent Simulation Results\n",
    "To obtain results from the initial simulation, you will need to adjust following flags:\n",
    "- `'enforce_deadline'` - Set this to `True` to force the driving agent to capture whether it reaches the destination in time.\n",
    "- `'update_delay'` - Set this to a small value (such as `0.01`) to reduce the time between steps in each trial.\n",
    "- `'log_metrics'` - Set this to `True` to log the simluation results as a `.csv` file in `/logs/`.\n",
    "- `'n_test'` - Set this to `'10'` to perform 10 testing trials.\n",
    "\n",
    "Optionally, you may disable to the visual simulation (which can make the trials go faster) by setting the `'display'` flag to `False`. Flags that have been set here should be returned to their default setting when debugging. It is important that you understand what each flag does and how it affects the simulation!\n",
    "\n",
    "Once you have successfully completed the initial simulation (there should have been 20 training trials and 10 testing trials), run the code cell below to visualize the results. Note that log files are overwritten when identical simulations are run, so be careful with what log file is being loaded!\n",
    "Run the agent.py file after setting the flags from projects/smartcab folder instead of projects/smartcab/smartcab.\n"
   ]
  },
  {
   "cell_type": "code",
   "execution_count": 4,
   "metadata": {},
   "outputs": [
    {
     "data": {
      "image/png": "[encoded data removed]",
      "text/plain": [
       "<matplotlib.figure.Figure at 0x7f54b50f1c10>"
      ]
     },
     "metadata": {},
     "output_type": "display_data"
    }
   ],
   "source": [
    "# Load the 'sim_no-learning' log file from the initial simulation results\n",
    "# back up log_file for this plot: sim_no-learning_20170618.csv\n",
    "vs.plot_trials('sim_no-learning.csv')"
   ]
  },
  {
   "cell_type": "code",
   "execution_count": 5,
   "metadata": {},
   "outputs": [
    {
     "data": {
      "text/html": [
       "<div>\n",
       "<table border=\"1\" class=\"dataframe\">\n",
       "  <thead>\n",
       "    <tr style=\"text-align: right;\">\n",
       "      <th></th>\n",
       "      <th>trial</th>\n",
       "      <th>testing</th>\n",
       "      <th>parameters</th>\n",
       "      <th>initial_deadline</th>\n",
       "      <th>final_deadline</th>\n",
       "      <th>net_reward</th>\n",
       "      <th>actions</th>\n",
       "      <th>success</th>\n",
       "    </tr>\n",
       "  </thead>\n",
       "  <tbody>\n",
       "    <tr>\n",
       "      <th>0</th>\n",
       "      <td>1</td>\n",
       "      <td>False</td>\n",
       "      <td>{'a': 0.5, 'e': 1.0}</td>\n",
       "      <td>25</td>\n",
       "      <td>0</td>\n",
       "      <td>-186.403226</td>\n",
       "      <td>{0: 14, 1: 2, 2: 5, 3: 1, 4: 3}</td>\n",
       "      <td>0</td>\n",
       "    </tr>\n",
       "    <tr>\n",
       "      <th>1</th>\n",
       "      <td>2</td>\n",
       "      <td>False</td>\n",
       "      <td>{'a': 0.5, 'e': 1.0}</td>\n",
       "      <td>30</td>\n",
       "      <td>0</td>\n",
       "      <td>-102.950804</td>\n",
       "      <td>{0: 21, 1: 1, 2: 5, 3: 2, 4: 1}</td>\n",
       "      <td>0</td>\n",
       "    </tr>\n",
       "    <tr>\n",
       "      <th>2</th>\n",
       "      <td>3</td>\n",
       "      <td>False</td>\n",
       "      <td>{'a': 0.5, 'e': 1.0}</td>\n",
       "      <td>20</td>\n",
       "      <td>0</td>\n",
       "      <td>-27.946618</td>\n",
       "      <td>{0: 16, 1: 1, 2: 2, 3: 1, 4: 0}</td>\n",
       "      <td>0</td>\n",
       "    </tr>\n",
       "    <tr>\n",
       "      <th>3</th>\n",
       "      <td>4</td>\n",
       "      <td>False</td>\n",
       "      <td>{'a': 0.5, 'e': 1.0}</td>\n",
       "      <td>20</td>\n",
       "      <td>0</td>\n",
       "      <td>-105.281227</td>\n",
       "      <td>{0: 10, 1: 1, 2: 7, 3: 2, 4: 0}</td>\n",
       "      <td>0</td>\n",
       "    </tr>\n",
       "    <tr>\n",
       "      <th>4</th>\n",
       "      <td>5</td>\n",
       "      <td>False</td>\n",
       "      <td>{'a': 0.5, 'e': 1.0}</td>\n",
       "      <td>30</td>\n",
       "      <td>0</td>\n",
       "      <td>-159.883585</td>\n",
       "      <td>{0: 13, 1: 6, 2: 9, 3: 1, 4: 1}</td>\n",
       "      <td>0</td>\n",
       "    </tr>\n",
       "    <tr>\n",
       "      <th>5</th>\n",
       "      <td>6</td>\n",
       "      <td>False</td>\n",
       "      <td>{'a': 0.5, 'e': 1.0}</td>\n",
       "      <td>25</td>\n",
       "      <td>0</td>\n",
       "      <td>-38.851166</td>\n",
       "      <td>{0: 19, 1: 1, 2: 4, 3: 1, 4: 0}</td>\n",
       "      <td>0</td>\n",
       "    </tr>\n",
       "    <tr>\n",
       "      <th>6</th>\n",
       "      <td>7</td>\n",
       "      <td>False</td>\n",
       "      <td>{'a': 0.5, 'e': 1.0}</td>\n",
       "      <td>20</td>\n",
       "      <td>0</td>\n",
       "      <td>-108.666247</td>\n",
       "      <td>{0: 14, 1: 2, 2: 1, 3: 1, 4: 2}</td>\n",
       "      <td>0</td>\n",
       "    </tr>\n",
       "    <tr>\n",
       "      <th>7</th>\n",
       "      <td>8</td>\n",
       "      <td>False</td>\n",
       "      <td>{'a': 0.5, 'e': 1.0}</td>\n",
       "      <td>30</td>\n",
       "      <td>0</td>\n",
       "      <td>-281.397818</td>\n",
       "      <td>{0: 12, 1: 3, 2: 8, 3: 4, 4: 3}</td>\n",
       "      <td>0</td>\n",
       "    </tr>\n",
       "    <tr>\n",
       "      <th>8</th>\n",
       "      <td>9</td>\n",
       "      <td>False</td>\n",
       "      <td>{'a': 0.5, 'e': 1.0}</td>\n",
       "      <td>20</td>\n",
       "      <td>0</td>\n",
       "      <td>-252.957540</td>\n",
       "      <td>{0: 10, 1: 1, 2: 2, 3: 2, 4: 5}</td>\n",
       "      <td>0</td>\n",
       "    </tr>\n",
       "    <tr>\n",
       "      <th>9</th>\n",
       "      <td>10</td>\n",
       "      <td>False</td>\n",
       "      <td>{'a': 0.5, 'e': 1.0}</td>\n",
       "      <td>20</td>\n",
       "      <td>0</td>\n",
       "      <td>-71.352688</td>\n",
       "      <td>{0: 11, 1: 4, 2: 4, 3: 1, 4: 0}</td>\n",
       "      <td>0</td>\n",
       "    </tr>\n",
       "    <tr>\n",
       "      <th>10</th>\n",
       "      <td>11</td>\n",
       "      <td>False</td>\n",
       "      <td>{'a': 0.5, 'e': 1.0}</td>\n",
       "      <td>20</td>\n",
       "      <td>0</td>\n",
       "      <td>-126.823679</td>\n",
       "      <td>{0: 11, 1: 2, 2: 3, 3: 3, 4: 1}</td>\n",
       "      <td>0</td>\n",
       "    </tr>\n",
       "    <tr>\n",
       "      <th>11</th>\n",
       "      <td>12</td>\n",
       "      <td>False</td>\n",
       "      <td>{'a': 0.5, 'e': 1.0}</td>\n",
       "      <td>20</td>\n",
       "      <td>0</td>\n",
       "      <td>-64.502586</td>\n",
       "      <td>{0: 15, 1: 1, 2: 2, 3: 1, 4: 1}</td>\n",
       "      <td>0</td>\n",
       "    </tr>\n",
       "    <tr>\n",
       "      <th>12</th>\n",
       "      <td>13</td>\n",
       "      <td>False</td>\n",
       "      <td>{'a': 0.5, 'e': 1.0}</td>\n",
       "      <td>25</td>\n",
       "      <td>0</td>\n",
       "      <td>-184.087989</td>\n",
       "      <td>{0: 14, 1: 2, 2: 5, 3: 1, 4: 3}</td>\n",
       "      <td>0</td>\n",
       "    </tr>\n",
       "    <tr>\n",
       "      <th>13</th>\n",
       "      <td>14</td>\n",
       "      <td>False</td>\n",
       "      <td>{'a': 0.5, 'e': 1.0}</td>\n",
       "      <td>20</td>\n",
       "      <td>0</td>\n",
       "      <td>-18.860187</td>\n",
       "      <td>{0: 16, 1: 1, 2: 3, 3: 0, 4: 0}</td>\n",
       "      <td>0</td>\n",
       "    </tr>\n",
       "    <tr>\n",
       "      <th>14</th>\n",
       "      <td>15</td>\n",
       "      <td>False</td>\n",
       "      <td>{'a': 0.5, 'e': 1.0}</td>\n",
       "      <td>20</td>\n",
       "      <td>0</td>\n",
       "      <td>-26.828927</td>\n",
       "      <td>{0: 14, 1: 4, 2: 2, 3: 0, 4: 0}</td>\n",
       "      <td>0</td>\n",
       "    </tr>\n",
       "    <tr>\n",
       "      <th>15</th>\n",
       "      <td>16</td>\n",
       "      <td>False</td>\n",
       "      <td>{'a': 0.5, 'e': 1.0}</td>\n",
       "      <td>20</td>\n",
       "      <td>4</td>\n",
       "      <td>-62.630392</td>\n",
       "      <td>{0: 7, 1: 4, 2: 5, 3: 0, 4: 0}</td>\n",
       "      <td>1</td>\n",
       "    </tr>\n",
       "    <tr>\n",
       "      <th>16</th>\n",
       "      <td>17</td>\n",
       "      <td>False</td>\n",
       "      <td>{'a': 0.5, 'e': 1.0}</td>\n",
       "      <td>20</td>\n",
       "      <td>0</td>\n",
       "      <td>-133.713100</td>\n",
       "      <td>{0: 11, 1: 1, 2: 6, 3: 0, 4: 2}</td>\n",
       "      <td>0</td>\n",
       "    </tr>\n",
       "    <tr>\n",
       "      <th>17</th>\n",
       "      <td>18</td>\n",
       "      <td>False</td>\n",
       "      <td>{'a': 0.5, 'e': 1.0}</td>\n",
       "      <td>25</td>\n",
       "      <td>0</td>\n",
       "      <td>-70.164859</td>\n",
       "      <td>{0: 19, 1: 2, 2: 2, 3: 1, 4: 1}</td>\n",
       "      <td>0</td>\n",
       "    </tr>\n",
       "    <tr>\n",
       "      <th>18</th>\n",
       "      <td>19</td>\n",
       "      <td>False</td>\n",
       "      <td>{'a': 0.5, 'e': 1.0}</td>\n",
       "      <td>20</td>\n",
       "      <td>11</td>\n",
       "      <td>-14.110239</td>\n",
       "      <td>{0: 6, 1: 2, 2: 1, 3: 0, 4: 0}</td>\n",
       "      <td>1</td>\n",
       "    </tr>\n",
       "    <tr>\n",
       "      <th>19</th>\n",
       "      <td>20</td>\n",
       "      <td>False</td>\n",
       "      <td>{'a': 0.5, 'e': 1.0}</td>\n",
       "      <td>25</td>\n",
       "      <td>0</td>\n",
       "      <td>-243.903905</td>\n",
       "      <td>{0: 13, 1: 4, 2: 2, 3: 1, 4: 5}</td>\n",
       "      <td>0</td>\n",
       "    </tr>\n",
       "  </tbody>\n",
       "</table>\n",
       "</div>"
      ],
      "text/plain": [
       "    trial testing            parameters  initial_deadline  final_deadline  \\\n",
       "0       1   False  {'a': 0.5, 'e': 1.0}                25               0   \n",
       "1       2   False  {'a': 0.5, 'e': 1.0}                30               0   \n",
       "2       3   False  {'a': 0.5, 'e': 1.0}                20               0   \n",
       "3       4   False  {'a': 0.5, 'e': 1.0}                20               0   \n",
       "4       5   False  {'a': 0.5, 'e': 1.0}                30               0   \n",
       "5       6   False  {'a': 0.5, 'e': 1.0}                25               0   \n",
       "6       7   False  {'a': 0.5, 'e': 1.0}                20               0   \n",
       "7       8   False  {'a': 0.5, 'e': 1.0}                30               0   \n",
       "8       9   False  {'a': 0.5, 'e': 1.0}                20               0   \n",
       "9      10   False  {'a': 0.5, 'e': 1.0}                20               0   \n",
       "10     11   False  {'a': 0.5, 'e': 1.0}                20               0   \n",
       "11     12   False  {'a': 0.5, 'e': 1.0}                20               0   \n",
       "12     13   False  {'a': 0.5, 'e': 1.0}                25               0   \n",
       "13     14   False  {'a': 0.5, 'e': 1.0}                20               0   \n",
       "14     15   False  {'a': 0.5, 'e': 1.0}                20               0   \n",
       "15     16   False  {'a': 0.5, 'e': 1.0}                20               4   \n",
       "16     17   False  {'a': 0.5, 'e': 1.0}                20               0   \n",
       "17     18   False  {'a': 0.5, 'e': 1.0}                25               0   \n",
       "18     19   False  {'a': 0.5, 'e': 1.0}                20              11   \n",
       "19     20   False  {'a': 0.5, 'e': 1.0}                25               0   \n",
       "\n",
       "    net_reward                          actions  success  \n",
       "0  -186.403226  {0: 14, 1: 2, 2: 5, 3: 1, 4: 3}        0  \n",
       "1  -102.950804  {0: 21, 1: 1, 2: 5, 3: 2, 4: 1}        0  \n",
       "2   -27.946618  {0: 16, 1: 1, 2: 2, 3: 1, 4: 0}        0  \n",
       "3  -105.281227  {0: 10, 1: 1, 2: 7, 3: 2, 4: 0}        0  \n",
       "4  -159.883585  {0: 13, 1: 6, 2: 9, 3: 1, 4: 1}        0  \n",
       "5   -38.851166  {0: 19, 1: 1, 2: 4, 3: 1, 4: 0}        0  \n",
       "6  -108.666247  {0: 14, 1: 2, 2: 1, 3: 1, 4: 2}        0  \n",
       "7  -281.397818  {0: 12, 1: 3, 2: 8, 3: 4, 4: 3}        0  \n",
       "8  -252.957540  {0: 10, 1: 1, 2: 2, 3: 2, 4: 5}        0  \n",
       "9   -71.352688  {0: 11, 1: 4, 2: 4, 3: 1, 4: 0}        0  \n",
       "10 -126.823679  {0: 11, 1: 2, 2: 3, 3: 3, 4: 1}        0  \n",
       "11  -64.502586  {0: 15, 1: 1, 2: 2, 3: 1, 4: 1}        0  \n",
       "12 -184.087989  {0: 14, 1: 2, 2: 5, 3: 1, 4: 3}        0  \n",
       "13  -18.860187  {0: 16, 1: 1, 2: 3, 3: 0, 4: 0}        0  \n",
       "14  -26.828927  {0: 14, 1: 4, 2: 2, 3: 0, 4: 0}        0  \n",
       "15  -62.630392   {0: 7, 1: 4, 2: 5, 3: 0, 4: 0}        1  \n",
       "16 -133.713100  {0: 11, 1: 1, 2: 6, 3: 0, 4: 2}        0  \n",
       "17  -70.164859  {0: 19, 1: 2, 2: 2, 3: 1, 4: 1}        0  \n",
       "18  -14.110239   {0: 6, 1: 2, 2: 1, 3: 0, 4: 0}        1  \n",
       "19 -243.903905  {0: 13, 1: 4, 2: 2, 3: 1, 4: 5}        0  "
      ]
     },
     "execution_count": 5,
     "metadata": {},
     "output_type": "execute_result"
    }
   ],
   "source": [
    "# Display the log file training content, to cross-reference with the figures above\n",
    "# only training content is displayed since the figures above are generated from the training trials\n",
    "\n",
    "import pandas as pd\n",
    "sim_no_learning=pd.read_csv('./logs/sim_no-learning.csv')\n",
    "sim_no_learning.loc[sim_no_learning.testing==False]"
   ]
  },
  {
   "cell_type": "markdown",
   "metadata": {},
   "source": [
    "### Question 3\n",
    "Using the visualization above that was produced from your initial simulation, provide an analysis and make several observations about the driving agent. Be sure that you are making at least one observation about each panel present in the visualization. Some things you could consider:\n",
    "- *How frequently is the driving agent making bad decisions? How many of those bad decisions cause accidents?*\n",
    "- *Given that the agent is driving randomly, does the rate of reliabilty make sense?*\n",
    "- *What kind of rewards is the agent receiving for its actions? Do the rewards suggest it has been penalized heavily?*\n",
    "- *As the number of trials increases, does the outcome of results change significantly?*\n",
    "- *Would this Smartcab be considered safe and/or reliable for its passengers? Why or why not?*"
   ]
  },
  {
   "cell_type": "markdown",
   "metadata": {},
   "source": [
    "**Answer:**\n",
    "\n",
    "As seen in the *10-Trial Rolling Relative Frequency of Bad Actions* figure, the driving agent was making bad decisions at between about 35% to 44% amount of the time. Among these bad actions, toward the end of the rolling period, about 5% of them were causing major accidents, and the percentage of minor accidents was about 4%\n",
    "\n",
    "\n",
    "As shown in the *10-Trial Rolling Rate of Reliability* figure, the rolling reliability was around 20% toward the end. Additionally, as shown in the log content above, there were 2 successful trials in 20 trials.  Given the fact that driving agent was driving randomly, this rate of reliability is beyond my expectation - I was expecting that the random driving agent wouldn't be able to achieve any success trial in 20 attempts. \n",
    "However, we can not totally rule out the possibility of a successful trial. A successful trial might still happen especially if the destination is not far away from the agent.\n",
    "\n",
    "As shown in the *10-Trial Rolling  Average Reward per Action* figure, the agent was receiving on average negative rewards below -4 per action. At the end of the rolling window, this value was at about -4.5. The agent in generally was receiving more penalty toward the end of the rolling period. This average reward means that the agent was on average receiving -4.5 penalty each move, almost equivalent to one minor violation (-5) per move. One can consider that the rewarding mechanism is designed to penalised heavily on bad actions. Since the percentage of bad actions was less than 50%, one can observe that the penalty received for taking bad actions outstripped the positive rewards received by taking good actions.\n",
    "\n",
    "As the number of trials increases, the outcome in each of the three figures did not change significantly, this reflects the fact that the agent was not learning from its experience. With a reliability of around 20% and a significant amount of violation and accident, this Smartcab can not be considered to be safe nor reliable for its passengers. \n"
   ]
  },
  {
   "cell_type": "markdown",
   "metadata": {},
   "source": [
    "-----\n",
    "## Inform the Driving Agent\n",
    "The second step to creating an optimized Q-learning driving agent is defining a set of states that the agent can occupy in the environment. Depending on the input, sensory data, and additional variables available to the driving agent, a set of states can be defined for the agent so that it can eventually *learn* what action it should take when occupying a state. The condition of `'if state then action'` for each state is called a **policy**, and is ultimately what the driving agent is expected to learn. Without defining states, the driving agent would never understand which action is most optimal -- or even what environmental variables and conditions it cares about!"
   ]
  },
  {
   "cell_type": "markdown",
   "metadata": {},
   "source": [
    "### Identify States\n",
    "Inspecting the `'build_state()'` agent function shows that the driving agent is given the following data from the environment:\n",
    "- `'waypoint'`, which is the direction the *Smartcab* should drive leading to the destination, relative to the *Smartcab*'s heading.\n",
    "- `'inputs'`, which is the sensor data from the *Smartcab*. It includes \n",
    "  - `'light'`, the color of the light.\n",
    "  - `'left'`, the intended direction of travel for a vehicle to the *Smartcab*'s left. Returns `None` if no vehicle is present.\n",
    "  - `'right'`, the intended direction of travel for a vehicle to the *Smartcab*'s right. Returns `None` if no vehicle is present.\n",
    "  - `'oncoming'`, the intended direction of travel for a vehicle across the intersection from the *Smartcab*. Returns `None` if no vehicle is present.\n",
    "- `'deadline'`, which is the number of actions remaining for the *Smartcab* to reach the destination before running out of time."
   ]
  },
  {
   "cell_type": "markdown",
   "metadata": {},
   "source": [
    "### Question 4\n",
    "*Which features available to the agent are most relevant for learning both **safety** and **efficiency**? Why are these features appropriate for modeling the *Smartcab* in the environment? If you did not choose some features, why are those features* not *appropriate?*"
   ]
  },
  {
   "cell_type": "markdown",
   "metadata": {},
   "source": [
    "**Answer:**\n",
    "\n",
    "for safety, the features 'light', 'left', 'right' and 'oncoming' are important. The agent needs the 'light' feature to understand when to drive through an intersection or not. and it also needs to be aware of the intended direction of other vehicles in its left, right and oncoming directions, so that it can avoid running into them. \n",
    "\n",
    "for efficiency, the features 'light', 'waypoint' and 'deadline' are important. The agent needs to avoid waiting needlessly when the light is green, and it needs to knows where is the next waypoint to move efficiently toward the destination. It needs to be aware of the deadline so that it knows whether it can be on time or not. "
   ]
  },
  {
   "cell_type": "markdown",
   "metadata": {},
   "source": [
    "### Define a State Space\n",
    "When defining a set of states that the agent can occupy, it is necessary to consider the *size* of the state space. That is to say, if you expect the driving agent to learn a **policy** for each state, you would need to have an optimal action for *every* state the agent can occupy. If the number of all possible states is very large, it might be the case that the driving agent never learns what to do in some states, which can lead to uninformed decisions. For example, consider a case where the following features are used to define the state of the *Smartcab*:\n",
    "\n",
    "`('is_raining', 'is_foggy', 'is_red_light', 'turn_left', 'no_traffic', 'previous_turn_left', 'time_of_day')`.\n",
    "\n",
    "How frequently would the agent occupy a state like `(False, True, True, True, False, False, '3AM')`? Without a near-infinite amount of time for training, it's doubtful the agent would ever learn the proper action!"
   ]
  },
  {
   "cell_type": "markdown",
   "metadata": {},
   "source": [
    "### Question 5\n",
    "*If a state is defined using the features you've selected from **Question 4**, what would be the size of the state space? Given what you know about the evironment and how it is simulated, do you think the driving agent could learn a policy for each possible state within a reasonable number of training trials?*  \n",
    "**Hint:** Consider the *combinations* of features to calculate the total number of states!"
   ]
  },
  {
   "cell_type": "markdown",
   "metadata": {},
   "source": [
    "**Answer:**\n",
    "feature space is 384 => 3x2x4x4x4"
   ]
  },
  {
   "cell_type": "markdown",
   "metadata": {},
   "source": [
    "### Update the Driving Agent State\n",
    "For your second implementation, navigate to the `'build_state()'` agent function. With the justification you've provided in **Question 4**, you will now set the `'state'` variable to a tuple of all the features necessary for Q-Learning. Confirm your driving agent is updating its state by running the agent file and simulation briefly and note whether the state is displaying. If the visual simulation is used, confirm that the updated state corresponds with what is seen in the simulation.\n",
    "\n",
    "**Note:** Remember to reset simulation flags to their default setting when making this observation!"
   ]
  },
  {
   "cell_type": "markdown",
   "metadata": {},
   "source": [
    "-----\n",
    "## Implement a Q-Learning Driving Agent\n",
    "The third step to creating an optimized Q-Learning agent is to begin implementing the functionality of Q-Learning itself. The concept of Q-Learning is fairly straightforward: For every state the agent visits, create an entry in the Q-table for all state-action pairs available. Then, when the agent encounters a state and performs an action, update the Q-value associated with that state-action pair based on the reward received and the interative update rule implemented. Of course, additional benefits come from Q-Learning, such that we can have the agent choose the *best* action for each state based on the Q-values of each state-action pair possible. For this project, you will be implementing a *decaying,* $\\epsilon$*-greedy* Q-learning algorithm with *no* discount factor. Follow the implementation instructions under each **TODO** in the agent functions.\n",
    "\n",
    "Note that the agent attribute `self.Q` is a dictionary: This is how the Q-table will be formed. Each state will be a key of the `self.Q` dictionary, and each value will then be another dictionary that holds the *action* and *Q-value*. Here is an example:\n",
    "\n",
    "```\n",
    "{ 'state-1': { \n",
    "    'action-1' : Qvalue-1,\n",
    "    'action-2' : Qvalue-2,\n",
    "     ...\n",
    "   },\n",
    "  'state-2': {\n",
    "    'action-1' : Qvalue-1,\n",
    "     ...\n",
    "   },\n",
    "   ...\n",
    "}\n",
    "```\n",
    "\n",
    "Furthermore, note that you are expected to use a *decaying* $\\epsilon$ *(exploration) factor*. Hence, as the number of trials increases, $\\epsilon$ should decrease towards 0. This is because the agent is expected to learn from its behavior and begin acting on its learned behavior. Additionally, The agent will be tested on what it has learned after $\\epsilon$ has passed a certain threshold (the default threshold is 0.01). For the initial Q-Learning implementation, you will be implementing a linear decaying function for $\\epsilon$."
   ]
  },
  {
   "cell_type": "markdown",
   "metadata": {},
   "source": [
    "### Q-Learning Simulation Results\n",
    "To obtain results from the initial Q-Learning implementation, you will need to adjust the following flags and setup:\n",
    "- `'enforce_deadline'` - Set this to `True` to force the driving agent to capture whether it reaches the destination in time.\n",
    "- `'update_delay'` - Set this to a small value (such as `0.01`) to reduce the time between steps in each trial.\n",
    "- `'log_metrics'` - Set this to `True` to log the simluation results as a `.csv` file and the Q-table as a `.txt` file in `/logs/`.\n",
    "- `'n_test'` - Set this to `'10'` to perform 10 testing trials.\n",
    "- `'learning'` - Set this to `'True'` to tell the driving agent to use your Q-Learning implementation.\n",
    "\n",
    "In addition, use the following decay function for $\\epsilon$:\n",
    "\n",
    "$$ \\epsilon_{t+1} = \\epsilon_{t} - 0.05, \\hspace{10px}\\textrm{for trial number } t$$\n",
    "\n",
    "If you have difficulty getting your implementation to work, try setting the `'verbose'` flag to `True` to help debug. Flags that have been set here should be returned to their default setting when debugging. It is important that you understand what each flag does and how it affects the simulation! \n",
    "\n",
    "Once you have successfully completed the initial Q-Learning simulation, run the code cell below to visualize the results. Note that log files are overwritten when identical simulations are run, so be careful with what log file is being loaded!"
   ]
  },
  {
   "cell_type": "code",
   "execution_count": null,
   "metadata": {
    "collapsed": true
   },
   "outputs": [],
   "source": [
    "# Load the 'sim_default-learning' file from the default Q-Learning simulation\n",
    "vs.plot_trials('sim_default-learning.csv')"
   ]
  },
  {
   "cell_type": "markdown",
   "metadata": {},
   "source": [
    "### Question 6\n",
    "Using the visualization above that was produced from your default Q-Learning simulation, provide an analysis and make observations about the driving agent like in **Question 3**. Note that the simulation should have also produced the Q-table in a text file which can help you make observations about the agent's learning. Some additional things you could consider:  \n",
    "- *Are there any observations that are similar between the basic driving agent and the default Q-Learning agent?*\n",
    "- *Approximately how many training trials did the driving agent require before testing? Does that number make sense given the epsilon-tolerance?*\n",
    "- *Is the decaying function you implemented for $\\epsilon$ (the exploration factor) accurately represented in the parameters panel?*\n",
    "- *As the number of training trials increased, did the number of bad actions decrease? Did the average reward increase?*\n",
    "- *How does the safety and reliability rating compare to the initial driving agent?*"
   ]
  },
  {
   "cell_type": "markdown",
   "metadata": {},
   "source": [
    "**Answer:**"
   ]
  },
  {
   "cell_type": "markdown",
   "metadata": {},
   "source": [
    "-----\n",
    "## Improve the Q-Learning Driving Agent\n",
    "The third step to creating an optimized Q-Learning agent is to perform the optimization! Now that the Q-Learning algorithm is implemented and the driving agent is successfully learning, it's necessary to tune settings and adjust learning paramaters so the driving agent learns both **safety** and **efficiency**. Typically this step will require a lot of trial and error, as some settings will invariably make the learning worse. One thing to keep in mind is the act of learning itself and the time that this takes: In theory, we could allow the agent to learn for an incredibly long amount of time; however, another goal of Q-Learning is to *transition from experimenting with unlearned behavior to acting on learned behavior*. For example, always allowing the agent to perform a random action during training (if $\\epsilon = 1$ and never decays) will certainly make it *learn*, but never let it *act*. When improving on your Q-Learning implementation, consider the impliciations it creates and whether it is logistically sensible to make a particular adjustment."
   ]
  },
  {
   "cell_type": "markdown",
   "metadata": {},
   "source": [
    "### Improved Q-Learning Simulation Results\n",
    "To obtain results from the initial Q-Learning implementation, you will need to adjust the following flags and setup:\n",
    "- `'enforce_deadline'` - Set this to `True` to force the driving agent to capture whether it reaches the destination in time.\n",
    "- `'update_delay'` - Set this to a small value (such as `0.01`) to reduce the time between steps in each trial.\n",
    "- `'log_metrics'` - Set this to `True` to log the simluation results as a `.csv` file and the Q-table as a `.txt` file in `/logs/`.\n",
    "- `'learning'` - Set this to `'True'` to tell the driving agent to use your Q-Learning implementation.\n",
    "- `'optimized'` - Set this to `'True'` to tell the driving agent you are performing an optimized version of the Q-Learning implementation.\n",
    "\n",
    "Additional flags that can be adjusted as part of optimizing the Q-Learning agent:\n",
    "- `'n_test'` - Set this to some positive number (previously 10) to perform that many testing trials.\n",
    "- `'alpha'` - Set this to a real number between 0 - 1 to adjust the learning rate of the Q-Learning algorithm.\n",
    "- `'epsilon'` - Set this to a real number between 0 - 1 to adjust the starting exploration factor of the Q-Learning algorithm.\n",
    "- `'tolerance'` - set this to some small value larger than 0 (default was 0.05) to set the epsilon threshold for testing.\n",
    "\n",
    "Furthermore, use a decaying function of your choice for $\\epsilon$ (the exploration factor). Note that whichever function you use, it **must decay to **`'tolerance'`** at a reasonable rate**. The Q-Learning agent will not begin testing until this occurs. Some example decaying functions (for $t$, the number of trials):\n",
    "\n",
    "$$ \\epsilon = a^t, \\textrm{for } 0 < a < 1 \\hspace{50px}\\epsilon = \\frac{1}{t^2}\\hspace{50px}\\epsilon = e^{-at}, \\textrm{for } 0 < a < 1 \\hspace{50px} \\epsilon = \\cos(at), \\textrm{for } 0 < a < 1$$\n",
    "You may also use a decaying function for $\\alpha$ (the learning rate) if you so choose, however this is typically less common. If you do so, be sure that it adheres to the inequality $0 \\leq \\alpha \\leq 1$.\n",
    "\n",
    "If you have difficulty getting your implementation to work, try setting the `'verbose'` flag to `True` to help debug. Flags that have been set here should be returned to their default setting when debugging. It is important that you understand what each flag does and how it affects the simulation! \n",
    "\n",
    "Once you have successfully completed the improved Q-Learning simulation, run the code cell below to visualize the results. Note that log files are overwritten when identical simulations are run, so be careful with what log file is being loaded!"
   ]
  },
  {
   "cell_type": "code",
   "execution_count": null,
   "metadata": {
    "collapsed": true
   },
   "outputs": [],
   "source": [
    "# Load the 'sim_improved-learning' file from the improved Q-Learning simulation\n",
    "vs.plot_trials('sim_improved-learning.csv')"
   ]
  },
  {
   "cell_type": "markdown",
   "metadata": {},
   "source": [
    "### Question 7\n",
    "Using the visualization above that was produced from your improved Q-Learning simulation, provide a final analysis and make observations about the improved driving agent like in **Question 6**. Questions you should answer:  \n",
    "- *What decaying function was used for epsilon (the exploration factor)?*\n",
    "- *Approximately how many training trials were needed for your agent before begining testing?*\n",
    "- *What epsilon-tolerance and alpha (learning rate) did you use? Why did you use them?*\n",
    "- *How much improvement was made with this Q-Learner when compared to the default Q-Learner from the previous section?*\n",
    "- *Would you say that the Q-Learner results show that your driving agent successfully learned an appropriate policy?*\n",
    "- *Are you satisfied with the safety and reliability ratings of the *Smartcab*?*"
   ]
  },
  {
   "cell_type": "markdown",
   "metadata": {},
   "source": [
    "**Answer:**"
   ]
  },
  {
   "cell_type": "markdown",
   "metadata": {},
   "source": [
    "### Define an Optimal Policy\n",
    "\n",
    "Sometimes, the answer to the important question *\"what am I trying to get my agent to learn?\"* only has a theoretical answer and cannot be concretely described. Here, however, you can concretely define what it is the agent is trying to learn, and that is the U.S. right-of-way traffic laws. Since these laws are known information, you can further define, for each state the *Smartcab* is occupying, the optimal action for the driving agent based on these laws. In that case, we call the set of optimal state-action pairs an **optimal policy**. Hence, unlike some theoretical answers, it is clear whether the agent is acting \"incorrectly\" not only by the reward (penalty) it receives, but also by pure observation. If the agent drives through a red light, we both see it receive a negative reward but also know that it is not the correct behavior. This can be used to your advantage for verifying whether the **policy** your driving agent has learned is the correct one, or if it is a **suboptimal policy**."
   ]
  },
  {
   "cell_type": "markdown",
   "metadata": {},
   "source": [
    "### Question 8\n",
    "Provide a few examples (using the states you've defined) of what an optimal policy for this problem would look like. Afterwards, investigate the `'sim_improved-learning.txt'` text file to see the results of your improved Q-Learning algorithm. _For each state that has been recorded from the simulation, is the **policy** (the action with the highest value) correct for the given state? Are there any states where the policy is different than what would be expected from an optimal policy?_ Provide an example of a state and all state-action rewards recorded, and explain why it is the correct policy."
   ]
  },
  {
   "cell_type": "markdown",
   "metadata": {},
   "source": [
    "**Answer:** "
   ]
  },
  {
   "cell_type": "markdown",
   "metadata": {},
   "source": [
    "-----\n",
    "### Optional: Future Rewards - Discount Factor, `'gamma'`\n",
    "Curiously, as part of the Q-Learning algorithm, you were asked to **not** use the discount factor, `'gamma'` in the implementation. Including future rewards in the algorithm is used to aid in propogating positive rewards backwards from a future state to the current state. Essentially, if the driving agent is given the option to make several actions to arrive at different states, including future rewards will bias the agent towards states that could provide even more rewards. An example of this would be the driving agent moving towards a goal: With all actions and rewards equal, moving towards the goal would theoretically yield better rewards if there is an additional reward for reaching the goal. However, even though in this project, the driving agent is trying to reach a destination in the allotted time, including future rewards will not benefit the agent. In fact, if the agent were given many trials to learn, it could negatively affect Q-values!"
   ]
  },
  {
   "cell_type": "markdown",
   "metadata": {},
   "source": [
    "### Optional Question 9\n",
    "*There are two characteristics about the project that invalidate the use of future rewards in the Q-Learning algorithm. One characteristic has to do with the *Smartcab* itself, and the other has to do with the environment. Can you figure out what they are and why future rewards won't work for this project?*"
   ]
  },
  {
   "cell_type": "markdown",
   "metadata": {},
   "source": [
    "**Answer:**"
   ]
  },
  {
   "cell_type": "markdown",
   "metadata": {},
   "source": [
    "> **Note**: Once you have completed all of the code implementations and successfully answered each question above, you may finalize your work by exporting the iPython Notebook as an HTML document. You can do this by using the menu above and navigating to  \n",
    "**File -> Download as -> HTML (.html)**. Include the finished document along with this notebook as your submission."
   ]
  }
 ],
 "metadata": {
  "kernelspec": {
   "display_name": "Python 2",
   "language": "python",
   "name": "python2"
  },
  "language_info": {
   "codemirror_mode": {
    "name": "ipython",
    "version": 2
   },
   "file_extension": ".py",
   "mimetype": "text/x-python",
   "name": "python",
   "nbconvert_exporter": "python",
   "pygments_lexer": "ipython2",
   "version": "2.7.13"
  }
 },
 "nbformat": 4,
 "nbformat_minor": 1
}
