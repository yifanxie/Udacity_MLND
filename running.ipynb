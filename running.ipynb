{
 "cells": [
  {
   "cell_type": "code",
   "execution_count": 100,
   "metadata": {
    "collapsed": true
   },
   "outputs": [],
   "source": [
    "import numpy as np\n",
    "import pandas as pd"
   ]
  },
  {
   "cell_type": "code",
   "execution_count": 101,
   "metadata": {
    "collapsed": true
   },
   "outputs": [],
   "source": [
    "teststr=\"london bridge is falling down falling down falling down london bridge is falling down my fair lady\"\n"
   ]
  },
  {
   "cell_type": "code",
   "execution_count": 11,
   "metadata": {
    "collapsed": false
   },
   "outputs": [],
   "source": []
  },
  {
   "cell_type": "code",
   "execution_count": 102,
   "metadata": {
    "collapsed": false
   },
   "outputs": [
    {
     "name": "stdout",
     "output_type": "stream",
     "text": [
      "[2, 4, 1, 4, 2, 1, 2, 1]\n"
     ]
    }
   ],
   "source": [
    "word_list=np.array(teststr.split())\n",
    "unique_word_list=np.unique(word_list)\n",
    "word_count=[]\n",
    "\n",
    "for word in unique_word_list:\n",
    "    word_count.append(len(word_list[word_list==word]))\n",
    "\n",
    "print(word_count)\n",
    "    "
   ]
  },
  {
   "cell_type": "code",
   "execution_count": 105,
   "metadata": {
    "collapsed": false
   },
   "outputs": [
    {
     "name": "stdout",
     "output_type": "stream",
     "text": [
      "['bridge' 'down' 'fair' 'falling' 'is' 'lady' 'london' 'my']\n",
      "[2, 4, 1, 4, 2, 1, 2, 1]\n",
      "[['bridge' '2']\n",
      " ['down' '4']\n",
      " ['fair' '1']\n",
      " ['falling' '4']\n",
      " ['is' '2']\n",
      " ['lady' '1']\n",
      " ['london' '2']\n",
      " ['my' '1']]\n"
     ]
    }
   ],
   "source": [
    "print(unique_word_list)\n",
    "print(word_count)\n",
    "\n",
    "unique_word_count=np.vstack((unique_word_list, word_count)).transpose()\n",
    "print(unique_word_count)"
   ]
  },
  {
   "cell_type": "code",
   "execution_count": 106,
   "metadata": {
    "collapsed": false
   },
   "outputs": [
    {
     "name": "stdout",
     "output_type": "stream",
     "text": [
      "      word count\n",
      "1     down     4\n",
      "3  falling     4\n",
      "0   bridge     2\n",
      "4       is     2\n",
      "6   london     2\n",
      "2     fair     1\n",
      "5     lady     1\n",
      "7       my     1\n"
     ]
    }
   ],
   "source": [
    "df=pd.DataFrame(unique_word_count, columns=['word','count'])\n",
    "\n",
    "df.sort_values(['count','word'], ascending=[False, True], inplace=True)\n",
    "\n",
    "print(df)"
   ]
  },
  {
   "cell_type": "code",
   "execution_count": 113,
   "metadata": {
    "collapsed": false
   },
   "outputs": [
    {
     "name": "stdout",
     "output_type": "stream",
     "text": [
      "      word  count\n",
      "1     down      4\n",
      "3  falling      4\n",
      "0   bridge      2\n",
      "4       is      2\n",
      "6   london      2\n",
      "2     fair      1\n",
      "5     lady      1\n",
      "7       my      1\n"
     ]
    }
   ],
   "source": [
    "s1=pd.Series(unique_word_list, name='word')\n",
    "s2=pd.Series(word_count, name='count')\n",
    "\n",
    "tdf=pd.concat([s1, s2], axis=1)\n",
    "\n",
    "\n",
    "tdf.sort_values(['count','word'], ascending=[False, True], inplace=True)\n",
    "print(tdf)\n"
   ]
  },
  {
   "cell_type": "code",
   "execution_count": null,
   "metadata": {
    "collapsed": true
   },
   "outputs": [],
   "source": []
  },
  {
   "cell_type": "code",
   "execution_count": 114,
   "metadata": {
    "collapsed": false
   },
   "outputs": [],
   "source": [
    "def count_words(s, n):\n",
    "    \"\"\"Return the n most frequently occuring words in s.\"\"\"\n",
    "    top_n=[]\n",
    "    \n",
    "    # TODO: Count the number of occurences of each word in s\n",
    "    word_list=np.array(s.split())\n",
    "    unique_word_list=np.unique(word_list)\n",
    "    word_count=[]\n",
    "\n",
    "    for word in unique_word_list:\n",
    "        word_count.append(len(word_list[word_list==word]))    \n",
    "\n",
    "        \n",
    "    word_series=pd.Series(unique_word_list, name='word')\n",
    "    count_series=pd.Series(word_count, name='count')\n",
    "    wc_df=pd.concat([word_series, count_series], axis=1)\n",
    "\n",
    "\n",
    "    # TODO: Sort the occurences in descending order (alphabetically in case of ties)\n",
    "    wc_df.sort_values(['count','word'], ascending=[False, True], inplace=True)\n",
    "    \n",
    "    # TODO: Return the top n words as a list of tuples (<word>, <count>)\n",
    "    for ind in range(0,n):\n",
    "        item=(wc_df.iloc[ind,0], wc_df.iloc[ind,1])\n",
    "        top_n.append(item)\n",
    "    return top_n\n"
   ]
  },
  {
   "cell_type": "code",
   "execution_count": 115,
   "metadata": {
    "collapsed": false
   },
   "outputs": [
    {
     "name": "stdout",
     "output_type": "stream",
     "text": [
      "[('down', 4), ('falling', 4), ('bridge', 2), ('is', 2), ('london', 2)]\n"
     ]
    }
   ],
   "source": [
    "s=\"cat cat dog dog dog before fish\"\n",
    "result=count_words(teststr, 5)\n",
    "print(result)"
   ]
  },
  {
   "cell_type": "code",
   "execution_count": 99,
   "metadata": {
    "collapsed": false
   },
   "outputs": [
    {
     "name": "stdout",
     "output_type": "stream",
     "text": [
      "[('down', '4'), ('falling', '4'), ('bridge', '2'), ('is', '2'), ('london', '2')]\n"
     ]
    },
    {
     "data": {
      "text/plain": [
       "str"
      ]
     },
     "execution_count": 99,
     "metadata": {},
     "output_type": "execute_result"
    }
   ],
   "source": [
    "\n",
    "type(result[0][1])"
   ]
  },
  {
   "cell_type": "code",
   "execution_count": null,
   "metadata": {
    "collapsed": true
   },
   "outputs": [],
   "source": []
  }
 ],
 "metadata": {
  "kernelspec": {
   "display_name": "Python 3",
   "language": "python",
   "name": "python3"
  },
  "language_info": {
   "codemirror_mode": {
    "name": "ipython",
    "version": 3
   },
   "file_extension": ".py",
   "mimetype": "text/x-python",
   "name": "python",
   "nbconvert_exporter": "python",
   "pygments_lexer": "ipython3",
   "version": "3.5.2"
  }
 },
 "nbformat": 4,
 "nbformat_minor": 0
}
