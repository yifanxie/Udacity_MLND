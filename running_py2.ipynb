{
 "cells": [
  {
   "cell_type": "code",
   "execution_count": 4,
   "metadata": {
    "collapsed": false
   },
   "outputs": [],
   "source": [
    "import sklearn.naive_bayes as naive_bayes\n",
    "from sklearn.cross_validation import train_test_split"
   ]
  },
  {
   "cell_type": "markdown",
   "metadata": {},
   "source": [
    "# 28/10/2016"
   ]
  },
  {
   "cell_type": "code",
   "execution_count": 1,
   "metadata": {
    "collapsed": false
   },
   "outputs": [
    {
     "data": {
      "text/plain": [
       "277"
      ]
     },
     "execution_count": 1,
     "metadata": {},
     "output_type": "execute_result"
    }
   ],
   "source": [
    "37+12+24+33+17+17+11+24+12+28+13+16+10+19+4"
   ]
  },
  {
   "cell_type": "markdown",
   "metadata": {},
   "source": [
    "# 20/10/2016 - machine learning metrices"
   ]
  },
  {
   "cell_type": "code",
   "execution_count": null,
   "metadata": {
    "collapsed": true
   },
   "outputs": [],
   "source": [
    "clf=naive_bayes.GaussianNB()"
   ]
  },
  {
   "cell_type": "code",
   "execution_count": 1,
   "metadata": {
    "collapsed": false
   },
   "outputs": [
    {
     "name": "stdout",
     "output_type": "stream",
     "text": [
      "Decision Tree has accuracy:  10\n"
     ]
    }
   ],
   "source": [
    "score1=10\n",
    "print \"Decision Tree has accuracy: \", score1"
   ]
  },
  {
   "cell_type": "markdown",
   "metadata": {},
   "source": [
    "Confusion matrix for this Decision Tree:\n",
    "[[112  39]\n",
    " [ 35  37]]\n",
    "GaussianNB confusion matrix:\n",
    "[[126  25]\n",
    " [ 44  28]]\n",
    "The answer you've submitted is: \n",
    "{'Naive Bayes': array([[126,  25],\n",
    "                       [ 44,  28]]),\n",
    " \n",
    " 'Decision Tree': \n",
    "         array([[112,  39],\n",
    "                [ 35,  37]])}\n",
    "                           \n",
    "                           \n",
    "TN FP\n",
    "\n",
    "FN TP"
   ]
  },
  {
   "cell_type": "code",
   "execution_count": null,
   "metadata": {
    "collapsed": true
   },
   "outputs": [],
   "source": [
    "from sklearn.cross_validation import train_test_split\n",
    "# TODO: split the data into training and testing sets,\n",
    "# using the standard settings for train_test_split.\n",
    "# Then, train and test the classifiers with your newly split data instead of X and y.\n",
    "\n",
    "\n",
    "\n",
    "X_train, X_test, y_train, y_test=train_test_split(X, y, test_size=0.4, random_state=0) \n",
    "\n",
    "clf1 = DecisionTreeClassifier()\n",
    "clf1.fit(X_train,y_train)\n",
    "recall1=recall(y_test,clf1.predict(X_test))\n",
    "precision1=precision(y_test,clf1.predict(X_test))\n",
    "\n",
    "print \"Decision Tree recall: {:.2f} and precision: {:.2f}\".format(recall1,precision1)\n",
    "\n",
    "\n",
    "clf2 = GaussianNB()\n",
    "clf2.fit(X_train,y_train)\n",
    "recall2=recall(y_test,clf1.predict(X_test))\n",
    "precision2=precision(y_test,clf1.predict(X_test))\n",
    "\n",
    "print \"GaussianNB recall: {:.2f} and precision: {:.2f}\".format(recall2,precision2)\n",
    "\n",
    "results = {\n",
    "  \"Naive Bayes Recall\": recall2,\n",
    "  \"Naive Bayes Precision\": precision2,\n",
    "  \"Decision Tree Recall\": recall1,\n",
    "  \"Decision Tree Precision\": precision1\n",
    "}"
   ]
  },
  {
   "cell_type": "markdown",
   "metadata": {},
   "source": [
    "Decision Tree recall: 0.51 and precision: 0.56\n",
    "GaussianNB recall: 0.38 and precision: 0.61\n",
    "The answer you've submitted is: {'Decision Tree Recall': 0.51470588235294112, 'Naive Bayes Recall': 0.38235294117647056, 'Decision Tree Precision': 0.56451612903225812, 'Naive Bayes Precision': 0.61176470588235299}"
   ]
  },
  {
   "cell_type": "markdown",
   "metadata": {},
   "source": [
    "Decision Tree F1 score: 0.50\n",
    "GaussianNB F1 score: 0.47\n",
    "The answer you've submitted is: {'Naive Bayes': 0.47058823529411764, 'Decision Tree': 0.49618320610687028}"
   ]
  },
  {
   "cell_type": "code",
   "execution_count": null,
   "metadata": {
    "collapsed": true
   },
   "outputs": [],
   "source": [
    "from sklearn.cross_validation import train_test_split\n",
    "X_train, X_test, y_train, y_test=train_test_split(X, y, test_size=0.4, random_state=0) \n",
    "\n",
    "\n",
    "reg1 = DecisionTreeRegressor()\n",
    "reg1.fit(X_train, y_train)\n",
    "mae1=mae(y_test, reg1.predict(X_test))\n",
    "print \"Decision Tree mean absolute error: {:.2f}\".format(mae1)\n",
    "\n",
    "reg2 = LinearRegression()\n",
    "reg2.fit(X_train, y_train)\n",
    "mae2=mae(y_test, reg2.predict(X_test))\n",
    "print \"Linear regression mean absolute error: {:.2f}\".format(mae2)\n",
    "\n",
    "results = {\n",
    " \"Linear Regression\": mae2,\n",
    " \"Decision Tree\": mae1\n",
    "}"
   ]
  }
 ],
 "metadata": {
  "anaconda-cloud": {},
  "kernelspec": {
   "display_name": "Python [conda env:snakes2]",
   "language": "python",
   "name": "conda-env-snakes2-py"
  },
  "language_info": {
   "codemirror_mode": {
    "name": "ipython",
    "version": 2
   },
   "file_extension": ".py",
   "mimetype": "text/x-python",
   "name": "python",
   "nbconvert_exporter": "python",
   "pygments_lexer": "ipython2",
   "version": "2.7.12"
  }
 },
 "nbformat": 4,
 "nbformat_minor": 1
}
