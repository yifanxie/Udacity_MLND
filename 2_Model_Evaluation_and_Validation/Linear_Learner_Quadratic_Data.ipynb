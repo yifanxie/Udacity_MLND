{
 "cells": [
  {
   "cell_type": "code",
   "execution_count": 2,
   "metadata": {
    "collapsed": false
   },
   "outputs": [],
   "source": [
    "%matplotlib inline\n",
    "from sklearn.linear_model import LinearRegression\n",
    "from sklearn.learning_curve import learning_curve\n",
    "import matplotlib.pyplot as plt\n",
    "from sklearn.metrics import explained_variance_score, make_scorer\n",
    "from sklearn.cross_validation import KFold\n",
    "import numpy as np"
   ]
  },
  {
   "cell_type": "code",
   "execution_count": 23,
   "metadata": {
    "collapsed": false
   },
   "outputs": [
    {
     "name": "stdout",
     "output_type": "stream",
     "text": [
      "Regressor score: 0.3882\n"
     ]
    },
    {
     "data": {
      "image/png": "[encoded data removed]",
      "text/plain": [
       "<matplotlib.figure.Figure at 0xa9bab38>"
      ]
     },
     "metadata": {},
     "output_type": "display_data"
    }
   ],
   "source": [
    "size = 1000\n",
    "\n",
    "# Set the learning curve parameters; you'll need this for learning_curves\n",
    "cv = KFold(size,shuffle=True)\n",
    "score = make_scorer(explained_variance_score)\n",
    "\n",
    "\n",
    "# Create a series of data that forces a learner to have high bias\n",
    "\n",
    "X = np.reshape(np.random.normal(scale=2,size=size),(-1,1))\n",
    "y = np.array([[1 - 2*x[0] +x[0]**2] for x in X])\n",
    "\n",
    "reg = LinearRegression()\n",
    "reg.fit(X,y)\n",
    "\n",
    "\n",
    "reg = LinearRegression()\n",
    "reg.fit(X,y)\n",
    "print(\"Regressor score: {:.4f}\".format(reg.score(X,y)))\n",
    "# print \"Regressor score: {:.4f}\".format(reg.score(X,y))\n",
    " \n",
    "# TODO: Use learning_curve imported above to create learning curves for both the\n",
    "#       training data and testing data. You'll need 'cv' and 'score' from above.\n",
    "\n",
    "# training_sizes, training_scores, testing_scores = (None, None, None)\n",
    "train_sizes, train_scores, test_scores = learning_curve(reg, X, y, cv=cv, scoring=score)\n",
    "\n",
    "# TODO: Plot the training curves and the testing curves\n",
    "#       Use plt.plot twice -- one for each score. Be sure to give them labels!\n",
    "\n",
    "train_scores_mean = np.mean(train_scores, axis=1)\n",
    "train_scores_std = np.std(train_scores, axis=1)\n",
    "test_scores_mean = np.mean(test_scores, axis=1)\n",
    "test_scores_std = np.std(test_scores, axis=1)\n",
    "\n",
    "plt.plot(train_sizes, train_scores_mean, 'o-', color=\"r\",\n",
    "         label=\"Training score\")\n",
    "plt.plot(train_sizes, test_scores_mean, 'o-', color=\"g\",\n",
    "         label=\"Cross-validation score\")\n",
    "\n",
    "\n",
    "# plt.fill_between(train_sizes, train_scores_mean - train_scores_std,\n",
    "#                  train_scores_mean + train_scores_std, alpha=0.1,\n",
    "#                  color=\"r\")\n",
    "# plt.fill_between(train_sizes, test_scores_mean - test_scores_std,\n",
    "#                  test_scores_mean + test_scores_std, alpha=0.1, color=\"g\")\n",
    "\n",
    "# Plot aesthetics\n",
    "plt.ylim(-0.1, 1.1)\n",
    "plt.ylabel(\"Curve Score\")\n",
    "plt.xlabel(\"Training Points\")\n",
    "plt.legend(bbox_to_anchor=(1.1, 1.1))\n",
    "plt.show()"
   ]
  },
  {
   "cell_type": "code",
   "execution_count": 14,
   "metadata": {
    "collapsed": false
   },
   "outputs": [
    {
     "data": {
      "text/plain": [
       "5"
      ]
     },
     "execution_count": 14,
     "metadata": {},
     "output_type": "execute_result"
    }
   ],
   "source": [
    "len(train_scores)\n"
   ]
  },
  {
   "cell_type": "code",
   "execution_count": 21,
   "metadata": {
    "collapsed": false
   },
   "outputs": [
    {
     "name": "stdout",
     "output_type": "stream",
     "text": [
      "[ 66 216 366 516 666]\n",
      "[[ 0.36218325  0.59328986  0.49930879]\n",
      " [ 0.43909282  0.35601849  0.35147   ]\n",
      " [ 0.465442    0.34180849  0.33881991]\n",
      " [ 0.46135935  0.35106821  0.37272985]\n",
      " [ 0.45553521  0.36099183  0.38166099]]\n",
      "[[ 0.29784553  0.41566708  0.39994337]\n",
      " [ 0.26205543  0.48275926  0.4260037 ]\n",
      " [ 0.27277671  0.47610077  0.42169788]\n",
      " [ 0.27947865  0.47460002  0.42434001]\n",
      " [ 0.28065733  0.4770514   0.42427891]]\n"
     ]
    }
   ],
   "source": [
    "print(train_sizes)\n",
    "print(train_scores)\n",
    "print(test_scores)"
   ]
  }
 ],
 "metadata": {
  "kernelspec": {
   "display_name": "Python 3",
   "language": "python",
   "name": "python3"
  },
  "language_info": {
   "codemirror_mode": {
    "name": "ipython",
    "version": 3
   },
   "file_extension": ".py",
   "mimetype": "text/x-python",
   "name": "python",
   "nbconvert_exporter": "python",
   "pygments_lexer": "ipython3",
   "version": "3.5.2"
  }
 },
 "nbformat": 4,
 "nbformat_minor": 1
}
