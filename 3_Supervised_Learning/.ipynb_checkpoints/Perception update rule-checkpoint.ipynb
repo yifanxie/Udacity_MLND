{
 "cells": [
  {
   "cell_type": "code",
   "execution_count": 1,
   "metadata": {
    "collapsed": false
   },
   "outputs": [],
   "source": [
    "import numpy as np\n",
    "\n",
    "\n"
   ]
  },
  {
   "cell_type": "code",
   "execution_count": 9,
   "metadata": {
    "collapsed": false
   },
   "outputs": [],
   "source": [
    "class Perceptron:\n",
    "    \"\"\"\n",
    "    This class models an artificial neuron with step activation function.\n",
    "    \"\"\"\n",
    "    def __init__(self, weights = np.array([1]), threshold = 0):\n",
    "        \"\"\"\n",
    "        Initialize weights and threshold based on input arguments. Note that no\n",
    "        type-checking is being performed here for simplicity.\n",
    "        \"\"\"\n",
    "        self.weights = np.float32(weights)\n",
    "        self.threshold = threshold\n",
    "\n",
    "    def activate(self, values):               \n",
    "        # First calculate the strength with which the perceptron fires\n",
    "        strength = np.dot(values,self.weights)\n",
    "        # Then return 0 or 1 depending on strength compared to threshold  \n",
    "        return int(strength > self.threshold)\n",
    "\n",
    "\n",
    "    def update(self, values, train, eta=.1):\n",
    "        \"\"\"\n",
    "        Takes in a 2D array @param values consisting of a LIST of inputs and a\n",
    "        1D array @param train, consisting of a corresponding list of expected\n",
    "        outputs. Updates internal weights according to the perceptron training\n",
    "        rule using these values and an optional learning rate, @param eta.\n",
    "        \"\"\"\n",
    "\n",
    "        # YOUR CODE HERE\n",
    "\n",
    "        # TODO: for each data point...\n",
    "        n_update=0\n",
    "        max_n=100\n",
    "        preds=-np.ones(len(train))\n",
    "#         preds=np.array([-1,-1,-1])\n",
    "#         while n_update<len(values) or ~np.array_equal(preds, train):\n",
    "        while n_update<max_n:\n",
    "            for i in xrange(0, len(train)):\n",
    "                # TODO: obtain the neuron's prediction for that point\n",
    "                current_value=values[i]\n",
    "                preds[i]=self.activate(values[i])\n",
    "                \n",
    "                # TODO: update self.weights based on prediction accuracy, learning\n",
    "                # rate and input value\n",
    "                error=train[i]-preds[i]\n",
    "                old_weight=self.weights\n",
    "                self.weights+=eta*error*values[i]\n",
    "                n_update+=1\n",
    "#                 print(train[i], preds[i], old_weight, self.weights)\n",
    "#                 print(train[i], preds[i], old_weight, self.weights)\n",
    "                print(train, preds)\n",
    "                print(self.weights)\n",
    "            if  np.array_equal(preds, train): break\n",
    "        print('{:d} updates has taken place'.format(n_update))\n",
    "        "
   ]
  },
  {
   "cell_type": "code",
   "execution_count": 6,
   "metadata": {
    "collapsed": false
   },
   "outputs": [
    {
     "name": "stdout",
     "output_type": "stream",
     "text": [
      "n is 10\n"
     ]
    }
   ],
   "source": [
    "n=10\n",
    "print('n is {:d}'.format(n))"
   ]
  },
  {
   "cell_type": "code",
   "execution_count": 11,
   "metadata": {
    "collapsed": false
   },
   "outputs": [
    {
     "name": "stdout",
     "output_type": "stream",
     "text": [
      "(array([0, 1, 0]), array([ 1., -1., -1.]))\n",
      "[ 2.79999995  0.2         1.60000002]\n",
      "(array([0, 1, 0]), array([ 1.,  0., -1.]))\n",
      "[ 2.70000005 -0.09999999  1.80000007]\n",
      "(array([0, 1, 0]), array([ 1.,  0.,  1.]))\n",
      "[ 2.70000005 -0.29999998  1.70000005]\n",
      "(array([0, 1, 0]), array([ 1.,  0.,  1.]))\n",
      "[ 2.5        -0.09999998  1.30000007]\n",
      "(array([0, 1, 0]), array([ 1.,  1.,  1.]))\n",
      "[ 2.5        -0.09999998  1.30000007]\n",
      "(array([0, 1, 0]), array([ 1.,  1.,  1.]))\n",
      "[ 2.5        -0.29999998  1.20000005]\n",
      "(array([0, 1, 0]), array([ 1.,  1.,  1.]))\n",
      "[ 2.29999995 -0.09999998  0.80000007]\n",
      "(array([0, 1, 0]), array([ 1.,  0.,  1.]))\n",
      "[ 2.20000005 -0.39999998  1.00000012]\n",
      "(array([0, 1, 0]), array([ 1.,  0.,  1.]))\n",
      "[ 2.20000005 -0.59999996  0.9000001 ]\n",
      "(array([0, 1, 0]), array([ 1.,  0.,  1.]))\n",
      "[ 2.         -0.39999998  0.50000012]\n",
      "(array([0, 1, 0]), array([ 1.,  1.,  1.]))\n",
      "[ 2.         -0.39999998  0.50000012]\n",
      "(array([0, 1, 0]), array([ 1.,  1.,  0.]))\n",
      "[ 2.         -0.39999998  0.50000012]\n",
      "(array([0, 1, 0]), array([ 1.,  1.,  0.]))\n",
      "[ 1.79999995 -0.19999997  0.10000012]\n",
      "(array([0, 1, 0]), array([ 1.,  0.,  0.]))\n",
      "[ 1.69999993 -0.49999997  0.30000013]\n",
      "(array([0, 1, 0]), array([ 1.,  0.,  0.]))\n",
      "[ 1.69999993 -0.49999997  0.30000013]\n",
      "(array([0, 1, 0]), array([ 1.,  0.,  0.]))\n",
      "[ 1.49999988 -0.29999998 -0.09999987]\n",
      "(array([0, 1, 0]), array([ 1.,  0.,  0.]))\n",
      "[ 1.39999986 -0.59999996  0.10000014]\n",
      "(array([0, 1, 0]), array([ 1.,  0.,  0.]))\n",
      "[ 1.39999986 -0.59999996  0.10000014]\n",
      "(array([0, 1, 0]), array([ 1.,  0.,  0.]))\n",
      "[ 1.19999981 -0.39999998 -0.29999986]\n",
      "(array([0, 1, 0]), array([ 1.,  0.,  0.]))\n",
      "[ 1.09999979 -0.69999999 -0.09999986]\n",
      "(array([0, 1, 0]), array([ 1.,  0.,  0.]))\n",
      "[ 1.09999979 -0.69999999 -0.09999986]\n",
      "(array([0, 1, 0]), array([ 1.,  0.,  0.]))\n",
      "[ 0.8999998  -0.5        -0.49999985]\n",
      "(array([0, 1, 0]), array([ 1.,  0.,  0.]))\n",
      "[ 0.79999977 -0.80000001 -0.29999986]\n",
      "(array([0, 1, 0]), array([ 1.,  0.,  0.]))\n",
      "[ 0.79999977 -0.80000001 -0.29999986]\n",
      "(array([0, 1, 0]), array([ 1.,  0.,  0.]))\n",
      "[ 0.59999979 -0.60000002 -0.69999987]\n",
      "(array([0, 1, 0]), array([ 1.,  0.,  0.]))\n",
      "[ 0.49999979 -0.90000004 -0.49999988]\n",
      "(array([0, 1, 0]), array([ 1.,  0.,  0.]))\n",
      "[ 0.49999979 -0.90000004 -0.49999988]\n",
      "(array([0, 1, 0]), array([ 1.,  0.,  0.]))\n",
      "[ 0.2999998  -0.70000005 -0.89999986]\n",
      "(array([0, 1, 0]), array([ 1.,  1.,  0.]))\n",
      "[ 0.2999998  -0.70000005 -0.89999986]\n",
      "(array([0, 1, 0]), array([ 1.,  1.,  0.]))\n",
      "[ 0.2999998  -0.70000005 -0.89999986]\n",
      "(array([0, 1, 0]), array([ 0.,  1.,  0.]))\n",
      "[ 0.2999998  -0.70000005 -0.89999986]\n",
      "(array([0, 1, 0]), array([ 0.,  1.,  0.]))\n",
      "[ 0.2999998  -0.70000005 -0.89999986]\n",
      "(array([0, 1, 0]), array([ 0.,  1.,  0.]))\n",
      "[ 0.2999998  -0.70000005 -0.89999986]\n",
      "33 updates has taken place\n"
     ]
    }
   ],
   "source": [
    "\n",
    "\"\"\"\n",
    "A few tests to make sure that the perceptron class performs as expected.\n",
    "Nothing should show up in the output if all the assertions pass.\n",
    "\"\"\"\n",
    "def sum_almost_equal(array1, array2, tol = 1e-6):\n",
    "    return sum(abs(array1 - array2)) < tol\n",
    "\n",
    "# p1 = Perceptron(np.array([1,1,1]),0)\n",
    "# p1.update(np.array([[2,0,-3]]), np.array([1]))\n",
    "# assert sum_almost_equal(p1.weights, np.array([1.2, 1, 0.7]))\n",
    "\n",
    "# p2 = Perceptron(np.array([1,2,3]),0)\n",
    "# p2.update(np.array([[3,2,1],[4,0,-1]]),np.array([0,0]))\n",
    "# assert sum_almost_equal(p2.weights, np.array([0.7, 1.8, 2.9]))\n",
    "\n",
    "p3 = Perceptron(np.array([3,0,2]),0)\n",
    "p3.update(np.array([[2,-2,4],[-1,-3,2],[0,2,1]]),np.array([0,1,0]))\n",
    "# assert sum_almost_equal(p3.weights, np.array([2.7, -0.3, 1.7]))\n",
    "\n"
   ]
  },
  {
   "cell_type": "code",
   "execution_count": 52,
   "metadata": {
    "collapsed": false
   },
   "outputs": [
    {
     "data": {
      "text/plain": [
       "5.9604644775390625e-08"
      ]
     },
     "execution_count": 52,
     "metadata": {},
     "output_type": "execute_result"
    }
   ],
   "source": [
    "sum(abs(p1.weights - np.array([1.2, 1, 0.7])))"
   ]
  },
  {
   "cell_type": "code",
   "execution_count": 47,
   "metadata": {
    "collapsed": false
   },
   "outputs": [
    {
     "data": {
      "text/plain": [
       "0.00039062500000008882"
      ]
     },
     "execution_count": 47,
     "metadata": {},
     "output_type": "execute_result"
    }
   ],
   "source": [
    "sum(abs(p1.weights - np.array([1.2, 1, 0.7])))"
   ]
  },
  {
   "cell_type": "code",
   "execution_count": 25,
   "metadata": {
    "collapsed": false
   },
   "outputs": [],
   "source": []
  },
  {
   "cell_type": "code",
   "execution_count": 50,
   "metadata": {
    "collapsed": false
   },
   "outputs": [
    {
     "name": "stdout",
     "output_type": "stream",
     "text": [
      "14\n"
     ]
    }
   ],
   "source": []
  },
  {
   "cell_type": "code",
   "execution_count": 51,
   "metadata": {
    "collapsed": false
   },
   "outputs": [
    {
     "data": {
      "text/plain": [
       "14"
      ]
     },
     "execution_count": 51,
     "metadata": {},
     "output_type": "execute_result"
    }
   ],
   "source": [
    "np.dot([2,6], [1,2])"
   ]
  },
  {
   "cell_type": "code",
   "execution_count": 22,
   "metadata": {
    "collapsed": false
   },
   "outputs": [
    {
     "data": {
      "text/plain": [
       "1"
      ]
     },
     "execution_count": 22,
     "metadata": {},
     "output_type": "execute_result"
    }
   ],
   "source": [
    "output_hn2"
   ]
  }
 ],
 "metadata": {
  "anaconda-cloud": {},
  "kernelspec": {
   "display_name": "Python [conda env:snakes2]",
   "language": "python",
   "name": "conda-env-snakes2-py"
  },
  "language_info": {
   "codemirror_mode": {
    "name": "ipython",
    "version": 2
   },
   "file_extension": ".py",
   "mimetype": "text/x-python",
   "name": "python",
   "nbconvert_exporter": "python",
   "pygments_lexer": "ipython2",
   "version": "2.7.12"
  }
 },
 "nbformat": 4,
 "nbformat_minor": 1
}
