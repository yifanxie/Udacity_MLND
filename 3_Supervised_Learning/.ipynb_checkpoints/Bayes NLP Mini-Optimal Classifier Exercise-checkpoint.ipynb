{
 "cells": [
  {
   "cell_type": "code",
   "execution_count": 1,
   "metadata": {
    "collapsed": true
   },
   "outputs": [],
   "source": [
    "import re\n",
    "import numpy as np"
   ]
  },
  {
   "cell_type": "code",
   "execution_count": 2,
   "metadata": {
    "collapsed": true
   },
   "outputs": [],
   "source": [
    "sample_memo = '''Milt, we're gonna need to go ahead and move you downstairs into storage B. We have some new people coming in, and we need all the space we can get. So if you could just go ahead and pack up your stuff and move it down there, that would be terrific, OK?\n",
    "Oh, and remember: next Friday... is Hawaiian shirt day. So, you know, if you want to, go ahead and wear a Hawaiian shirt and jeans.\n",
    "Oh, oh, and I almost forgot. Ahh, I'm also gonna need you to go ahead and come in on Sunday, too...\n",
    "Hello Peter, whats happening? Ummm, I'm gonna need you to go ahead and come in tomorrow. So if you could be here around 9 that would be great, mmmk... oh oh! and I almost forgot ahh, I'm also gonna need you to go ahead and come in on Sunday too, kay. We ahh lost some people this week and ah, we sorta need to play catch up.\n",
    "'''\n",
    "\n",
    "\n",
    "corrupted_memo = '''Yeah, I'm gonna --- you to go ahead --- --- complain about this. Oh, and if you could --- --- and sit at the kids' table, that'd be --- \n",
    "'''"
   ]
  },
  {
   "cell_type": "code",
   "execution_count": 4,
   "metadata": {
    "collapsed": false
   },
   "outputs": [
    {
     "data": {
      "text/plain": [
       "\"Milt, we're gonna need to go ahead and move you downstairs into storage B. We have some new people coming in, and we need all the space we can get. So if you could just go ahead and pack up your stuff and move it down there, that would be terrific, OK?\\nOh, and remember: next Friday... is Hawaiian shirt day. So, you know, if you want to, go ahead and wear a Hawaiian shirt and jeans.\\nOh, oh, and I almost forgot. Ahh, I'm also gonna need you to go ahead and come in on Sunday, too...\\nHello Peter, whats happening? Ummm, I'm gonna need you to go ahead and come in tomorrow. So if you could be here around 9 that would be great, mmmk... oh oh! and I almost forgot ahh, I'm also gonna need you to go ahead and come in on Sunday too, kay. We ahh lost some people this week and ah, we sorta need to play catch up.\\n\""
      ]
     },
     "execution_count": 4,
     "metadata": {},
     "output_type": "execute_result"
    }
   ],
   "source": [
    "sample_memo"
   ]
  },
  {
   "cell_type": "code",
   "execution_count": 108,
   "metadata": {
    "collapsed": false
   },
   "outputs": [
    {
     "data": {
      "text/plain": [
       "'for this time, for that time, for this job, for those item,\\nfor those time'"
      ]
     },
     "execution_count": 108,
     "metadata": {},
     "output_type": "execute_result"
    }
   ],
   "source": [
    "sample_memo = '''for this time, for that time, for this job, for those item,\n",
    "for those time'''\n",
    "sample_memo"
   ]
  },
  {
   "cell_type": "code",
   "execution_count": null,
   "metadata": {
    "collapsed": true
   },
   "outputs": [],
   "source": []
  },
  {
   "cell_type": "code",
   "execution_count": 68,
   "metadata": {
    "collapsed": true
   },
   "outputs": [],
   "source": [
    "#   Maximum Likelihood Hypothesis\n",
    "#\n",
    "#\n",
    "#   In this quiz we will find the maximum likelihood word based on the preceding word\n",
    "#\n",
    "#   Fill in the NextWordProbability procedure so that it takes in sample text and a word,\n",
    "#   and returns a dictionary with keys the set of words that come after, whose values are\n",
    "#   the number of times the key comes after that word.\n",
    "#   \n",
    "#   Just use .split() to split the sample_memo text into words separated by spaces.\n",
    "def NextWordProbability(sampletext,word):\n",
    "    sampletext=re.sub('[\\W]+', ' ', sampletext)\n",
    "    word_array=np.array(sampletext.lower().split())\n",
    "    word_pos=np.argwhere(word_array==word)\n",
    "    next_word=word_array[word_pos+1]\n",
    "    next_word_unique, next_word_count=np.unique(next_word, return_counts=True)\n",
    "    next_word_prob=np.float32(next_word_count)/next_word_count.sum()\n",
    "#     output_dict=dict(zip(next_word_unique,next_word_prob))\n",
    "    return next_word_unique, next_word_prob\n",
    "#     return output_dict"
   ]
  },
  {
   "cell_type": "code",
   "execution_count": 106,
   "metadata": {
    "collapsed": false
   },
   "outputs": [],
   "source": [
    "def LaterWords(sample,word,distance):\n",
    "    '''@param sample: a sample of text to draw from\n",
    "    @param word: a word occuring before a corrupted sequence\n",
    "    @param distance: how many words later to estimate (i.e. 1 for the next word, 2 for the word after that)\n",
    "    @returns: a single word which is the most likely possibility\n",
    "    '''\n",
    "    output_dict={}\n",
    "    minus_one_word, minus_one_prob=NextWordProbability(sample, word)\n",
    "    minus_one_dict=dict(zip(minus_one_word,minus_one_prob))\n",
    "    # TODO: Given a word, collect the relative probabilities of possible following words\n",
    "    # from @sample. You may want to import your code from the maximum likelihood exercise. \n",
    "    if distance==1: return minus_one_dict\n",
    "\n",
    "    # TODO: Repeat the above process--for each distance beyond 1, evaluate the words that\n",
    "    # might come after each word, and combine them weighting by relative probability\n",
    "    # into an estimate of what might appear next.\n",
    "    current_dist=2\n",
    "    while current_dist<=distance:\n",
    "        print('calculating probablity for distance {: d}'.format(current_dist))\n",
    "        key_counter=1\n",
    "        for key, prob in minus_one_dict.items():\n",
    "            key_minus_one_word, key_minus_one_prob=NextWordProbability(sample, key)\n",
    "            if key_counter==1:\n",
    "                new_minus_one_word = key_minus_one_word\n",
    "                new_minus_one_prob = key_minus_one_prob*prob\n",
    "            else:\n",
    "                new_minus_one_word=np.concatenate((new_minus_one_word, key_minus_one_word))\n",
    "                new_minus_one_prob=np.concatenate((new_minus_one_prob, key_minus_one_prob*prob))\n",
    "            key_counter+=1\n",
    "        current_dist+=1\n",
    "        \n",
    "    output_dict=zip(new_minus_one_word, new_minus_one_prob)\n",
    "    return new_minus_one_word, new_minus_one_prob"
   ]
  },
  {
   "cell_type": "code",
   "execution_count": 109,
   "metadata": {
    "collapsed": false
   },
   "outputs": [
    {
     "name": "stdout",
     "output_type": "stream",
     "text": [
      "calculating probablity for distance  2\n"
     ]
    },
    {
     "data": {
      "text/plain": [
       "[('job', 0.2), ('time', 0.2), ('item', 0.2), ('time', 0.2), ('time', 0.2)]"
      ]
     },
     "execution_count": 109,
     "metadata": {},
     "output_type": "execute_result"
    }
   ],
   "source": [
    "word='for'\n",
    "LaterWords(sample_memo, word,distance=2)"
   ]
  },
  {
   "cell_type": "code",
   "execution_count": 87,
   "metadata": {
    "collapsed": false
   },
   "outputs": [
    {
     "data": {
      "text/plain": [
       "{'that': 0.25, 'this': 0.5, 'those': 0.25}"
      ]
     },
     "execution_count": 87,
     "metadata": {},
     "output_type": "execute_result"
    }
   ],
   "source": [
    "word='for'\n",
    "test_dict=LaterWords(sample_memo, word,distance=1)\n",
    "test_dict"
   ]
  },
  {
   "cell_type": "code",
   "execution_count": 97,
   "metadata": {
    "collapsed": false
   },
   "outputs": [
    {
     "name": "stdout",
     "output_type": "stream",
     "text": [
      "this 0.5\n",
      "those 0.25\n",
      "that 0.25\n"
     ]
    }
   ],
   "source": [
    "for key, v in test_dict.items():\n",
    "    print(key,v)"
   ]
  },
  {
   "cell_type": "code",
   "execution_count": 96,
   "metadata": {
    "collapsed": false
   },
   "outputs": [
    {
     "data": {
      "text/plain": [
       "[('this', 0.5), ('those', 0.25), ('that', 0.25)]"
      ]
     },
     "execution_count": 96,
     "metadata": {},
     "output_type": "execute_result"
    }
   ],
   "source": [
    "test_dict.items()"
   ]
  },
  {
   "cell_type": "code",
   "execution_count": 64,
   "metadata": {
    "collapsed": false
   },
   "outputs": [
    {
     "name": "stdout",
     "output_type": "stream",
     "text": [
      "we\n",
      "remember\n",
      "i\n",
      "ah\n",
      "move\n",
      "jeans\n",
      "wear\n",
      "come\n",
      "pack\n"
     ]
    },
    {
     "data": {
      "text/plain": [
       "[None, None, None, None, None, None, None, None, None]"
      ]
     },
     "execution_count": 64,
     "metadata": {},
     "output_type": "execute_result"
    }
   ],
   "source": [
    "from __future__ import print_function\n",
    "[print(y) for x,y in zip(test_dict.keys(), test_dict.values]"
   ]
  },
  {
   "cell_type": "code",
   "execution_count": 74,
   "metadata": {
    "collapsed": false
   },
   "outputs": [],
   "source": [
    "a=np.array(['a','b','c'])\n",
    "b=np.array(['e','f','g'])"
   ]
  },
  {
   "cell_type": "code",
   "execution_count": 76,
   "metadata": {
    "collapsed": false
   },
   "outputs": [
    {
     "ename": "ValueError",
     "evalue": "zero-dimensional arrays cannot be concatenated",
     "output_type": "error",
     "traceback": [
      "\u001b[0;31m---------------------------------------------------------------------------\u001b[0m",
      "\u001b[0;31mValueError\u001b[0m                                Traceback (most recent call last)",
      "\u001b[0;32m<ipython-input-76-e882bfc15702>\u001b[0m in \u001b[0;36m<module>\u001b[0;34m()\u001b[0m\n\u001b[0;32m----> 1\u001b[0;31m \u001b[0mnp\u001b[0m\u001b[0;34m.\u001b[0m\u001b[0mconcatenate\u001b[0m\u001b[0;34m(\u001b[0m\u001b[0;34m(\u001b[0m\u001b[0ma\u001b[0m\u001b[0;34m)\u001b[0m\u001b[0;34m)\u001b[0m\u001b[0;34m\u001b[0m\u001b[0m\n\u001b[0m",
      "\u001b[0;31mValueError\u001b[0m: zero-dimensional arrays cannot be concatenated"
     ]
    }
   ],
   "source": [
    "np.concatenate((a))"
   ]
  },
  {
   "cell_type": "code",
   "execution_count": 38,
   "metadata": {
    "collapsed": false
   },
   "outputs": [
    {
     "data": {
      "text/plain": [
       "{'ah': 0.07692308,\n",
       " 'come': 0.23076923,\n",
       " 'i': 0.15384616,\n",
       " 'jeans': 0.07692308,\n",
       " 'move': 0.15384616,\n",
       " 'pack': 0.07692308,\n",
       " 'remember': 0.07692308,\n",
       " 'we': 0.07692308,\n",
       " 'wear': 0.07692308}"
      ]
     },
     "execution_count": 38,
     "metadata": {},
     "output_type": "execute_result"
    }
   ],
   "source": [
    "word='and'\n",
    "NextWordProbability(sample_memo, word)"
   ]
  },
  {
   "cell_type": "code",
   "execution_count": 16,
   "metadata": {
    "collapsed": false
   },
   "outputs": [
    {
     "data": {
      "text/plain": [
       "(array(['could', 'downstairs', 'know', 'to', 'want'], \n",
       "       dtype='|S10'), array([2, 1, 1, 3, 1]))"
      ]
     },
     "execution_count": 16,
     "metadata": {},
     "output_type": "execute_result"
    }
   ],
   "source": [
    "next_word_unique, next_word_count"
   ]
  },
  {
   "cell_type": "code",
   "execution_count": 25,
   "metadata": {
    "collapsed": false
   },
   "outputs": [
    {
     "data": {
      "text/plain": [
       "array([ 0.25 ,  0.125,  0.125,  0.375,  0.125], dtype=float32)"
      ]
     },
     "execution_count": 25,
     "metadata": {},
     "output_type": "execute_result"
    }
   ],
   "source": [
    "np.float32(next_word_count)/next_word_count.sum()"
   ]
  }
 ],
 "metadata": {
  "anaconda-cloud": {},
  "kernelspec": {
   "display_name": "Python [conda env:snakes2]",
   "language": "python",
   "name": "conda-env-snakes2-py"
  },
  "language_info": {
   "codemirror_mode": {
    "name": "ipython",
    "version": 2
   },
   "file_extension": ".py",
   "mimetype": "text/x-python",
   "name": "python",
   "nbconvert_exporter": "python",
   "pygments_lexer": "ipython2",
   "version": "2.7.12"
  }
 },
 "nbformat": 4,
 "nbformat_minor": 1
}
